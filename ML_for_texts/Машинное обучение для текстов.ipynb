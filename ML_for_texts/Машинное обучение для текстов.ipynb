{
 "cells": [
  {
   "cell_type": "markdown",
   "metadata": {
    "id": "fdQsaw5YZob3"
   },
   "source": [
    "# Проект"
   ]
  },
  {
   "cell_type": "markdown",
   "metadata": {
    "id": "JMVvyBcPZob5"
   },
   "source": [
    "Обучение модели классификации комментариев на позитивные и негативные. В вашем распоряжении набор данных с разметкой о токсичности правок.Значением метрики качества F1 должно быть не меньше 0.75. Данные находятся в файле /datasets/toxic_comments.csv(источник Яндекс.Практикум). Столбец text в нём содержит текст комментария, а toxic — целевой признак с разметкой о токсичности"
   ]
  },
  {
   "cell_type": "markdown",
   "metadata": {
    "id": "3j4AXaowZob6"
   },
   "source": [
    "## Подготовка"
   ]
  },
  {
   "cell_type": "code",
   "execution_count": 1,
   "metadata": {
    "colab": {
     "base_uri": "https://localhost:8080/"
    },
    "id": "BDdLYq8GaeSZ",
    "outputId": "60ef662a-89e8-439f-f239-d506b5bd4c68"
   },
   "outputs": [
    {
     "name": "stdout",
     "output_type": "stream",
     "text": [
      "Looking in indexes: https://pypi.org/simple, https://us-python.pkg.dev/colab-wheels/public/simple/\n",
      "Collecting transformers==4.11.2\n",
      "  Downloading transformers-4.11.2-py3-none-any.whl (2.9 MB)\n",
      "\u001b[K     |████████████████████████████████| 2.9 MB 5.1 MB/s \n",
      "\u001b[?25hRequirement already satisfied: requests in /usr/local/lib/python3.7/dist-packages (from transformers==4.11.2) (2.23.0)\n",
      "Requirement already satisfied: regex!=2019.12.17 in /usr/local/lib/python3.7/dist-packages (from transformers==4.11.2) (2022.6.2)\n",
      "Requirement already satisfied: tqdm>=4.27 in /usr/local/lib/python3.7/dist-packages (from transformers==4.11.2) (4.64.0)\n",
      "Collecting huggingface-hub>=0.0.17\n",
      "  Downloading huggingface_hub-0.8.1-py3-none-any.whl (101 kB)\n",
      "\u001b[K     |████████████████████████████████| 101 kB 11.6 MB/s \n",
      "\u001b[?25hRequirement already satisfied: filelock in /usr/local/lib/python3.7/dist-packages (from transformers==4.11.2) (3.7.1)\n",
      "Collecting pyyaml>=5.1\n",
      "  Downloading PyYAML-6.0-cp37-cp37m-manylinux_2_5_x86_64.manylinux1_x86_64.manylinux_2_12_x86_64.manylinux2010_x86_64.whl (596 kB)\n",
      "\u001b[K     |████████████████████████████████| 596 kB 44.0 MB/s \n",
      "\u001b[?25hCollecting tokenizers<0.11,>=0.10.1\n",
      "  Downloading tokenizers-0.10.3-cp37-cp37m-manylinux_2_5_x86_64.manylinux1_x86_64.manylinux_2_12_x86_64.manylinux2010_x86_64.whl (3.3 MB)\n",
      "\u001b[K     |████████████████████████████████| 3.3 MB 35.0 MB/s \n",
      "\u001b[?25hCollecting sacremoses\n",
      "  Downloading sacremoses-0.0.53.tar.gz (880 kB)\n",
      "\u001b[K     |████████████████████████████████| 880 kB 43.8 MB/s \n",
      "\u001b[?25hRequirement already satisfied: importlib-metadata in /usr/local/lib/python3.7/dist-packages (from transformers==4.11.2) (4.11.4)\n",
      "Requirement already satisfied: numpy>=1.17 in /usr/local/lib/python3.7/dist-packages (from transformers==4.11.2) (1.21.6)\n",
      "Requirement already satisfied: packaging>=20.0 in /usr/local/lib/python3.7/dist-packages (from transformers==4.11.2) (21.3)\n",
      "Requirement already satisfied: typing-extensions>=3.7.4.3 in /usr/local/lib/python3.7/dist-packages (from huggingface-hub>=0.0.17->transformers==4.11.2) (4.1.1)\n",
      "Requirement already satisfied: pyparsing!=3.0.5,>=2.0.2 in /usr/local/lib/python3.7/dist-packages (from packaging>=20.0->transformers==4.11.2) (3.0.9)\n",
      "Requirement already satisfied: zipp>=0.5 in /usr/local/lib/python3.7/dist-packages (from importlib-metadata->transformers==4.11.2) (3.8.0)\n",
      "Requirement already satisfied: chardet<4,>=3.0.2 in /usr/local/lib/python3.7/dist-packages (from requests->transformers==4.11.2) (3.0.4)\n",
      "Requirement already satisfied: urllib3!=1.25.0,!=1.25.1,<1.26,>=1.21.1 in /usr/local/lib/python3.7/dist-packages (from requests->transformers==4.11.2) (1.24.3)\n",
      "Requirement already satisfied: certifi>=2017.4.17 in /usr/local/lib/python3.7/dist-packages (from requests->transformers==4.11.2) (2022.6.15)\n",
      "Requirement already satisfied: idna<3,>=2.5 in /usr/local/lib/python3.7/dist-packages (from requests->transformers==4.11.2) (2.10)\n",
      "Requirement already satisfied: six in /usr/local/lib/python3.7/dist-packages (from sacremoses->transformers==4.11.2) (1.15.0)\n",
      "Requirement already satisfied: click in /usr/local/lib/python3.7/dist-packages (from sacremoses->transformers==4.11.2) (7.1.2)\n",
      "Requirement already satisfied: joblib in /usr/local/lib/python3.7/dist-packages (from sacremoses->transformers==4.11.2) (1.1.0)\n",
      "Building wheels for collected packages: sacremoses\n",
      "  Building wheel for sacremoses (setup.py) ... \u001b[?25l\u001b[?25hdone\n",
      "  Created wheel for sacremoses: filename=sacremoses-0.0.53-py3-none-any.whl size=895260 sha256=f037ea1eabb3dd0b97c83ab62dd4626d33410c9569b46c74da10d473493fb76d\n",
      "  Stored in directory: /root/.cache/pip/wheels/87/39/dd/a83eeef36d0bf98e7a4d1933a4ad2d660295a40613079bafc9\n",
      "Successfully built sacremoses\n",
      "Installing collected packages: pyyaml, tokenizers, sacremoses, huggingface-hub, transformers\n",
      "  Attempting uninstall: pyyaml\n",
      "    Found existing installation: PyYAML 3.13\n",
      "    Uninstalling PyYAML-3.13:\n",
      "      Successfully uninstalled PyYAML-3.13\n",
      "Successfully installed huggingface-hub-0.8.1 pyyaml-6.0 sacremoses-0.0.53 tokenizers-0.10.3 transformers-4.11.2\n"
     ]
    }
   ],
   "source": [
    "!pip install transformers==4.11.2"
   ]
  },
  {
   "cell_type": "code",
   "execution_count": 2,
   "metadata": {
    "colab": {
     "base_uri": "https://localhost:8080/"
    },
    "id": "QTyoYaFktUu1",
    "outputId": "1014cfec-de54-420b-fafa-9d8348585113"
   },
   "outputs": [
    {
     "name": "stdout",
     "output_type": "stream",
     "text": [
      "Looking in indexes: https://pypi.org/simple, https://us-python.pkg.dev/colab-wheels/public/simple/\n",
      "Collecting bert\n",
      "  Downloading bert-2.2.0.tar.gz (3.5 kB)\n",
      "Collecting erlastic\n",
      "  Downloading erlastic-2.0.0.tar.gz (6.8 kB)\n",
      "Building wheels for collected packages: bert, erlastic\n",
      "  Building wheel for bert (setup.py) ... \u001b[?25l\u001b[?25hdone\n",
      "  Created wheel for bert: filename=bert-2.2.0-py3-none-any.whl size=3765 sha256=7a226031d204b7a95537dd471f9093024ae929c6b7fdb22ed291799e0122c0cc\n",
      "  Stored in directory: /root/.cache/pip/wheels/bb/31/1b/c05f362e347429b7436954d1a2280fe464731e8f569123a848\n",
      "  Building wheel for erlastic (setup.py) ... \u001b[?25l\u001b[?25hdone\n",
      "  Created wheel for erlastic: filename=erlastic-2.0.0-py3-none-any.whl size=6794 sha256=e8f8dcdf44ca427e01e9beaa6ca2f1f51abf15af72ac4502352d06816c504e4a\n",
      "  Stored in directory: /root/.cache/pip/wheels/94/f1/b4/0b98b1e94775da6a0b1130e342d22af05cd269e1172c19f40f\n",
      "Successfully built bert erlastic\n",
      "Installing collected packages: erlastic, bert\n",
      "Successfully installed bert-2.2.0 erlastic-2.0.0\n"
     ]
    }
   ],
   "source": [
    "!pip install  --upgrade bert"
   ]
  },
  {
   "cell_type": "code",
   "execution_count": 3,
   "metadata": {
    "id": "2LXu1Lh4Zob7"
   },
   "outputs": [],
   "source": [
    "import lightgbm as ltb\n",
    "import matplotlib.pyplot as plt\n",
    "import nltk\n",
    "import numpy as np\n",
    "import pandas as pd\n",
    "import re\n",
    "import tensorflow_hub as hub\n",
    "import time\n",
    "import torch\n",
    "import transformers\n",
    "from google.colab import drive\n",
    "from nltk.corpus import stopwords, wordnet\n",
    "from nltk.stem import WordNetLemmatizer\n",
    "from itertools import product\n",
    "from sklearn.ensemble import RandomForestClassifier\n",
    "from sklearn.feature_extraction.text import TfidfVectorizer\n",
    "from sklearn.linear_model import LogisticRegression\n",
    "from sklearn.metrics import f1_score\n",
    "from sklearn.model_selection import train_test_split, GridSearchCV\n",
    "from sklearn.pipeline import make_pipeline\n",
    "from sklearn.tree import DecisionTreeClassifier\n",
    "from sklearn.utils import class_weight\n",
    "from textblob import TextBlob, Word\n",
    "from time import time\n",
    "from tqdm import notebook\n",
    "from transformers import BertTokenizer, TFBertModel"
   ]
  },
  {
   "cell_type": "code",
   "execution_count": 4,
   "metadata": {
    "colab": {
     "base_uri": "https://localhost:8080/"
    },
    "id": "gUAIGMXyOAK7",
    "outputId": "5795d96b-26f1-4bae-ad2e-96c66310fe66"
   },
   "outputs": [
    {
     "name": "stdout",
     "output_type": "stream",
     "text": [
      "Mounted at /content/drive\n"
     ]
    },
    {
     "name": "stderr",
     "output_type": "stream",
     "text": [
      "[nltk_data] Downloading package stopwords to /root/nltk_data...\n",
      "[nltk_data]   Unzipping corpora/stopwords.zip.\n",
      "[nltk_data] Downloading package punkt to /root/nltk_data...\n",
      "[nltk_data]   Unzipping tokenizers/punkt.zip.\n",
      "[nltk_data] Downloading package wordnet to /root/nltk_data...\n",
      "[nltk_data] Downloading package omw-1.4 to /root/nltk_data...\n",
      "[nltk_data] Downloading package averaged_perceptron_tagger to\n",
      "[nltk_data]     /root/nltk_data...\n",
      "[nltk_data]   Unzipping taggers/averaged_perceptron_tagger.zip.\n"
     ]
    },
    {
     "data": {
      "text/plain": [
       "True"
      ]
     },
     "execution_count": 4,
     "metadata": {},
     "output_type": "execute_result"
    }
   ],
   "source": [
    "RND_STATE = 125\n",
    "drive.mount('/content/drive')\n",
    "nltk.download('stopwords')\n",
    "nltk.download('punkt')\n",
    "nltk.download('wordnet')\n",
    "nltk.download('omw-1.4')\n",
    "nltk.download('averaged_perceptron_tagger')"
   ]
  },
  {
   "cell_type": "code",
   "execution_count": 5,
   "metadata": {
    "id": "7dBek2tJZob_"
   },
   "outputs": [],
   "source": [
    "data = pd.read_csv('/content/drive/My Drive/Colab Notebooks/Проект Викишоп/toxic_comments.csv')"
   ]
  },
  {
   "cell_type": "code",
   "execution_count": 6,
   "metadata": {
    "colab": {
     "base_uri": "https://localhost:8080/",
     "height": 424
    },
    "id": "jRLu8f9oZocC",
    "outputId": "58efed01-f15b-4208-ec5f-7ee9946706bd"
   },
   "outputs": [
    {
     "data": {
      "text/html": [
       "\n",
       "  <div id=\"df-f81e6586-2f71-4f36-8c3b-0f9d47149c41\">\n",
       "    <div class=\"colab-df-container\">\n",
       "      <div>\n",
       "<style scoped>\n",
       "    .dataframe tbody tr th:only-of-type {\n",
       "        vertical-align: middle;\n",
       "    }\n",
       "\n",
       "    .dataframe tbody tr th {\n",
       "        vertical-align: top;\n",
       "    }\n",
       "\n",
       "    .dataframe thead th {\n",
       "        text-align: right;\n",
       "    }\n",
       "</style>\n",
       "<table border=\"1\" class=\"dataframe\">\n",
       "  <thead>\n",
       "    <tr style=\"text-align: right;\">\n",
       "      <th></th>\n",
       "      <th>text</th>\n",
       "      <th>toxic</th>\n",
       "    </tr>\n",
       "  </thead>\n",
       "  <tbody>\n",
       "    <tr>\n",
       "      <th>6</th>\n",
       "      <td>COCKSUCKER BEFORE YOU PISS AROUND ON MY WORK</td>\n",
       "      <td>1</td>\n",
       "    </tr>\n",
       "    <tr>\n",
       "      <th>12</th>\n",
       "      <td>Hey... what is it..\\n@ | talk .\\nWhat is it......</td>\n",
       "      <td>1</td>\n",
       "    </tr>\n",
       "    <tr>\n",
       "      <th>16</th>\n",
       "      <td>Bye! \\n\\nDon't look, come or think of comming ...</td>\n",
       "      <td>1</td>\n",
       "    </tr>\n",
       "    <tr>\n",
       "      <th>42</th>\n",
       "      <td>You are gay or antisemmitian? \\n\\nArchangel WH...</td>\n",
       "      <td>1</td>\n",
       "    </tr>\n",
       "    <tr>\n",
       "      <th>43</th>\n",
       "      <td>FUCK YOUR FILTHY MOTHER IN THE ASS, DRY!</td>\n",
       "      <td>1</td>\n",
       "    </tr>\n",
       "    <tr>\n",
       "      <th>...</th>\n",
       "      <td>...</td>\n",
       "      <td>...</td>\n",
       "    </tr>\n",
       "    <tr>\n",
       "      <th>159494</th>\n",
       "      <td>\"\\n\\n our previous conversation \\n\\nyou fuckin...</td>\n",
       "      <td>1</td>\n",
       "    </tr>\n",
       "    <tr>\n",
       "      <th>159514</th>\n",
       "      <td>YOU ARE A MISCHIEVIOUS PUBIC HAIR</td>\n",
       "      <td>1</td>\n",
       "    </tr>\n",
       "    <tr>\n",
       "      <th>159541</th>\n",
       "      <td>Your absurd edits \\n\\nYour absurd edits on gre...</td>\n",
       "      <td>1</td>\n",
       "    </tr>\n",
       "    <tr>\n",
       "      <th>159546</th>\n",
       "      <td>\"\\n\\nHey listen don't you ever!!!! Delete my e...</td>\n",
       "      <td>1</td>\n",
       "    </tr>\n",
       "    <tr>\n",
       "      <th>159554</th>\n",
       "      <td>and i'm going to keep posting the stuff u dele...</td>\n",
       "      <td>1</td>\n",
       "    </tr>\n",
       "  </tbody>\n",
       "</table>\n",
       "<p>16225 rows × 2 columns</p>\n",
       "</div>\n",
       "      <button class=\"colab-df-convert\" onclick=\"convertToInteractive('df-f81e6586-2f71-4f36-8c3b-0f9d47149c41')\"\n",
       "              title=\"Convert this dataframe to an interactive table.\"\n",
       "              style=\"display:none;\">\n",
       "        \n",
       "  <svg xmlns=\"http://www.w3.org/2000/svg\" height=\"24px\"viewBox=\"0 0 24 24\"\n",
       "       width=\"24px\">\n",
       "    <path d=\"M0 0h24v24H0V0z\" fill=\"none\"/>\n",
       "    <path d=\"M18.56 5.44l.94 2.06.94-2.06 2.06-.94-2.06-.94-.94-2.06-.94 2.06-2.06.94zm-11 1L8.5 8.5l.94-2.06 2.06-.94-2.06-.94L8.5 2.5l-.94 2.06-2.06.94zm10 10l.94 2.06.94-2.06 2.06-.94-2.06-.94-.94-2.06-.94 2.06-2.06.94z\"/><path d=\"M17.41 7.96l-1.37-1.37c-.4-.4-.92-.59-1.43-.59-.52 0-1.04.2-1.43.59L10.3 9.45l-7.72 7.72c-.78.78-.78 2.05 0 2.83L4 21.41c.39.39.9.59 1.41.59.51 0 1.02-.2 1.41-.59l7.78-7.78 2.81-2.81c.8-.78.8-2.07 0-2.86zM5.41 20L4 18.59l7.72-7.72 1.47 1.35L5.41 20z\"/>\n",
       "  </svg>\n",
       "      </button>\n",
       "      \n",
       "  <style>\n",
       "    .colab-df-container {\n",
       "      display:flex;\n",
       "      flex-wrap:wrap;\n",
       "      gap: 12px;\n",
       "    }\n",
       "\n",
       "    .colab-df-convert {\n",
       "      background-color: #E8F0FE;\n",
       "      border: none;\n",
       "      border-radius: 50%;\n",
       "      cursor: pointer;\n",
       "      display: none;\n",
       "      fill: #1967D2;\n",
       "      height: 32px;\n",
       "      padding: 0 0 0 0;\n",
       "      width: 32px;\n",
       "    }\n",
       "\n",
       "    .colab-df-convert:hover {\n",
       "      background-color: #E2EBFA;\n",
       "      box-shadow: 0px 1px 2px rgba(60, 64, 67, 0.3), 0px 1px 3px 1px rgba(60, 64, 67, 0.15);\n",
       "      fill: #174EA6;\n",
       "    }\n",
       "\n",
       "    [theme=dark] .colab-df-convert {\n",
       "      background-color: #3B4455;\n",
       "      fill: #D2E3FC;\n",
       "    }\n",
       "\n",
       "    [theme=dark] .colab-df-convert:hover {\n",
       "      background-color: #434B5C;\n",
       "      box-shadow: 0px 1px 3px 1px rgba(0, 0, 0, 0.15);\n",
       "      filter: drop-shadow(0px 1px 2px rgba(0, 0, 0, 0.3));\n",
       "      fill: #FFFFFF;\n",
       "    }\n",
       "  </style>\n",
       "\n",
       "      <script>\n",
       "        const buttonEl =\n",
       "          document.querySelector('#df-f81e6586-2f71-4f36-8c3b-0f9d47149c41 button.colab-df-convert');\n",
       "        buttonEl.style.display =\n",
       "          google.colab.kernel.accessAllowed ? 'block' : 'none';\n",
       "\n",
       "        async function convertToInteractive(key) {\n",
       "          const element = document.querySelector('#df-f81e6586-2f71-4f36-8c3b-0f9d47149c41');\n",
       "          const dataTable =\n",
       "            await google.colab.kernel.invokeFunction('convertToInteractive',\n",
       "                                                     [key], {});\n",
       "          if (!dataTable) return;\n",
       "\n",
       "          const docLinkHtml = 'Like what you see? Visit the ' +\n",
       "            '<a target=\"_blank\" href=https://colab.research.google.com/notebooks/data_table.ipynb>data table notebook</a>'\n",
       "            + ' to learn more about interactive tables.';\n",
       "          element.innerHTML = '';\n",
       "          dataTable['output_type'] = 'display_data';\n",
       "          await google.colab.output.renderOutput(dataTable, element);\n",
       "          const docLink = document.createElement('div');\n",
       "          docLink.innerHTML = docLinkHtml;\n",
       "          element.appendChild(docLink);\n",
       "        }\n",
       "      </script>\n",
       "    </div>\n",
       "  </div>\n",
       "  "
      ],
      "text/plain": [
       "                                                     text  toxic\n",
       "6            COCKSUCKER BEFORE YOU PISS AROUND ON MY WORK      1\n",
       "12      Hey... what is it..\\n@ | talk .\\nWhat is it......      1\n",
       "16      Bye! \\n\\nDon't look, come or think of comming ...      1\n",
       "42      You are gay or antisemmitian? \\n\\nArchangel WH...      1\n",
       "43               FUCK YOUR FILTHY MOTHER IN THE ASS, DRY!      1\n",
       "...                                                   ...    ...\n",
       "159494  \"\\n\\n our previous conversation \\n\\nyou fuckin...      1\n",
       "159514                  YOU ARE A MISCHIEVIOUS PUBIC HAIR      1\n",
       "159541  Your absurd edits \\n\\nYour absurd edits on gre...      1\n",
       "159546  \"\\n\\nHey listen don't you ever!!!! Delete my e...      1\n",
       "159554  and i'm going to keep posting the stuff u dele...      1\n",
       "\n",
       "[16225 rows x 2 columns]"
      ]
     },
     "execution_count": 6,
     "metadata": {},
     "output_type": "execute_result"
    }
   ],
   "source": [
    "data.query('toxic == 1')"
   ]
  },
  {
   "cell_type": "code",
   "execution_count": 7,
   "metadata": {
    "colab": {
     "base_uri": "https://localhost:8080/",
     "height": 394
    },
    "id": "iabOb14zz30y",
    "outputId": "6633908a-166c-4c7d-9a89-1143216ef0d5"
   },
   "outputs": [
    {
     "data": {
      "text/html": [
       "\n",
       "  <div id=\"df-0a46fa87-61be-44aa-90d9-7484f03554ae\">\n",
       "    <div class=\"colab-df-container\">\n",
       "      <div>\n",
       "<style scoped>\n",
       "    .dataframe tbody tr th:only-of-type {\n",
       "        vertical-align: middle;\n",
       "    }\n",
       "\n",
       "    .dataframe tbody tr th {\n",
       "        vertical-align: top;\n",
       "    }\n",
       "\n",
       "    .dataframe thead th {\n",
       "        text-align: right;\n",
       "    }\n",
       "</style>\n",
       "<table border=\"1\" class=\"dataframe\">\n",
       "  <thead>\n",
       "    <tr style=\"text-align: right;\">\n",
       "      <th></th>\n",
       "      <th>text</th>\n",
       "      <th>toxic</th>\n",
       "    </tr>\n",
       "  </thead>\n",
       "  <tbody>\n",
       "    <tr>\n",
       "      <th>count</th>\n",
       "      <td>159571</td>\n",
       "      <td>159571.000000</td>\n",
       "    </tr>\n",
       "    <tr>\n",
       "      <th>unique</th>\n",
       "      <td>159571</td>\n",
       "      <td>NaN</td>\n",
       "    </tr>\n",
       "    <tr>\n",
       "      <th>top</th>\n",
       "      <td>Explanation\\nWhy the edits made under my usern...</td>\n",
       "      <td>NaN</td>\n",
       "    </tr>\n",
       "    <tr>\n",
       "      <th>freq</th>\n",
       "      <td>1</td>\n",
       "      <td>NaN</td>\n",
       "    </tr>\n",
       "    <tr>\n",
       "      <th>mean</th>\n",
       "      <td>NaN</td>\n",
       "      <td>0.101679</td>\n",
       "    </tr>\n",
       "    <tr>\n",
       "      <th>std</th>\n",
       "      <td>NaN</td>\n",
       "      <td>0.302226</td>\n",
       "    </tr>\n",
       "    <tr>\n",
       "      <th>min</th>\n",
       "      <td>NaN</td>\n",
       "      <td>0.000000</td>\n",
       "    </tr>\n",
       "    <tr>\n",
       "      <th>25%</th>\n",
       "      <td>NaN</td>\n",
       "      <td>0.000000</td>\n",
       "    </tr>\n",
       "    <tr>\n",
       "      <th>50%</th>\n",
       "      <td>NaN</td>\n",
       "      <td>0.000000</td>\n",
       "    </tr>\n",
       "    <tr>\n",
       "      <th>75%</th>\n",
       "      <td>NaN</td>\n",
       "      <td>0.000000</td>\n",
       "    </tr>\n",
       "    <tr>\n",
       "      <th>max</th>\n",
       "      <td>NaN</td>\n",
       "      <td>1.000000</td>\n",
       "    </tr>\n",
       "  </tbody>\n",
       "</table>\n",
       "</div>\n",
       "      <button class=\"colab-df-convert\" onclick=\"convertToInteractive('df-0a46fa87-61be-44aa-90d9-7484f03554ae')\"\n",
       "              title=\"Convert this dataframe to an interactive table.\"\n",
       "              style=\"display:none;\">\n",
       "        \n",
       "  <svg xmlns=\"http://www.w3.org/2000/svg\" height=\"24px\"viewBox=\"0 0 24 24\"\n",
       "       width=\"24px\">\n",
       "    <path d=\"M0 0h24v24H0V0z\" fill=\"none\"/>\n",
       "    <path d=\"M18.56 5.44l.94 2.06.94-2.06 2.06-.94-2.06-.94-.94-2.06-.94 2.06-2.06.94zm-11 1L8.5 8.5l.94-2.06 2.06-.94-2.06-.94L8.5 2.5l-.94 2.06-2.06.94zm10 10l.94 2.06.94-2.06 2.06-.94-2.06-.94-.94-2.06-.94 2.06-2.06.94z\"/><path d=\"M17.41 7.96l-1.37-1.37c-.4-.4-.92-.59-1.43-.59-.52 0-1.04.2-1.43.59L10.3 9.45l-7.72 7.72c-.78.78-.78 2.05 0 2.83L4 21.41c.39.39.9.59 1.41.59.51 0 1.02-.2 1.41-.59l7.78-7.78 2.81-2.81c.8-.78.8-2.07 0-2.86zM5.41 20L4 18.59l7.72-7.72 1.47 1.35L5.41 20z\"/>\n",
       "  </svg>\n",
       "      </button>\n",
       "      \n",
       "  <style>\n",
       "    .colab-df-container {\n",
       "      display:flex;\n",
       "      flex-wrap:wrap;\n",
       "      gap: 12px;\n",
       "    }\n",
       "\n",
       "    .colab-df-convert {\n",
       "      background-color: #E8F0FE;\n",
       "      border: none;\n",
       "      border-radius: 50%;\n",
       "      cursor: pointer;\n",
       "      display: none;\n",
       "      fill: #1967D2;\n",
       "      height: 32px;\n",
       "      padding: 0 0 0 0;\n",
       "      width: 32px;\n",
       "    }\n",
       "\n",
       "    .colab-df-convert:hover {\n",
       "      background-color: #E2EBFA;\n",
       "      box-shadow: 0px 1px 2px rgba(60, 64, 67, 0.3), 0px 1px 3px 1px rgba(60, 64, 67, 0.15);\n",
       "      fill: #174EA6;\n",
       "    }\n",
       "\n",
       "    [theme=dark] .colab-df-convert {\n",
       "      background-color: #3B4455;\n",
       "      fill: #D2E3FC;\n",
       "    }\n",
       "\n",
       "    [theme=dark] .colab-df-convert:hover {\n",
       "      background-color: #434B5C;\n",
       "      box-shadow: 0px 1px 3px 1px rgba(0, 0, 0, 0.15);\n",
       "      filter: drop-shadow(0px 1px 2px rgba(0, 0, 0, 0.3));\n",
       "      fill: #FFFFFF;\n",
       "    }\n",
       "  </style>\n",
       "\n",
       "      <script>\n",
       "        const buttonEl =\n",
       "          document.querySelector('#df-0a46fa87-61be-44aa-90d9-7484f03554ae button.colab-df-convert');\n",
       "        buttonEl.style.display =\n",
       "          google.colab.kernel.accessAllowed ? 'block' : 'none';\n",
       "\n",
       "        async function convertToInteractive(key) {\n",
       "          const element = document.querySelector('#df-0a46fa87-61be-44aa-90d9-7484f03554ae');\n",
       "          const dataTable =\n",
       "            await google.colab.kernel.invokeFunction('convertToInteractive',\n",
       "                                                     [key], {});\n",
       "          if (!dataTable) return;\n",
       "\n",
       "          const docLinkHtml = 'Like what you see? Visit the ' +\n",
       "            '<a target=\"_blank\" href=https://colab.research.google.com/notebooks/data_table.ipynb>data table notebook</a>'\n",
       "            + ' to learn more about interactive tables.';\n",
       "          element.innerHTML = '';\n",
       "          dataTable['output_type'] = 'display_data';\n",
       "          await google.colab.output.renderOutput(dataTable, element);\n",
       "          const docLink = document.createElement('div');\n",
       "          docLink.innerHTML = docLinkHtml;\n",
       "          element.appendChild(docLink);\n",
       "        }\n",
       "      </script>\n",
       "    </div>\n",
       "  </div>\n",
       "  "
      ],
      "text/plain": [
       "                                                     text          toxic\n",
       "count                                              159571  159571.000000\n",
       "unique                                             159571            NaN\n",
       "top     Explanation\\nWhy the edits made under my usern...            NaN\n",
       "freq                                                    1            NaN\n",
       "mean                                                  NaN       0.101679\n",
       "std                                                   NaN       0.302226\n",
       "min                                                   NaN       0.000000\n",
       "25%                                                   NaN       0.000000\n",
       "50%                                                   NaN       0.000000\n",
       "75%                                                   NaN       0.000000\n",
       "max                                                   NaN       1.000000"
      ]
     },
     "execution_count": 7,
     "metadata": {},
     "output_type": "execute_result"
    }
   ],
   "source": [
    "data.describe(include='all')"
   ]
  },
  {
   "cell_type": "markdown",
   "metadata": {
    "id": "OAOELwv2iieU"
   },
   "source": [
    "Видно, что комментарии не повторяются. Нет пропусков"
   ]
  },
  {
   "cell_type": "markdown",
   "metadata": {
    "id": "2tgila64c63Y"
   },
   "source": [
    "Найдем соотношение классов, при дисбалансе нужно это учитывать"
   ]
  },
  {
   "cell_type": "code",
   "execution_count": 9,
   "metadata": {
    "colab": {
     "base_uri": "https://localhost:8080/"
    },
    "id": "DZQ5n72Fh1_D",
    "outputId": "25790c40-ea5a-45a2-9672-bde563d1da9c"
   },
   "outputs": [
    {
     "data": {
      "text/plain": [
       "{0: 0.5565938358935721, 1: 4.917442218798151}"
      ]
     },
     "execution_count": 9,
     "metadata": {},
     "output_type": "execute_result"
    }
   ],
   "source": [
    "class_weights = class_weight.compute_class_weight(\n",
    "                                        class_weight = \"balanced\",\n",
    "                                        classes = np.unique(data['toxic']),\n",
    "                                        y = data['toxic']                                                    \n",
    "                                    )\n",
    "class_weights = dict(zip(np.unique(data['toxic']), class_weights))\n",
    "class_weights"
   ]
  },
  {
   "cell_type": "markdown",
   "metadata": {
    "id": "eSnx44Ma1KFG"
   },
   "source": [
    "Виден сильный дисбаланс классов, будем добавлять параметр class_weight"
   ]
  },
  {
   "cell_type": "code",
   "execution_count": 10,
   "metadata": {
    "id": "-Y9qDy8TLrDe"
   },
   "outputs": [],
   "source": [
    "# избавимся от стоп-слов\n",
    "stop_words = set(stopwords.words('english')) \n",
    "count_tf_idf = TfidfVectorizer(stop_words=stop_words) "
   ]
  },
  {
   "cell_type": "code",
   "execution_count": 11,
   "metadata": {
    "id": "9w94bnXzl04C"
   },
   "outputs": [],
   "source": [
    "# Передадим POS-теги для различных частей речи\n",
    "def get_wordnet_pos(word):\n",
    "    tag = nltk.pos_tag([word])[0][1][0].upper()\n",
    "    tag_dict = {\"J\": wordnet.ADJ,\n",
    "                \"N\": wordnet.NOUN,\n",
    "                \"V\": wordnet.VERB,\n",
    "                \"R\": wordnet.ADV\n",
    "                }\n",
    "    return tag_dict.get(tag, wordnet.NOUN)\n",
    "\n",
    "lemmatizer = WordNetLemmatizer()    "
   ]
  },
  {
   "cell_type": "code",
   "execution_count": 12,
   "metadata": {
    "id": "m8i6IzQnoQpA"
   },
   "outputs": [],
   "source": [
    "# лемматизируем\n",
    "def text_blob(text):\n",
    "    text = TextBlob(text)\n",
    "    return \" \".join([lemmatizer.lemmatize(w, get_wordnet_pos(w)) for w in text.words])  \n",
    "\n",
    "# оставим только слова, приведя их в нижний регистр\n",
    "def clear_text(text):\n",
    "    return \" \".join(re.sub(r'[^a-z\\' ]', ' ', text).split())  "
   ]
  },
  {
   "cell_type": "code",
   "execution_count": 13,
   "metadata": {
    "colab": {
     "base_uri": "https://localhost:8080/"
    },
    "id": "YzXal4rfpIdq",
    "outputId": "8edeb717-79c9-41d1-ea31-6438b139e3d1"
   },
   "outputs": [
    {
     "name": "stdout",
     "output_type": "stream",
     "text": [
      "CPU times: user 22min 45s, sys: 1min 17s, total: 24min 3s\n",
      "Wall time: 24min 2s\n"
     ]
    }
   ],
   "source": [
    "%%time\n",
    "data['text'] = data['text'].apply(lambda x: text_blob(clear_text(x.lower())))"
   ]
  },
  {
   "cell_type": "code",
   "execution_count": 14,
   "metadata": {
    "colab": {
     "base_uri": "https://localhost:8080/"
    },
    "id": "w6TzcGzbk-4c",
    "outputId": "53c7f11c-603f-4e3e-a532-2e40b58c4d63"
   },
   "outputs": [
    {
     "name": "stdout",
     "output_type": "stream",
     "text": [
      "                                                     text  toxic\n",
      "6            cocksucker before you piss around on my work      1\n",
      "12      hey what be it talk what be it an exclusive gr...      1\n",
      "16      bye do n't look come or think of comming back ...      1\n",
      "42      you be gay or antisemmitian archangel white ti...      1\n",
      "43                  fuck your filthy mother in the as dry      1\n",
      "...                                                   ...    ...\n",
      "159494  our previous conversation you fuck shit eat li...      1\n",
      "159514                   you be a mischievious pubic hair      1\n",
      "159541  your absurd edits your absurd edits on great w...      1\n",
      "159546  hey listen do n't you ever delete my edits eve...      1\n",
      "159554  and i 'm go to keep post the stuff u delete un...      1\n",
      "\n",
      "[16225 rows x 2 columns]\n"
     ]
    }
   ],
   "source": [
    "print(data.query('toxic == 1'))\n"
   ]
  },
  {
   "cell_type": "code",
   "execution_count": 15,
   "metadata": {
    "id": "xxCkhjPWN2NY"
   },
   "outputs": [],
   "source": [
    "# Разобьем выборку на обучающую и тестовую\n",
    "train, test = train_test_split(data, test_size=0.5, random_state=RND_STATE, shuffle=True)"
   ]
  },
  {
   "cell_type": "code",
   "execution_count": 16,
   "metadata": {
    "id": "MOjC_avXORB3"
   },
   "outputs": [],
   "source": [
    "# разделим на признаки и цели\n",
    "target_train = train['toxic']\n",
    "features_train = train['text']\n",
    "\n",
    "target_test = test['toxic']\n",
    "features_test = test['text']"
   ]
  },
  {
   "cell_type": "code",
   "execution_count": 17,
   "metadata": {
    "id": "XJYloMDVMyu_"
   },
   "outputs": [],
   "source": [
    "tf_idf_train = count_tf_idf.fit_transform(features_train)\n",
    "tf_idf_test = count_tf_idf.transform(features_test)"
   ]
  },
  {
   "cell_type": "markdown",
   "metadata": {
    "id": "TgBELXLgZocA"
   },
   "source": [
    "## Обучение"
   ]
  },
  {
   "cell_type": "code",
   "execution_count": 31,
   "metadata": {
    "id": "yZnvvg7uxx6P"
   },
   "outputs": [],
   "source": [
    "# Создаем списки этапов пайплайна и соответствующих моделей\n",
    "vectorizers = ['tfidfvectorizer']\n",
    "classifiers = ['logisticregression', 'decisiontreeclassifier', 'lgbmclassifier']"
   ]
  },
  {
   "cell_type": "code",
   "execution_count": 32,
   "metadata": {
    "id": "g3G0EPy9kzib"
   },
   "outputs": [],
   "source": [
    "# Создаём словарь с набором всех используемых компонентов пайплайнов\n",
    "all_models = {\n",
    "              'tfidfvectorizer': TfidfVectorizer(),            \n",
    "              'logisticregression': LogisticRegression(class_weight=class_weights, solver='lbfgs', max_iter=1000),\n",
    "              'decisiontreeclassifier': DecisionTreeClassifier(class_weight=class_weights, random_state=RND_STATE), \n",
    "              'lgbmclassifier': ltb.LGBMClassifier(class_weight=class_weights, random_state=RND_STATE)\n",
    "             }\n",
    "\n",
    "# Создаём словарь с наборами гиперпараметров всех компонентов\n",
    "all_params = {\n",
    "              'tfidfvectorizer':        {'tfidfvectorizer__ngram_range': [(1,1), (1,2)],\n",
    "                                         'tfidfvectorizer__use_idf': (True, False),\n",
    "                                         'tfidfvectorizer__norm': ('l1', 'l2')},             \n",
    "              'logisticregression':     {'logisticregression__C': [0.1, 1, 10],\n",
    "                                         'logisticregression__penalty': (\"l2\", \"none\")},\n",
    "              'decisiontreeclassifier': {'decisiontreeclassifier__max_depth': [5, 10, 15],\n",
    "                                         'decisiontreeclassifier__min_samples_leaf': [1, 2]\n",
    "                                        },              \n",
    "              'lgbmclassifier':         {'lgbmclassifier__n_estimators': [30, 300],\n",
    "                                         'lgbmclassifier__min_samples_leaf': [1, 2]\n",
    "                                        }\n",
    "             }             "
   ]
  },
  {
   "cell_type": "code",
   "execution_count": 33,
   "metadata": {
    "colab": {
     "base_uri": "https://localhost:8080/"
    },
    "id": "7Q5kjzG-xksq",
    "outputId": "35752bce-688a-4669-d307-b04731f8a617"
   },
   "outputs": [
    {
     "name": "stdout",
     "output_type": "stream",
     "text": [
      "{'tfidfvectorizer__ngram_range': [(1, 1), (1, 2)], 'tfidfvectorizer__use_idf': (True, False), 'tfidfvectorizer__norm': ('l1', 'l2'), 'logisticregression__C': [0.1, 1, 10], 'logisticregression__penalty': ('l2', 'none')}\n"
     ]
    },
    {
     "name": "stderr",
     "output_type": "stream",
     "text": [
      "/usr/local/lib/python3.7/dist-packages/joblib/externals/loky/process_executor.py:705: UserWarning: A worker stopped while some jobs were given to the executor. This can be caused by a too short worker timeout or by a memory leak.\n",
      "  \"timeout or by a memory leak.\", UserWarning\n"
     ]
    },
    {
     "name": "stdout",
     "output_type": "stream",
     "text": [
      "{'tfidfvectorizer__ngram_range': [(1, 1), (1, 2)], 'tfidfvectorizer__use_idf': (True, False), 'tfidfvectorizer__norm': ('l1', 'l2'), 'decisiontreeclassifier__max_depth': [5, 10, 15], 'decisiontreeclassifier__min_samples_leaf': [1, 2]}\n",
      "{'tfidfvectorizer__ngram_range': [(1, 1), (1, 2)], 'tfidfvectorizer__use_idf': (True, False), 'tfidfvectorizer__norm': ('l1', 'l2'), 'lgbmclassifier__n_estimators': [30, 300], 'lgbmclassifier__min_samples_leaf': [1, 2]}\n"
     ]
    },
    {
     "name": "stderr",
     "output_type": "stream",
     "text": [
      "/usr/local/lib/python3.7/dist-packages/joblib/externals/loky/process_executor.py:705: UserWarning: A worker stopped while some jobs were given to the executor. This can be caused by a too short worker timeout or by a memory leak.\n",
      "  \"timeout or by a memory leak.\", UserWarning\n"
     ]
    },
    {
     "name": "stdout",
     "output_type": "stream",
     "text": [
      "CPU times: user 16min 57s, sys: 1min 10s, total: 18min 7s\n",
      "Wall time: 5h 16min 43s\n"
     ]
    }
   ],
   "source": [
    "%%time\n",
    "# product - метод, позволяющий в одноуровневом цикле создать все возможные сочетания нескольких параметров\n",
    "# Создаем пустой датафрейм для сохранения результатов всех экспериментов и запускаем основной цикл, \n",
    "# на каждой итерации которого генерируем очередное сочетание всех этапов пайплайна, создаем словарь гиперпараметров для пайплайна, \n",
    "# создаем сам пайплайн, выполняем обучение и оценку качества с помощью кросс-валидации, записываем результаты обучения в лог.\n",
    "df_all_results = pd.DataFrame()\n",
    "\n",
    "for i, stages in enumerate(product(vectorizers, classifiers), 1):\n",
    "\n",
    "    vectorizer, classifier = stages\n",
    "\n",
    "    pipe = make_pipeline(all_models[vectorizer], all_models[classifier])\n",
    "    \n",
    "    current_params = {}\n",
    "    current_params.update(all_params[vectorizer])\n",
    "    current_params.update(all_params[classifier])\n",
    "    print(current_params)\n",
    "    \n",
    "    model = GridSearchCV(estimator=pipe, param_grid=current_params,\n",
    "                         scoring='f1', cv=3, n_jobs=-1)\n",
    "    model.fit(features_train, target_train)\n",
    "        \n",
    "    df_current_results = pd.DataFrame(data={'pipeline': i,\n",
    "                                            'vectorizer': vectorizer,  \n",
    "                                            'classifier': classifier,\n",
    "                                            'params': model.cv_results_['params'],\n",
    "                                            'score': model.cv_results_['mean_test_score'],\n",
    "                                            'fit_time': model.cv_results_['mean_fit_time'],\n",
    "                                            'best_estimator_': model.best_estimator_ })\n",
    " \n",
    "    df_all_results = df_all_results.append(df_current_results)"
   ]
  },
  {
   "cell_type": "code",
   "execution_count": 34,
   "metadata": {
    "colab": {
     "base_uri": "https://localhost:8080/",
     "height": 175
    },
    "id": "jSuZEAIZBrJ8",
    "outputId": "0d2b0d9e-bb9e-48e3-f1cf-632ea254f712"
   },
   "outputs": [
    {
     "data": {
      "text/html": [
       "\n",
       "  <div id=\"df-132df9b9-729b-4d7c-80c9-537351e9ff6a\">\n",
       "    <div class=\"colab-df-container\">\n",
       "      <div>\n",
       "<style scoped>\n",
       "    .dataframe tbody tr th:only-of-type {\n",
       "        vertical-align: middle;\n",
       "    }\n",
       "\n",
       "    .dataframe tbody tr th {\n",
       "        vertical-align: top;\n",
       "    }\n",
       "\n",
       "    .dataframe thead th {\n",
       "        text-align: right;\n",
       "    }\n",
       "</style>\n",
       "<table border=\"1\" class=\"dataframe\">\n",
       "  <thead>\n",
       "    <tr style=\"text-align: right;\">\n",
       "      <th></th>\n",
       "      <th>pipeline</th>\n",
       "      <th>vectorizer</th>\n",
       "      <th>classifier</th>\n",
       "      <th>params</th>\n",
       "      <th>score</th>\n",
       "      <th>fit_time</th>\n",
       "      <th>best_estimator_</th>\n",
       "    </tr>\n",
       "  </thead>\n",
       "  <tbody>\n",
       "    <tr>\n",
       "      <th>38</th>\n",
       "      <td>1</td>\n",
       "      <td>tfidfvectorizer</td>\n",
       "      <td>logisticregression</td>\n",
       "      <td>{'logisticregression__C': 10, 'logisticregress...</td>\n",
       "      <td>0.775754</td>\n",
       "      <td>73.620438</td>\n",
       "      <td>(TfidfVectorizer(ngram_range=(1, 2)), Logistic...</td>\n",
       "    </tr>\n",
       "    <tr>\n",
       "      <th>34</th>\n",
       "      <td>1</td>\n",
       "      <td>tfidfvectorizer</td>\n",
       "      <td>logisticregression</td>\n",
       "      <td>{'logisticregression__C': 10, 'logisticregress...</td>\n",
       "      <td>0.767775</td>\n",
       "      <td>14.417860</td>\n",
       "      <td>(TfidfVectorizer(ngram_range=(1, 2)), Logistic...</td>\n",
       "    </tr>\n",
       "    <tr>\n",
       "      <th>30</th>\n",
       "      <td>3</td>\n",
       "      <td>tfidfvectorizer</td>\n",
       "      <td>lgbmclassifier</td>\n",
       "      <td>{'lgbmclassifier__min_samples_leaf': 2, 'lgbmc...</td>\n",
       "      <td>0.766060</td>\n",
       "      <td>523.826730</td>\n",
       "      <td>(TfidfVectorizer(ngram_range=(1, 2)), LGBMClas...</td>\n",
       "    </tr>\n",
       "    <tr>\n",
       "      <th>14</th>\n",
       "      <td>3</td>\n",
       "      <td>tfidfvectorizer</td>\n",
       "      <td>lgbmclassifier</td>\n",
       "      <td>{'lgbmclassifier__min_samples_leaf': 1, 'lgbmc...</td>\n",
       "      <td>0.766060</td>\n",
       "      <td>524.824617</td>\n",
       "      <td>(TfidfVectorizer(ngram_range=(1, 2)), LGBMClas...</td>\n",
       "    </tr>\n",
       "  </tbody>\n",
       "</table>\n",
       "</div>\n",
       "      <button class=\"colab-df-convert\" onclick=\"convertToInteractive('df-132df9b9-729b-4d7c-80c9-537351e9ff6a')\"\n",
       "              title=\"Convert this dataframe to an interactive table.\"\n",
       "              style=\"display:none;\">\n",
       "        \n",
       "  <svg xmlns=\"http://www.w3.org/2000/svg\" height=\"24px\"viewBox=\"0 0 24 24\"\n",
       "       width=\"24px\">\n",
       "    <path d=\"M0 0h24v24H0V0z\" fill=\"none\"/>\n",
       "    <path d=\"M18.56 5.44l.94 2.06.94-2.06 2.06-.94-2.06-.94-.94-2.06-.94 2.06-2.06.94zm-11 1L8.5 8.5l.94-2.06 2.06-.94-2.06-.94L8.5 2.5l-.94 2.06-2.06.94zm10 10l.94 2.06.94-2.06 2.06-.94-2.06-.94-.94-2.06-.94 2.06-2.06.94z\"/><path d=\"M17.41 7.96l-1.37-1.37c-.4-.4-.92-.59-1.43-.59-.52 0-1.04.2-1.43.59L10.3 9.45l-7.72 7.72c-.78.78-.78 2.05 0 2.83L4 21.41c.39.39.9.59 1.41.59.51 0 1.02-.2 1.41-.59l7.78-7.78 2.81-2.81c.8-.78.8-2.07 0-2.86zM5.41 20L4 18.59l7.72-7.72 1.47 1.35L5.41 20z\"/>\n",
       "  </svg>\n",
       "      </button>\n",
       "      \n",
       "  <style>\n",
       "    .colab-df-container {\n",
       "      display:flex;\n",
       "      flex-wrap:wrap;\n",
       "      gap: 12px;\n",
       "    }\n",
       "\n",
       "    .colab-df-convert {\n",
       "      background-color: #E8F0FE;\n",
       "      border: none;\n",
       "      border-radius: 50%;\n",
       "      cursor: pointer;\n",
       "      display: none;\n",
       "      fill: #1967D2;\n",
       "      height: 32px;\n",
       "      padding: 0 0 0 0;\n",
       "      width: 32px;\n",
       "    }\n",
       "\n",
       "    .colab-df-convert:hover {\n",
       "      background-color: #E2EBFA;\n",
       "      box-shadow: 0px 1px 2px rgba(60, 64, 67, 0.3), 0px 1px 3px 1px rgba(60, 64, 67, 0.15);\n",
       "      fill: #174EA6;\n",
       "    }\n",
       "\n",
       "    [theme=dark] .colab-df-convert {\n",
       "      background-color: #3B4455;\n",
       "      fill: #D2E3FC;\n",
       "    }\n",
       "\n",
       "    [theme=dark] .colab-df-convert:hover {\n",
       "      background-color: #434B5C;\n",
       "      box-shadow: 0px 1px 3px 1px rgba(0, 0, 0, 0.15);\n",
       "      filter: drop-shadow(0px 1px 2px rgba(0, 0, 0, 0.3));\n",
       "      fill: #FFFFFF;\n",
       "    }\n",
       "  </style>\n",
       "\n",
       "      <script>\n",
       "        const buttonEl =\n",
       "          document.querySelector('#df-132df9b9-729b-4d7c-80c9-537351e9ff6a button.colab-df-convert');\n",
       "        buttonEl.style.display =\n",
       "          google.colab.kernel.accessAllowed ? 'block' : 'none';\n",
       "\n",
       "        async function convertToInteractive(key) {\n",
       "          const element = document.querySelector('#df-132df9b9-729b-4d7c-80c9-537351e9ff6a');\n",
       "          const dataTable =\n",
       "            await google.colab.kernel.invokeFunction('convertToInteractive',\n",
       "                                                     [key], {});\n",
       "          if (!dataTable) return;\n",
       "\n",
       "          const docLinkHtml = 'Like what you see? Visit the ' +\n",
       "            '<a target=\"_blank\" href=https://colab.research.google.com/notebooks/data_table.ipynb>data table notebook</a>'\n",
       "            + ' to learn more about interactive tables.';\n",
       "          element.innerHTML = '';\n",
       "          dataTable['output_type'] = 'display_data';\n",
       "          await google.colab.output.renderOutput(dataTable, element);\n",
       "          const docLink = document.createElement('div');\n",
       "          docLink.innerHTML = docLinkHtml;\n",
       "          element.appendChild(docLink);\n",
       "        }\n",
       "      </script>\n",
       "    </div>\n",
       "  </div>\n",
       "  "
      ],
      "text/plain": [
       "    pipeline       vectorizer          classifier  \\\n",
       "38         1  tfidfvectorizer  logisticregression   \n",
       "34         1  tfidfvectorizer  logisticregression   \n",
       "30         3  tfidfvectorizer      lgbmclassifier   \n",
       "14         3  tfidfvectorizer      lgbmclassifier   \n",
       "\n",
       "                                               params     score    fit_time  \\\n",
       "38  {'logisticregression__C': 10, 'logisticregress...  0.775754   73.620438   \n",
       "34  {'logisticregression__C': 10, 'logisticregress...  0.767775   14.417860   \n",
       "30  {'lgbmclassifier__min_samples_leaf': 2, 'lgbmc...  0.766060  523.826730   \n",
       "14  {'lgbmclassifier__min_samples_leaf': 1, 'lgbmc...  0.766060  524.824617   \n",
       "\n",
       "                                      best_estimator_  \n",
       "38  (TfidfVectorizer(ngram_range=(1, 2)), Logistic...  \n",
       "34  (TfidfVectorizer(ngram_range=(1, 2)), Logistic...  \n",
       "30  (TfidfVectorizer(ngram_range=(1, 2)), LGBMClas...  \n",
       "14  (TfidfVectorizer(ngram_range=(1, 2)), LGBMClas...  "
      ]
     },
     "execution_count": 34,
     "metadata": {},
     "output_type": "execute_result"
    }
   ],
   "source": [
    "df_all_results.sort_values(by='score', ascending=False, inplace=True)\n",
    "df_all_results.head(4)"
   ]
  },
  {
   "cell_type": "markdown",
   "metadata": {},
   "source": [
    "В этой таблице мы видим, что лучшая модель LogisticRegression с параметрами 'C'=10, 'penalty'='l2'\n",
    "Написание кода с помощью pipeline выглядит лаконично, прозрачно, помогает \"увидеть\" работу."
   ]
  },
  {
   "cell_type": "markdown",
   "metadata": {
    "id": "25cHM2RTZocD"
   },
   "source": [
    "## Выводы"
   ]
  },
  {
   "cell_type": "markdown",
   "metadata": {
    "id": "4Xymrkk_FEKV"
   },
   "source": [
    "Получилось, что из всех моделей лучший результат у Логистической регрессии с подобранными гиперпараметрами. Предсказание чуть хуже, чем у дерева решений, но на обучение ушло заметно меньше времени. Плюс, дерево решений после подбора гиперпараметров стало давать недопустимые результаты."
   ]
  },
  {
   "cell_type": "code",
   "execution_count": 38,
   "metadata": {
    "colab": {
     "base_uri": "https://localhost:8080/"
    },
    "id": "U2-tKd_DLKnf",
    "outputId": "6d00314c-0676-49da-9fbd-77ac090315ee"
   },
   "outputs": [
    {
     "name": "stdout",
     "output_type": "stream",
     "text": [
      "0.7562\n"
     ]
    }
   ],
   "source": [
    "# Проверим лучшую модель на тестовой выборке/\n",
    "model = LogisticRegression(class_weight=class_weights, solver='lbfgs', max_iter=1000, C=10, penalty='l2')\n",
    "model.fit(tf_idf_train, target_train)\n",
    "predicted = model.predict(tf_idf_test)\n",
    "f1 = f1_score(target_test, predicted).round(4)\n",
    "print(f1)"
   ]
  },
  {
   "cell_type": "markdown",
   "metadata": {
    "id": "4It5tq8wNeNr"
   },
   "source": [
    "Результат достаточно хорошо, но попробуем построить модель с эмбеддингом BERT"
   ]
  },
  {
   "cell_type": "code",
   "execution_count": 39,
   "metadata": {
    "colab": {
     "base_uri": "https://localhost:8080/"
    },
    "id": "v0yqqHGZVrsX",
    "outputId": "1be3dd65-92ac-4e46-bbae-5ecffa3cecb3"
   },
   "outputs": [
    {
     "name": "stdout",
     "output_type": "stream",
     "text": [
      "--2022-07-08 13:59:24--  http://files.deeppavlov.ai/deeppavlov_data/bert/conversational_cased_L-12_H-768_A-12_pt.tar.gz\n",
      "Resolving files.deeppavlov.ai (files.deeppavlov.ai)... 178.63.27.41\n",
      "Connecting to files.deeppavlov.ai (files.deeppavlov.ai)|178.63.27.41|:80... connected.\n",
      "HTTP request sent, awaiting response... 301 Moved Permanently\n",
      "Location: https://files.deeppavlov.ai/deeppavlov_data/bert/conversational_cased_L-12_H-768_A-12_pt.tar.gz [following]\n",
      "--2022-07-08 13:59:25--  https://files.deeppavlov.ai/deeppavlov_data/bert/conversational_cased_L-12_H-768_A-12_pt.tar.gz\n",
      "Connecting to files.deeppavlov.ai (files.deeppavlov.ai)|178.63.27.41|:443... connected.\n",
      "HTTP request sent, awaiting response... 200 OK\n",
      "Length: 403402567 (385M) [application/octet-stream]\n",
      "Saving to: ‘conversational_cased_L-12_H-768_A-12_pt.tar.gz’\n",
      "\n",
      "conversational_case 100%[===================>] 384.71M  25.5MB/s    in 14s     \n",
      "\n",
      "2022-07-08 13:59:40 (26.6 MB/s) - ‘conversational_cased_L-12_H-768_A-12_pt.tar.gz’ saved [403402567/403402567]\n",
      "\n",
      "conversational_cased_L-12_H-768_A-12_pt/\n",
      "conversational_cased_L-12_H-768_A-12_pt/pytorch_model.bin\n",
      "conversational_cased_L-12_H-768_A-12_pt/bert_config.json\n",
      "conversational_cased_L-12_H-768_A-12_pt/vocab.txt\n"
     ]
    }
   ],
   "source": [
    "# путь для автоматического скачивания модели BERT\n",
    "# если я правильно понимаю, теперь не нужно указывать относительные пути\n",
    "!wget http://files.deeppavlov.ai/deeppavlov_data/bert/conversational_cased_L-12_H-768_A-12_pt.tar.gz\n",
    "!tar -xvzf conversational_cased_L-12_H-768_A-12_pt.tar.gz"
   ]
  },
  {
   "cell_type": "code",
   "execution_count": 82,
   "metadata": {
    "colab": {
     "base_uri": "https://localhost:8080/"
    },
    "id": "ykNyTEvYN4Ue",
    "outputId": "861b1316-1b70-4ee7-9b30-063b7d173322"
   },
   "outputs": [
    {
     "name": "stdout",
     "output_type": "stream",
     "text": [
      "PreTrainedTokenizer(name_or_path='', vocab_size=28995, model_max_len=1000000000000000019884624838656, is_fast=False, padding_side='right', special_tokens={'unk_token': '[UNK]', 'sep_token': '[SEP]', 'pad_token': '[PAD]', 'cls_token': '[CLS]', 'mask_token': '[MASK]'})\n"
     ]
    }
   ],
   "source": [
    "# инициализируем токенизатор\n",
    "tokenizer = transformers.BertTokenizer(\n",
    "    vocab_file='/content/drive/My Drive/Colab Notebooks/Проект Викишоп/vocab.txt')\n",
    "\n",
    "print(tokenizer)"
   ]
  },
  {
   "cell_type": "code",
   "execution_count": 83,
   "metadata": {
    "id": "goALjtnBKhhF"
   },
   "outputs": [],
   "source": [
    "# инициализируем конфигурацию BertConfig \n",
    "config = transformers.BertConfig.from_json_file('/content/drive/My Drive/Colab Notebooks/Проект Викишоп/bert_config.json')"
   ]
  },
  {
   "cell_type": "code",
   "execution_count": 84,
   "metadata": {
    "colab": {
     "base_uri": "https://localhost:8080/"
    },
    "id": "jkskD02UwmVx",
    "outputId": "4488fc37-5f06-47a5-bde9-296908f1dd9d"
   },
   "outputs": [
    {
     "name": "stderr",
     "output_type": "stream",
     "text": [
      "Some weights of the model checkpoint at /content/drive/My Drive/Colab Notebooks/Проект Викишоп/pytorch_model.bin were not used when initializing BertModel: ['cls.predictions.decoder.weight', 'cls.predictions.bias', 'cls.predictions.transform.LayerNorm.weight', 'cls.predictions.transform.dense.weight', 'cls.predictions.transform.LayerNorm.bias', 'cls.predictions.transform.dense.bias', 'cls.seq_relationship.weight', 'cls.seq_relationship.bias']\n",
      "- This IS expected if you are initializing BertModel from the checkpoint of a model trained on another task or with another architecture (e.g. initializing a BertForSequenceClassification model from a BertForPreTraining model).\n",
      "- This IS NOT expected if you are initializing BertModel from the checkpoint of a model that you expect to be exactly identical (initializing a BertForSequenceClassification model from a BertForSequenceClassification model).\n"
     ]
    }
   ],
   "source": [
    "# инициализируем саму модель класса BertModel. Передадим ей файл с предобученной моделью и конфигурацией\n",
    "model = transformers.BertModel.from_pretrained('/content/drive/My Drive/Colab Notebooks/Проект Викишоп/pytorch_model.bin', config=config)"
   ]
  },
  {
   "cell_type": "code",
   "execution_count": 85,
   "metadata": {
    "id": "thH2zkfD3EFy"
   },
   "outputs": [],
   "source": [
    "# сократим на треть нашу выборку, облегчив расчеты\n",
    "data = pd.read_csv('/content/drive/My Drive/Colab Notebooks/Проект Викишоп/toxic_comments.csv')\n",
    "data = data.sample(n=5000)\n",
    "\n",
    "# Разобьем выборку на обучающую и тестовую\n",
    "train, test = train_test_split(data, test_size=0.25, random_state=RND_STATE, shuffle=True, stratify=data['toxic'])\n",
    "\n",
    "# разделим на признаки и цели\n",
    "target_train2 = train['toxic']\n",
    "features_train2 = train['text']\n",
    "\n",
    "target_test2 = test['toxic']\n",
    "features_test2 = test['text']"
   ]
  },
  {
   "cell_type": "code",
   "execution_count": 86,
   "metadata": {
    "id": "ZL7zS6QvKNjT"
   },
   "outputs": [],
   "source": [
    "def get_embeddings(x_train):\n",
    "    # преобразуем тексты в эмбеддинги\n",
    "    tokenized = x_train.apply(\n",
    "        lambda x: tokenizer.encode(x, add_special_tokens=True, truncation=True, max_length=256))\n",
    "\n",
    "    max_len = 0\n",
    "    for i in tokenized.values:\n",
    "        if len(i) > max_len:\n",
    "            max_len = len(i)\n",
    "\n",
    "    padded = np.array([i + [0]*(max_len - len(i)) for i in tokenized.values])\n",
    "\n",
    "    attention_mask = np.where(padded != 0, 1, 0)\n",
    "\n",
    "    # сделаем цикл по батчам. Отображать прогресс будет функция notebook()\n",
    "    batch_size = 50\n",
    "    # сделаем пустой список для хранения эмбеддингов твитов\n",
    "    embeddings = []\n",
    "    for i in notebook.tqdm(range(padded.shape[0] // batch_size)):\n",
    "            # преобразуем данные\n",
    "            batch = torch.LongTensor(padded[batch_size*i:batch_size*(i+1)]) \n",
    "            # преобразуем маску\n",
    "            attention_mask_batch = torch.LongTensor(attention_mask[batch_size*i:batch_size*(i+1)])\n",
    "            \n",
    "            # для ускорения вычисления функцией no_grad()\n",
    "            with torch.no_grad():\n",
    "                # получим эмбеддинги для батча\n",
    "                batch_embeddings = model(batch, attention_mask=attention_mask_batch)\n",
    "            \n",
    "            # из полученного тензора извлечём нужные элементы и добавим в список всех эмбеддингов\n",
    "            embeddings.append(batch_embeddings[0][:,0,:].numpy())\n",
    "    return embeddings        "
   ]
  },
  {
   "cell_type": "code",
   "execution_count": 87,
   "metadata": {
    "colab": {
     "base_uri": "https://localhost:8080/",
     "height": 49,
     "referenced_widgets": [
      "be1c5ca1524647db92fa2bf75134007a",
      "a39d895f0d804f99968564c20e088485",
      "1b3c94bbf72343c796cd5146fd0aef78",
      "48cee8a77aca4ed8a303041abfe4b27b",
      "3098f068727f466a88b37d71ba0c33b0",
      "ed09d7b29db6474e95768a9562ea639f",
      "1998efe59d1b415d8e77bb05c999720a",
      "e2ef076ec03e4101952686e77c95ede7",
      "64b9cdaffb324b9f8e23f406e77dad9e",
      "765849cd21f14cd29bfa5d70ce3187d5",
      "f563a070aece415894bb0b3bf52ff665"
     ]
    },
    "id": "9Fm3fhGj0bpj",
    "outputId": "2fc8e919-1cd2-47e6-e215-3a039ba8b6f7"
   },
   "outputs": [
    {
     "data": {
      "application/vnd.jupyter.widget-view+json": {
       "model_id": "be1c5ca1524647db92fa2bf75134007a",
       "version_major": 2,
       "version_minor": 0
      },
      "text/plain": [
       "  0%|          | 0/75 [00:00<?, ?it/s]"
      ]
     },
     "metadata": {},
     "output_type": "display_data"
    }
   ],
   "source": [
    "features = np.concatenate(get_embeddings(features_train2)) "
   ]
  },
  {
   "cell_type": "code",
   "execution_count": 88,
   "metadata": {
    "colab": {
     "base_uri": "https://localhost:8080/"
    },
    "id": "soutFQyE8ID2",
    "outputId": "14c39157-39af-4f07-c64a-ff414deed47d"
   },
   "outputs": [
    {
     "name": "stdout",
     "output_type": "stream",
     "text": [
      "(3750, 768) (3750,) (3750,)\n"
     ]
    }
   ],
   "source": [
    "print(features.shape, target_train2.shape, features_train2.shape)"
   ]
  },
  {
   "cell_type": "code",
   "execution_count": 89,
   "metadata": {
    "colab": {
     "base_uri": "https://localhost:8080/"
    },
    "id": "d4353soy0dpN",
    "outputId": "7260a2e1-1064-4553-ee2c-d93f4922f0c2"
   },
   "outputs": [
    {
     "data": {
      "text/plain": [
       "LogisticRegression(max_iter=1000)"
      ]
     },
     "execution_count": 89,
     "metadata": {},
     "output_type": "execute_result"
    }
   ],
   "source": [
    "# LogisticRegression\n",
    "model_ = LogisticRegression(solver='lbfgs', max_iter=1000)\n",
    "model_.fit(features, target_train2)"
   ]
  },
  {
   "cell_type": "code",
   "execution_count": 90,
   "metadata": {
    "colab": {
     "base_uri": "https://localhost:8080/",
     "height": 49,
     "referenced_widgets": [
      "885d6feda99542bda29b705693abca3f",
      "2a51325b85d3432a81da780b13376cce",
      "ea9ddb60366c43a68a172b08583b73f2",
      "6f213231cacf4dc68455c58ad4692a9b",
      "5d72bd5aa0d543568f8865e1fafc27a5",
      "a5895a6861a3473db8ff76d6957b40cb",
      "99913fa47de1490fb7435faf511d522d",
      "b4f2b4c41199434da172ba38a3cbc39f",
      "4cd27501ac1d4526a07d32c30c5173da",
      "cc6f5240f18c407a8f0eac2760c5fd02",
      "bca56f080ba747a09ddedc520ead9ab1"
     ]
    },
    "id": "lEX_Msmr-zKl",
    "outputId": "72f7fd68-15fc-49d9-dfb6-10c28d7fa850"
   },
   "outputs": [
    {
     "data": {
      "application/vnd.jupyter.widget-view+json": {
       "model_id": "885d6feda99542bda29b705693abca3f",
       "version_major": 2,
       "version_minor": 0
      },
      "text/plain": [
       "  0%|          | 0/25 [00:00<?, ?it/s]"
      ]
     },
     "metadata": {},
     "output_type": "display_data"
    }
   ],
   "source": [
    "test = np.concatenate(get_embeddings(features_test2)) "
   ]
  },
  {
   "cell_type": "code",
   "execution_count": 91,
   "metadata": {
    "colab": {
     "base_uri": "https://localhost:8080/"
    },
    "id": "rXA46MVV8SBR",
    "outputId": "d9002560-9adf-4df6-e898-3edf4298b4c0"
   },
   "outputs": [
    {
     "name": "stdout",
     "output_type": "stream",
     "text": [
      "0.7225\n"
     ]
    }
   ],
   "source": [
    "predicted = model_.predict(test)\n",
    "f1_ = f1_score(target_test2, predicted).round(4)\n",
    "print(f1_)"
   ]
  },
  {
   "cell_type": "markdown",
   "metadata": {
    "id": "ke90Wu-vc3kV"
   },
   "source": [
    "Выводы:\n",
    "\n",
    "В первой части проекта используется метод подготовки текста для привычных алгоритмов классификации,а именно:\n",
    "- избавление от мусорных слов,\n",
    "- приведение к нижнему регистру,\n",
    "- лемматизация.\n",
    "Лучшие результаты показала модель Логистической регресии.\n",
    "\n",
    "Во второй части запустили логистическую регрессию, но данные обработаны предобученной моделью BERT. Учитывая, что во втором случае исследовалась только часть всего текста, а именно 5000 комментариев, разделенных на обучающую и тестовую выборки, результат получился неплохой - 0.7225"
   ]
  },
  {
   "cell_type": "code",
   "execution_count": null,
   "metadata": {
    "id": "N_-YZ-RDb4Da"
   },
   "outputs": [],
   "source": []
  }
 ],
 "metadata": {
  "ExecuteTimeLog": [
   {
    "duration": 44,
    "start_time": "2022-06-19T18:20:48.405Z"
   },
   {
    "duration": 7588,
    "start_time": "2022-06-19T18:20:58.660Z"
   },
   {
    "duration": 4149,
    "start_time": "2022-06-19T18:21:06.251Z"
   },
   {
    "duration": 2044,
    "start_time": "2022-06-19T18:21:10.403Z"
   },
   {
    "duration": 0,
    "start_time": "2022-06-19T18:21:12.449Z"
   },
   {
    "duration": 0,
    "start_time": "2022-06-19T18:21:12.451Z"
   },
   {
    "duration": 2108,
    "start_time": "2022-06-19T18:21:26.700Z"
   },
   {
    "duration": 18,
    "start_time": "2022-06-19T18:21:35.130Z"
   },
   {
    "duration": 232,
    "start_time": "2022-06-19T18:21:57.468Z"
   },
   {
    "duration": 14,
    "start_time": "2022-06-19T18:22:09.225Z"
   },
   {
    "duration": 179,
    "start_time": "2022-06-19T18:22:16.619Z"
   },
   {
    "duration": 193,
    "start_time": "2022-06-19T18:24:35.287Z"
   },
   {
    "duration": 192,
    "start_time": "2022-06-19T18:24:45.833Z"
   },
   {
    "duration": 212,
    "start_time": "2022-06-19T18:25:22.993Z"
   },
   {
    "duration": 224,
    "start_time": "2022-06-19T18:25:47.392Z"
   },
   {
    "duration": 196,
    "start_time": "2022-06-19T18:26:01.105Z"
   },
   {
    "duration": 2100,
    "start_time": "2022-06-19T19:33:17.440Z"
   },
   {
    "duration": 2298,
    "start_time": "2022-06-19T19:33:19.542Z"
   },
   {
    "duration": 39,
    "start_time": "2022-06-19T19:33:21.843Z"
   },
   {
    "duration": 0,
    "start_time": "2022-06-19T19:33:21.889Z"
   },
   {
    "duration": 0,
    "start_time": "2022-06-19T19:33:21.891Z"
   },
   {
    "duration": 0,
    "start_time": "2022-06-19T19:33:21.892Z"
   },
   {
    "duration": 0,
    "start_time": "2022-06-19T19:33:21.894Z"
   },
   {
    "duration": 0,
    "start_time": "2022-06-19T19:33:21.895Z"
   },
   {
    "duration": 1,
    "start_time": "2022-06-19T19:33:21.896Z"
   },
   {
    "duration": 0,
    "start_time": "2022-06-19T19:33:21.898Z"
   },
   {
    "duration": 0,
    "start_time": "2022-06-19T19:33:21.900Z"
   },
   {
    "duration": 1647,
    "start_time": "2022-06-20T14:28:52.522Z"
   },
   {
    "duration": 4,
    "start_time": "2022-06-22T20:42:15.753Z"
   },
   {
    "duration": 7020,
    "start_time": "2022-06-23T14:35:00.520Z"
   },
   {
    "duration": 3859,
    "start_time": "2022-06-23T14:35:07.542Z"
   },
   {
    "duration": 1939,
    "start_time": "2022-06-23T14:35:11.547Z"
   },
   {
    "duration": 89380,
    "start_time": "2022-06-23T14:35:39.302Z"
   },
   {
    "duration": 0,
    "start_time": "2022-06-23T14:37:08.684Z"
   },
   {
    "duration": 70,
    "start_time": "2022-06-23T14:37:49.318Z"
   },
   {
    "duration": 2647,
    "start_time": "2022-06-23T14:38:23.190Z"
   },
   {
    "duration": 264,
    "start_time": "2022-06-23T14:38:28.104Z"
   },
   {
    "duration": 1576,
    "start_time": "2022-06-23T14:38:35.801Z"
   },
   {
    "duration": 2843,
    "start_time": "2022-06-23T14:38:42.192Z"
   },
   {
    "duration": 18,
    "start_time": "2022-06-23T14:38:47.147Z"
   },
   {
    "duration": 238,
    "start_time": "2022-06-23T14:38:56.290Z"
   },
   {
    "duration": 18,
    "start_time": "2022-06-23T14:38:59.291Z"
   },
   {
    "duration": 7,
    "start_time": "2022-06-23T14:39:00.403Z"
   },
   {
    "duration": 4,
    "start_time": "2022-06-23T14:39:04.994Z"
   },
   {
    "duration": 3,
    "start_time": "2022-06-23T14:39:06.736Z"
   },
   {
    "duration": 4,
    "start_time": "2022-06-23T14:39:08.424Z"
   },
   {
    "duration": 35615,
    "start_time": "2022-06-23T14:39:11.796Z"
   },
   {
    "duration": 8,
    "start_time": "2022-06-23T14:40:11.655Z"
   },
   {
    "duration": 5,
    "start_time": "2022-06-23T14:40:12.693Z"
   },
   {
    "duration": 4,
    "start_time": "2022-06-23T14:40:16.690Z"
   },
   {
    "duration": 223,
    "start_time": "2022-06-23T14:40:17.518Z"
   },
   {
    "duration": 2,
    "start_time": "2022-06-23T14:40:24.610Z"
   },
   {
    "duration": 4,
    "start_time": "2022-06-23T14:40:25.347Z"
   },
   {
    "duration": 3,
    "start_time": "2022-06-23T14:40:28.126Z"
   },
   {
    "duration": 2,
    "start_time": "2022-06-23T14:40:28.394Z"
   },
   {
    "duration": 3,
    "start_time": "2022-06-23T14:40:28.653Z"
   },
   {
    "duration": 3,
    "start_time": "2022-06-23T14:40:28.897Z"
   },
   {
    "duration": 3,
    "start_time": "2022-06-23T14:40:29.248Z"
   },
   {
    "duration": 2,
    "start_time": "2022-06-23T14:40:29.639Z"
   },
   {
    "duration": 2,
    "start_time": "2022-06-23T14:40:29.955Z"
   },
   {
    "duration": 3,
    "start_time": "2022-06-23T14:40:30.235Z"
   },
   {
    "duration": 3,
    "start_time": "2022-06-23T14:40:30.516Z"
   },
   {
    "duration": 3,
    "start_time": "2022-06-23T14:40:30.836Z"
   },
   {
    "duration": 2,
    "start_time": "2022-06-23T14:40:31.193Z"
   },
   {
    "duration": 3,
    "start_time": "2022-06-23T14:40:32.065Z"
   },
   {
    "duration": 6,
    "start_time": "2022-06-23T14:40:33.155Z"
   },
   {
    "duration": 4091154,
    "start_time": "2022-06-23T14:40:35.166Z"
   },
   {
    "duration": 12,
    "start_time": "2022-06-23T15:48:46.321Z"
   },
   {
    "duration": 11,
    "start_time": "2022-06-23T16:09:27.763Z"
   },
   {
    "duration": 13,
    "start_time": "2022-06-23T16:09:51.690Z"
   },
   {
    "duration": 2878,
    "start_time": "2022-06-23T16:11:06.373Z"
   }
  ],
  "accelerator": "TPU",
  "colab": {
   "collapsed_sections": [],
   "name": "project.ipynb",
   "provenance": []
  },
  "gpuClass": "standard",
  "kernelspec": {
   "display_name": "Python 3",
   "language": "python",
   "name": "python3"
  },
  "language_info": {
   "codemirror_mode": {
    "name": "ipython",
    "version": 3
   },
   "file_extension": ".py",
   "mimetype": "text/x-python",
   "name": "python",
   "nbconvert_exporter": "python",
   "pygments_lexer": "ipython3",
   "version": "3.7.7"
  },
  "toc": {
   "base_numbering": 1,
   "nav_menu": {},
   "number_sections": true,
   "sideBar": true,
   "skip_h1_title": true,
   "title_cell": "Содержание",
   "title_sidebar": "Contents",
   "toc_cell": true,
   "toc_position": {
    "height": "calc(100% - 180px)",
    "left": "10px",
    "top": "150px",
    "width": "302.391px"
   },
   "toc_section_display": true,
   "toc_window_display": false
  },
  "widgets": {
   "application/vnd.jupyter.widget-state+json": {
    "1998efe59d1b415d8e77bb05c999720a": {
     "model_module": "@jupyter-widgets/controls",
     "model_module_version": "1.5.0",
     "model_name": "DescriptionStyleModel",
     "state": {
      "_model_module": "@jupyter-widgets/controls",
      "_model_module_version": "1.5.0",
      "_model_name": "DescriptionStyleModel",
      "_view_count": null,
      "_view_module": "@jupyter-widgets/base",
      "_view_module_version": "1.2.0",
      "_view_name": "StyleView",
      "description_width": ""
     }
    },
    "1b3c94bbf72343c796cd5146fd0aef78": {
     "model_module": "@jupyter-widgets/controls",
     "model_module_version": "1.5.0",
     "model_name": "FloatProgressModel",
     "state": {
      "_dom_classes": [],
      "_model_module": "@jupyter-widgets/controls",
      "_model_module_version": "1.5.0",
      "_model_name": "FloatProgressModel",
      "_view_count": null,
      "_view_module": "@jupyter-widgets/controls",
      "_view_module_version": "1.5.0",
      "_view_name": "ProgressView",
      "bar_style": "success",
      "description": "",
      "description_tooltip": null,
      "layout": "IPY_MODEL_e2ef076ec03e4101952686e77c95ede7",
      "max": 75,
      "min": 0,
      "orientation": "horizontal",
      "style": "IPY_MODEL_64b9cdaffb324b9f8e23f406e77dad9e",
      "value": 75
     }
    },
    "2a51325b85d3432a81da780b13376cce": {
     "model_module": "@jupyter-widgets/controls",
     "model_module_version": "1.5.0",
     "model_name": "HTMLModel",
     "state": {
      "_dom_classes": [],
      "_model_module": "@jupyter-widgets/controls",
      "_model_module_version": "1.5.0",
      "_model_name": "HTMLModel",
      "_view_count": null,
      "_view_module": "@jupyter-widgets/controls",
      "_view_module_version": "1.5.0",
      "_view_name": "HTMLView",
      "description": "",
      "description_tooltip": null,
      "layout": "IPY_MODEL_a5895a6861a3473db8ff76d6957b40cb",
      "placeholder": "​",
      "style": "IPY_MODEL_99913fa47de1490fb7435faf511d522d",
      "value": "100%"
     }
    },
    "3098f068727f466a88b37d71ba0c33b0": {
     "model_module": "@jupyter-widgets/base",
     "model_module_version": "1.2.0",
     "model_name": "LayoutModel",
     "state": {
      "_model_module": "@jupyter-widgets/base",
      "_model_module_version": "1.2.0",
      "_model_name": "LayoutModel",
      "_view_count": null,
      "_view_module": "@jupyter-widgets/base",
      "_view_module_version": "1.2.0",
      "_view_name": "LayoutView",
      "align_content": null,
      "align_items": null,
      "align_self": null,
      "border": null,
      "bottom": null,
      "display": null,
      "flex": null,
      "flex_flow": null,
      "grid_area": null,
      "grid_auto_columns": null,
      "grid_auto_flow": null,
      "grid_auto_rows": null,
      "grid_column": null,
      "grid_gap": null,
      "grid_row": null,
      "grid_template_areas": null,
      "grid_template_columns": null,
      "grid_template_rows": null,
      "height": null,
      "justify_content": null,
      "justify_items": null,
      "left": null,
      "margin": null,
      "max_height": null,
      "max_width": null,
      "min_height": null,
      "min_width": null,
      "object_fit": null,
      "object_position": null,
      "order": null,
      "overflow": null,
      "overflow_x": null,
      "overflow_y": null,
      "padding": null,
      "right": null,
      "top": null,
      "visibility": null,
      "width": null
     }
    },
    "48cee8a77aca4ed8a303041abfe4b27b": {
     "model_module": "@jupyter-widgets/controls",
     "model_module_version": "1.5.0",
     "model_name": "HTMLModel",
     "state": {
      "_dom_classes": [],
      "_model_module": "@jupyter-widgets/controls",
      "_model_module_version": "1.5.0",
      "_model_name": "HTMLModel",
      "_view_count": null,
      "_view_module": "@jupyter-widgets/controls",
      "_view_module_version": "1.5.0",
      "_view_name": "HTMLView",
      "description": "",
      "description_tooltip": null,
      "layout": "IPY_MODEL_765849cd21f14cd29bfa5d70ce3187d5",
      "placeholder": "​",
      "style": "IPY_MODEL_f563a070aece415894bb0b3bf52ff665",
      "value": " 75/75 [51:18&lt;00:00, 40.81s/it]"
     }
    },
    "4cd27501ac1d4526a07d32c30c5173da": {
     "model_module": "@jupyter-widgets/controls",
     "model_module_version": "1.5.0",
     "model_name": "ProgressStyleModel",
     "state": {
      "_model_module": "@jupyter-widgets/controls",
      "_model_module_version": "1.5.0",
      "_model_name": "ProgressStyleModel",
      "_view_count": null,
      "_view_module": "@jupyter-widgets/base",
      "_view_module_version": "1.2.0",
      "_view_name": "StyleView",
      "bar_color": null,
      "description_width": ""
     }
    },
    "5d72bd5aa0d543568f8865e1fafc27a5": {
     "model_module": "@jupyter-widgets/base",
     "model_module_version": "1.2.0",
     "model_name": "LayoutModel",
     "state": {
      "_model_module": "@jupyter-widgets/base",
      "_model_module_version": "1.2.0",
      "_model_name": "LayoutModel",
      "_view_count": null,
      "_view_module": "@jupyter-widgets/base",
      "_view_module_version": "1.2.0",
      "_view_name": "LayoutView",
      "align_content": null,
      "align_items": null,
      "align_self": null,
      "border": null,
      "bottom": null,
      "display": null,
      "flex": null,
      "flex_flow": null,
      "grid_area": null,
      "grid_auto_columns": null,
      "grid_auto_flow": null,
      "grid_auto_rows": null,
      "grid_column": null,
      "grid_gap": null,
      "grid_row": null,
      "grid_template_areas": null,
      "grid_template_columns": null,
      "grid_template_rows": null,
      "height": null,
      "justify_content": null,
      "justify_items": null,
      "left": null,
      "margin": null,
      "max_height": null,
      "max_width": null,
      "min_height": null,
      "min_width": null,
      "object_fit": null,
      "object_position": null,
      "order": null,
      "overflow": null,
      "overflow_x": null,
      "overflow_y": null,
      "padding": null,
      "right": null,
      "top": null,
      "visibility": null,
      "width": null
     }
    },
    "64b9cdaffb324b9f8e23f406e77dad9e": {
     "model_module": "@jupyter-widgets/controls",
     "model_module_version": "1.5.0",
     "model_name": "ProgressStyleModel",
     "state": {
      "_model_module": "@jupyter-widgets/controls",
      "_model_module_version": "1.5.0",
      "_model_name": "ProgressStyleModel",
      "_view_count": null,
      "_view_module": "@jupyter-widgets/base",
      "_view_module_version": "1.2.0",
      "_view_name": "StyleView",
      "bar_color": null,
      "description_width": ""
     }
    },
    "6f213231cacf4dc68455c58ad4692a9b": {
     "model_module": "@jupyter-widgets/controls",
     "model_module_version": "1.5.0",
     "model_name": "HTMLModel",
     "state": {
      "_dom_classes": [],
      "_model_module": "@jupyter-widgets/controls",
      "_model_module_version": "1.5.0",
      "_model_name": "HTMLModel",
      "_view_count": null,
      "_view_module": "@jupyter-widgets/controls",
      "_view_module_version": "1.5.0",
      "_view_name": "HTMLView",
      "description": "",
      "description_tooltip": null,
      "layout": "IPY_MODEL_cc6f5240f18c407a8f0eac2760c5fd02",
      "placeholder": "​",
      "style": "IPY_MODEL_bca56f080ba747a09ddedc520ead9ab1",
      "value": " 25/25 [17:11&lt;00:00, 41.40s/it]"
     }
    },
    "765849cd21f14cd29bfa5d70ce3187d5": {
     "model_module": "@jupyter-widgets/base",
     "model_module_version": "1.2.0",
     "model_name": "LayoutModel",
     "state": {
      "_model_module": "@jupyter-widgets/base",
      "_model_module_version": "1.2.0",
      "_model_name": "LayoutModel",
      "_view_count": null,
      "_view_module": "@jupyter-widgets/base",
      "_view_module_version": "1.2.0",
      "_view_name": "LayoutView",
      "align_content": null,
      "align_items": null,
      "align_self": null,
      "border": null,
      "bottom": null,
      "display": null,
      "flex": null,
      "flex_flow": null,
      "grid_area": null,
      "grid_auto_columns": null,
      "grid_auto_flow": null,
      "grid_auto_rows": null,
      "grid_column": null,
      "grid_gap": null,
      "grid_row": null,
      "grid_template_areas": null,
      "grid_template_columns": null,
      "grid_template_rows": null,
      "height": null,
      "justify_content": null,
      "justify_items": null,
      "left": null,
      "margin": null,
      "max_height": null,
      "max_width": null,
      "min_height": null,
      "min_width": null,
      "object_fit": null,
      "object_position": null,
      "order": null,
      "overflow": null,
      "overflow_x": null,
      "overflow_y": null,
      "padding": null,
      "right": null,
      "top": null,
      "visibility": null,
      "width": null
     }
    },
    "885d6feda99542bda29b705693abca3f": {
     "model_module": "@jupyter-widgets/controls",
     "model_module_version": "1.5.0",
     "model_name": "HBoxModel",
     "state": {
      "_dom_classes": [],
      "_model_module": "@jupyter-widgets/controls",
      "_model_module_version": "1.5.0",
      "_model_name": "HBoxModel",
      "_view_count": null,
      "_view_module": "@jupyter-widgets/controls",
      "_view_module_version": "1.5.0",
      "_view_name": "HBoxView",
      "box_style": "",
      "children": [
       "IPY_MODEL_2a51325b85d3432a81da780b13376cce",
       "IPY_MODEL_ea9ddb60366c43a68a172b08583b73f2",
       "IPY_MODEL_6f213231cacf4dc68455c58ad4692a9b"
      ],
      "layout": "IPY_MODEL_5d72bd5aa0d543568f8865e1fafc27a5"
     }
    },
    "99913fa47de1490fb7435faf511d522d": {
     "model_module": "@jupyter-widgets/controls",
     "model_module_version": "1.5.0",
     "model_name": "DescriptionStyleModel",
     "state": {
      "_model_module": "@jupyter-widgets/controls",
      "_model_module_version": "1.5.0",
      "_model_name": "DescriptionStyleModel",
      "_view_count": null,
      "_view_module": "@jupyter-widgets/base",
      "_view_module_version": "1.2.0",
      "_view_name": "StyleView",
      "description_width": ""
     }
    },
    "a39d895f0d804f99968564c20e088485": {
     "model_module": "@jupyter-widgets/controls",
     "model_module_version": "1.5.0",
     "model_name": "HTMLModel",
     "state": {
      "_dom_classes": [],
      "_model_module": "@jupyter-widgets/controls",
      "_model_module_version": "1.5.0",
      "_model_name": "HTMLModel",
      "_view_count": null,
      "_view_module": "@jupyter-widgets/controls",
      "_view_module_version": "1.5.0",
      "_view_name": "HTMLView",
      "description": "",
      "description_tooltip": null,
      "layout": "IPY_MODEL_ed09d7b29db6474e95768a9562ea639f",
      "placeholder": "​",
      "style": "IPY_MODEL_1998efe59d1b415d8e77bb05c999720a",
      "value": "100%"
     }
    },
    "a5895a6861a3473db8ff76d6957b40cb": {
     "model_module": "@jupyter-widgets/base",
     "model_module_version": "1.2.0",
     "model_name": "LayoutModel",
     "state": {
      "_model_module": "@jupyter-widgets/base",
      "_model_module_version": "1.2.0",
      "_model_name": "LayoutModel",
      "_view_count": null,
      "_view_module": "@jupyter-widgets/base",
      "_view_module_version": "1.2.0",
      "_view_name": "LayoutView",
      "align_content": null,
      "align_items": null,
      "align_self": null,
      "border": null,
      "bottom": null,
      "display": null,
      "flex": null,
      "flex_flow": null,
      "grid_area": null,
      "grid_auto_columns": null,
      "grid_auto_flow": null,
      "grid_auto_rows": null,
      "grid_column": null,
      "grid_gap": null,
      "grid_row": null,
      "grid_template_areas": null,
      "grid_template_columns": null,
      "grid_template_rows": null,
      "height": null,
      "justify_content": null,
      "justify_items": null,
      "left": null,
      "margin": null,
      "max_height": null,
      "max_width": null,
      "min_height": null,
      "min_width": null,
      "object_fit": null,
      "object_position": null,
      "order": null,
      "overflow": null,
      "overflow_x": null,
      "overflow_y": null,
      "padding": null,
      "right": null,
      "top": null,
      "visibility": null,
      "width": null
     }
    },
    "b4f2b4c41199434da172ba38a3cbc39f": {
     "model_module": "@jupyter-widgets/base",
     "model_module_version": "1.2.0",
     "model_name": "LayoutModel",
     "state": {
      "_model_module": "@jupyter-widgets/base",
      "_model_module_version": "1.2.0",
      "_model_name": "LayoutModel",
      "_view_count": null,
      "_view_module": "@jupyter-widgets/base",
      "_view_module_version": "1.2.0",
      "_view_name": "LayoutView",
      "align_content": null,
      "align_items": null,
      "align_self": null,
      "border": null,
      "bottom": null,
      "display": null,
      "flex": null,
      "flex_flow": null,
      "grid_area": null,
      "grid_auto_columns": null,
      "grid_auto_flow": null,
      "grid_auto_rows": null,
      "grid_column": null,
      "grid_gap": null,
      "grid_row": null,
      "grid_template_areas": null,
      "grid_template_columns": null,
      "grid_template_rows": null,
      "height": null,
      "justify_content": null,
      "justify_items": null,
      "left": null,
      "margin": null,
      "max_height": null,
      "max_width": null,
      "min_height": null,
      "min_width": null,
      "object_fit": null,
      "object_position": null,
      "order": null,
      "overflow": null,
      "overflow_x": null,
      "overflow_y": null,
      "padding": null,
      "right": null,
      "top": null,
      "visibility": null,
      "width": null
     }
    },
    "bca56f080ba747a09ddedc520ead9ab1": {
     "model_module": "@jupyter-widgets/controls",
     "model_module_version": "1.5.0",
     "model_name": "DescriptionStyleModel",
     "state": {
      "_model_module": "@jupyter-widgets/controls",
      "_model_module_version": "1.5.0",
      "_model_name": "DescriptionStyleModel",
      "_view_count": null,
      "_view_module": "@jupyter-widgets/base",
      "_view_module_version": "1.2.0",
      "_view_name": "StyleView",
      "description_width": ""
     }
    },
    "be1c5ca1524647db92fa2bf75134007a": {
     "model_module": "@jupyter-widgets/controls",
     "model_module_version": "1.5.0",
     "model_name": "HBoxModel",
     "state": {
      "_dom_classes": [],
      "_model_module": "@jupyter-widgets/controls",
      "_model_module_version": "1.5.0",
      "_model_name": "HBoxModel",
      "_view_count": null,
      "_view_module": "@jupyter-widgets/controls",
      "_view_module_version": "1.5.0",
      "_view_name": "HBoxView",
      "box_style": "",
      "children": [
       "IPY_MODEL_a39d895f0d804f99968564c20e088485",
       "IPY_MODEL_1b3c94bbf72343c796cd5146fd0aef78",
       "IPY_MODEL_48cee8a77aca4ed8a303041abfe4b27b"
      ],
      "layout": "IPY_MODEL_3098f068727f466a88b37d71ba0c33b0"
     }
    },
    "cc6f5240f18c407a8f0eac2760c5fd02": {
     "model_module": "@jupyter-widgets/base",
     "model_module_version": "1.2.0",
     "model_name": "LayoutModel",
     "state": {
      "_model_module": "@jupyter-widgets/base",
      "_model_module_version": "1.2.0",
      "_model_name": "LayoutModel",
      "_view_count": null,
      "_view_module": "@jupyter-widgets/base",
      "_view_module_version": "1.2.0",
      "_view_name": "LayoutView",
      "align_content": null,
      "align_items": null,
      "align_self": null,
      "border": null,
      "bottom": null,
      "display": null,
      "flex": null,
      "flex_flow": null,
      "grid_area": null,
      "grid_auto_columns": null,
      "grid_auto_flow": null,
      "grid_auto_rows": null,
      "grid_column": null,
      "grid_gap": null,
      "grid_row": null,
      "grid_template_areas": null,
      "grid_template_columns": null,
      "grid_template_rows": null,
      "height": null,
      "justify_content": null,
      "justify_items": null,
      "left": null,
      "margin": null,
      "max_height": null,
      "max_width": null,
      "min_height": null,
      "min_width": null,
      "object_fit": null,
      "object_position": null,
      "order": null,
      "overflow": null,
      "overflow_x": null,
      "overflow_y": null,
      "padding": null,
      "right": null,
      "top": null,
      "visibility": null,
      "width": null
     }
    },
    "e2ef076ec03e4101952686e77c95ede7": {
     "model_module": "@jupyter-widgets/base",
     "model_module_version": "1.2.0",
     "model_name": "LayoutModel",
     "state": {
      "_model_module": "@jupyter-widgets/base",
      "_model_module_version": "1.2.0",
      "_model_name": "LayoutModel",
      "_view_count": null,
      "_view_module": "@jupyter-widgets/base",
      "_view_module_version": "1.2.0",
      "_view_name": "LayoutView",
      "align_content": null,
      "align_items": null,
      "align_self": null,
      "border": null,
      "bottom": null,
      "display": null,
      "flex": null,
      "flex_flow": null,
      "grid_area": null,
      "grid_auto_columns": null,
      "grid_auto_flow": null,
      "grid_auto_rows": null,
      "grid_column": null,
      "grid_gap": null,
      "grid_row": null,
      "grid_template_areas": null,
      "grid_template_columns": null,
      "grid_template_rows": null,
      "height": null,
      "justify_content": null,
      "justify_items": null,
      "left": null,
      "margin": null,
      "max_height": null,
      "max_width": null,
      "min_height": null,
      "min_width": null,
      "object_fit": null,
      "object_position": null,
      "order": null,
      "overflow": null,
      "overflow_x": null,
      "overflow_y": null,
      "padding": null,
      "right": null,
      "top": null,
      "visibility": null,
      "width": null
     }
    },
    "ea9ddb60366c43a68a172b08583b73f2": {
     "model_module": "@jupyter-widgets/controls",
     "model_module_version": "1.5.0",
     "model_name": "FloatProgressModel",
     "state": {
      "_dom_classes": [],
      "_model_module": "@jupyter-widgets/controls",
      "_model_module_version": "1.5.0",
      "_model_name": "FloatProgressModel",
      "_view_count": null,
      "_view_module": "@jupyter-widgets/controls",
      "_view_module_version": "1.5.0",
      "_view_name": "ProgressView",
      "bar_style": "success",
      "description": "",
      "description_tooltip": null,
      "layout": "IPY_MODEL_b4f2b4c41199434da172ba38a3cbc39f",
      "max": 25,
      "min": 0,
      "orientation": "horizontal",
      "style": "IPY_MODEL_4cd27501ac1d4526a07d32c30c5173da",
      "value": 25
     }
    },
    "ed09d7b29db6474e95768a9562ea639f": {
     "model_module": "@jupyter-widgets/base",
     "model_module_version": "1.2.0",
     "model_name": "LayoutModel",
     "state": {
      "_model_module": "@jupyter-widgets/base",
      "_model_module_version": "1.2.0",
      "_model_name": "LayoutModel",
      "_view_count": null,
      "_view_module": "@jupyter-widgets/base",
      "_view_module_version": "1.2.0",
      "_view_name": "LayoutView",
      "align_content": null,
      "align_items": null,
      "align_self": null,
      "border": null,
      "bottom": null,
      "display": null,
      "flex": null,
      "flex_flow": null,
      "grid_area": null,
      "grid_auto_columns": null,
      "grid_auto_flow": null,
      "grid_auto_rows": null,
      "grid_column": null,
      "grid_gap": null,
      "grid_row": null,
      "grid_template_areas": null,
      "grid_template_columns": null,
      "grid_template_rows": null,
      "height": null,
      "justify_content": null,
      "justify_items": null,
      "left": null,
      "margin": null,
      "max_height": null,
      "max_width": null,
      "min_height": null,
      "min_width": null,
      "object_fit": null,
      "object_position": null,
      "order": null,
      "overflow": null,
      "overflow_x": null,
      "overflow_y": null,
      "padding": null,
      "right": null,
      "top": null,
      "visibility": null,
      "width": null
     }
    },
    "f563a070aece415894bb0b3bf52ff665": {
     "model_module": "@jupyter-widgets/controls",
     "model_module_version": "1.5.0",
     "model_name": "DescriptionStyleModel",
     "state": {
      "_model_module": "@jupyter-widgets/controls",
      "_model_module_version": "1.5.0",
      "_model_name": "DescriptionStyleModel",
      "_view_count": null,
      "_view_module": "@jupyter-widgets/base",
      "_view_module_version": "1.2.0",
      "_view_name": "StyleView",
      "description_width": ""
     }
    }
   }
  }
 },
 "nbformat": 4,
 "nbformat_minor": 4
}
