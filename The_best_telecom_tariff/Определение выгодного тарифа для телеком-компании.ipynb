{
 "cells": [
  {
   "cell_type": "markdown",
   "metadata": {},
   "source": [
    "# Определение выгодного тарифа для телеком-компании\n",
    "\n",
    "У сотовой компании два тарифных плана: «Смарт» и «Ультра». Необходимо понять, какой тариф приносит больший доход. На небольшой выборке клиентов необходимо провести анализ: кто они, откуда, каким тарифом пользуются, сколько звонков и сообщений каждый отправил за 2018 год. Нужно сделать вывод — какой тариф лучше."
   ]
  },
  {
   "cell_type": "markdown",
   "metadata": {},
   "source": [
    "## Изучение данных из файлов"
   ]
  },
  {
   "cell_type": "code",
   "execution_count": 1,
   "metadata": {},
   "outputs": [],
   "source": [
    "import numpy as np\n",
    "import matplotlib.pyplot as plt\n",
    "import pandas as pd\n",
    "import seaborn as sns\n",
    "from scipy import stats as st"
   ]
  },
  {
   "cell_type": "code",
   "execution_count": 2,
   "metadata": {},
   "outputs": [],
   "source": [
    "import warnings\n",
    "warnings.simplefilter(\"ignore\")"
   ]
  },
  {
   "cell_type": "code",
   "execution_count": 3,
   "metadata": {},
   "outputs": [
    {
     "data": {
      "text/html": [
       "<div>\n",
       "<style scoped>\n",
       "    .dataframe tbody tr th:only-of-type {\n",
       "        vertical-align: middle;\n",
       "    }\n",
       "\n",
       "    .dataframe tbody tr th {\n",
       "        vertical-align: top;\n",
       "    }\n",
       "\n",
       "    .dataframe thead th {\n",
       "        text-align: right;\n",
       "    }\n",
       "</style>\n",
       "<table border=\"1\" class=\"dataframe\">\n",
       "  <thead>\n",
       "    <tr style=\"text-align: right;\">\n",
       "      <th></th>\n",
       "      <th>user_id</th>\n",
       "      <th>age</th>\n",
       "      <th>churn_date</th>\n",
       "      <th>city</th>\n",
       "      <th>first_name</th>\n",
       "      <th>last_name</th>\n",
       "      <th>reg_date</th>\n",
       "      <th>tariff</th>\n",
       "    </tr>\n",
       "  </thead>\n",
       "  <tbody>\n",
       "    <tr>\n",
       "      <td>0</td>\n",
       "      <td>1000</td>\n",
       "      <td>52</td>\n",
       "      <td>NaT</td>\n",
       "      <td>Краснодар</td>\n",
       "      <td>Рафаил</td>\n",
       "      <td>Верещагин</td>\n",
       "      <td>2018-05-25</td>\n",
       "      <td>ultra</td>\n",
       "    </tr>\n",
       "    <tr>\n",
       "      <td>1</td>\n",
       "      <td>1001</td>\n",
       "      <td>41</td>\n",
       "      <td>NaT</td>\n",
       "      <td>Москва</td>\n",
       "      <td>Иван</td>\n",
       "      <td>Ежов</td>\n",
       "      <td>2018-11-01</td>\n",
       "      <td>smart</td>\n",
       "    </tr>\n",
       "    <tr>\n",
       "      <td>2</td>\n",
       "      <td>1002</td>\n",
       "      <td>59</td>\n",
       "      <td>NaT</td>\n",
       "      <td>Стерлитамак</td>\n",
       "      <td>Евгений</td>\n",
       "      <td>Абрамович</td>\n",
       "      <td>2018-06-17</td>\n",
       "      <td>smart</td>\n",
       "    </tr>\n",
       "    <tr>\n",
       "      <td>3</td>\n",
       "      <td>1003</td>\n",
       "      <td>23</td>\n",
       "      <td>NaT</td>\n",
       "      <td>Москва</td>\n",
       "      <td>Белла</td>\n",
       "      <td>Белякова</td>\n",
       "      <td>2018-08-17</td>\n",
       "      <td>ultra</td>\n",
       "    </tr>\n",
       "    <tr>\n",
       "      <td>4</td>\n",
       "      <td>1004</td>\n",
       "      <td>68</td>\n",
       "      <td>NaT</td>\n",
       "      <td>Новокузнецк</td>\n",
       "      <td>Татьяна</td>\n",
       "      <td>Авдеенко</td>\n",
       "      <td>2018-05-14</td>\n",
       "      <td>ultra</td>\n",
       "    </tr>\n",
       "  </tbody>\n",
       "</table>\n",
       "</div>"
      ],
      "text/plain": [
       "   user_id  age churn_date         city first_name  last_name   reg_date  \\\n",
       "0     1000   52        NaT    Краснодар     Рафаил  Верещагин 2018-05-25   \n",
       "1     1001   41        NaT       Москва       Иван       Ежов 2018-11-01   \n",
       "2     1002   59        NaT  Стерлитамак    Евгений  Абрамович 2018-06-17   \n",
       "3     1003   23        NaT       Москва      Белла   Белякова 2018-08-17   \n",
       "4     1004   68        NaT  Новокузнецк    Татьяна   Авдеенко 2018-05-14   \n",
       "\n",
       "  tariff  \n",
       "0  ultra  \n",
       "1  smart  \n",
       "2  smart  \n",
       "3  ultra  \n",
       "4  ultra  "
      ]
     },
     "metadata": {},
     "output_type": "display_data"
    },
    {
     "data": {
      "text/html": [
       "<div>\n",
       "<style scoped>\n",
       "    .dataframe tbody tr th:only-of-type {\n",
       "        vertical-align: middle;\n",
       "    }\n",
       "\n",
       "    .dataframe tbody tr th {\n",
       "        vertical-align: top;\n",
       "    }\n",
       "\n",
       "    .dataframe thead th {\n",
       "        text-align: right;\n",
       "    }\n",
       "</style>\n",
       "<table border=\"1\" class=\"dataframe\">\n",
       "  <thead>\n",
       "    <tr style=\"text-align: right;\">\n",
       "      <th></th>\n",
       "      <th>count</th>\n",
       "      <th>mean</th>\n",
       "      <th>std</th>\n",
       "      <th>min</th>\n",
       "      <th>25%</th>\n",
       "      <th>50%</th>\n",
       "      <th>75%</th>\n",
       "      <th>max</th>\n",
       "    </tr>\n",
       "  </thead>\n",
       "  <tbody>\n",
       "    <tr>\n",
       "      <td>user_id</td>\n",
       "      <td>500.0</td>\n",
       "      <td>1249.500</td>\n",
       "      <td>144.481833</td>\n",
       "      <td>1000.0</td>\n",
       "      <td>1124.75</td>\n",
       "      <td>1249.5</td>\n",
       "      <td>1374.25</td>\n",
       "      <td>1499.0</td>\n",
       "    </tr>\n",
       "    <tr>\n",
       "      <td>age</td>\n",
       "      <td>500.0</td>\n",
       "      <td>46.588</td>\n",
       "      <td>16.667630</td>\n",
       "      <td>18.0</td>\n",
       "      <td>32.00</td>\n",
       "      <td>46.0</td>\n",
       "      <td>62.00</td>\n",
       "      <td>75.0</td>\n",
       "    </tr>\n",
       "  </tbody>\n",
       "</table>\n",
       "</div>"
      ],
      "text/plain": [
       "         count      mean         std     min      25%     50%      75%     max\n",
       "user_id  500.0  1249.500  144.481833  1000.0  1124.75  1249.5  1374.25  1499.0\n",
       "age      500.0    46.588   16.667630    18.0    32.00    46.0    62.00    75.0"
      ]
     },
     "metadata": {},
     "output_type": "display_data"
    },
    {
     "name": "stdout",
     "output_type": "stream",
     "text": [
      "************************************************\n",
      "user_id       0.000\n",
      "age           0.000\n",
      "churn_date    0.924\n",
      "city          0.000\n",
      "first_name    0.000\n",
      "last_name     0.000\n",
      "reg_date      0.000\n",
      "tariff        0.000\n",
      "dtype: float64\n",
      "************************************************\n",
      "<class 'pandas.core.frame.DataFrame'>\n",
      "RangeIndex: 500 entries, 0 to 499\n",
      "Data columns (total 8 columns):\n",
      "user_id       500 non-null int64\n",
      "age           500 non-null int64\n",
      "churn_date    38 non-null datetime64[ns]\n",
      "city          500 non-null object\n",
      "first_name    500 non-null object\n",
      "last_name     500 non-null object\n",
      "reg_date      500 non-null datetime64[ns]\n",
      "tariff        500 non-null object\n",
      "dtypes: datetime64[ns](2), int64(2), object(4)\n",
      "memory usage: 31.4+ KB\n"
     ]
    },
    {
     "data": {
      "text/plain": [
       "array([18, 19, 20, 21, 22, 23, 24, 25, 26, 27, 28, 29, 30, 31, 32, 33, 34,\n",
       "       35, 36, 37, 38, 39, 40, 41, 42, 43, 44, 45, 46, 47, 48, 49, 50, 51,\n",
       "       52, 53, 54, 55, 56, 57, 58, 59, 60, 61, 62, 63, 64, 65, 66, 67, 68,\n",
       "       69, 70, 71, 72, 73, 74, 75])"
      ]
     },
     "execution_count": 3,
     "metadata": {},
     "output_type": "execute_result"
    }
   ],
   "source": [
    "users = pd.read_csv('/datasets/users.csv',  parse_dates=['churn_date', 'reg_date']) \n",
    "display(users.head())\n",
    "display(users.describe().T)\n",
    "print('************************************************')\n",
    "print(users.isna().mean())\n",
    "print('************************************************')\n",
    "users.info()\n",
    "users['tariff'].unique()\n",
    "users['age'].sort_values().unique()"
   ]
  },
  {
   "cell_type": "markdown",
   "metadata": {},
   "source": [
    "Видим 500 строк с пользователями.\n",
    "* Пустые значения только в столбце churn_date, что допустимо. Большинство пользователей не меняли тариф.\n",
    "* В столбце возраста все в порядке. Его границы от 18 до 75.\n",
    "* В столбце тариф видим только 2 тарифа, как и ожидалось.\n",
    "* С городами тоже порядок. Нет пропусков и опечаток.\n",
    "* Проблемы только с типами данных. Необходимо перевести churn_date и reg_date в datetime."
   ]
  },
  {
   "cell_type": "code",
   "execution_count": 4,
   "metadata": {},
   "outputs": [
    {
     "data": {
      "text/html": [
       "<div>\n",
       "<style scoped>\n",
       "    .dataframe tbody tr th:only-of-type {\n",
       "        vertical-align: middle;\n",
       "    }\n",
       "\n",
       "    .dataframe tbody tr th {\n",
       "        vertical-align: top;\n",
       "    }\n",
       "\n",
       "    .dataframe thead th {\n",
       "        text-align: right;\n",
       "    }\n",
       "</style>\n",
       "<table border=\"1\" class=\"dataframe\">\n",
       "  <thead>\n",
       "    <tr style=\"text-align: right;\">\n",
       "      <th></th>\n",
       "      <th>id</th>\n",
       "      <th>call_date</th>\n",
       "      <th>duration</th>\n",
       "      <th>user_id</th>\n",
       "    </tr>\n",
       "  </thead>\n",
       "  <tbody>\n",
       "    <tr>\n",
       "      <td>0</td>\n",
       "      <td>1000_0</td>\n",
       "      <td>2018-07-25</td>\n",
       "      <td>0.00</td>\n",
       "      <td>1000</td>\n",
       "    </tr>\n",
       "    <tr>\n",
       "      <td>1</td>\n",
       "      <td>1000_1</td>\n",
       "      <td>2018-08-17</td>\n",
       "      <td>0.00</td>\n",
       "      <td>1000</td>\n",
       "    </tr>\n",
       "    <tr>\n",
       "      <td>2</td>\n",
       "      <td>1000_2</td>\n",
       "      <td>2018-06-11</td>\n",
       "      <td>2.85</td>\n",
       "      <td>1000</td>\n",
       "    </tr>\n",
       "    <tr>\n",
       "      <td>3</td>\n",
       "      <td>1000_3</td>\n",
       "      <td>2018-09-21</td>\n",
       "      <td>13.80</td>\n",
       "      <td>1000</td>\n",
       "    </tr>\n",
       "    <tr>\n",
       "      <td>4</td>\n",
       "      <td>1000_4</td>\n",
       "      <td>2018-12-15</td>\n",
       "      <td>5.18</td>\n",
       "      <td>1000</td>\n",
       "    </tr>\n",
       "  </tbody>\n",
       "</table>\n",
       "</div>"
      ],
      "text/plain": [
       "       id  call_date  duration  user_id\n",
       "0  1000_0 2018-07-25      0.00     1000\n",
       "1  1000_1 2018-08-17      0.00     1000\n",
       "2  1000_2 2018-06-11      2.85     1000\n",
       "3  1000_3 2018-09-21     13.80     1000\n",
       "4  1000_4 2018-12-15      5.18     1000"
      ]
     },
     "metadata": {},
     "output_type": "display_data"
    },
    {
     "data": {
      "text/html": [
       "<div>\n",
       "<style scoped>\n",
       "    .dataframe tbody tr th:only-of-type {\n",
       "        vertical-align: middle;\n",
       "    }\n",
       "\n",
       "    .dataframe tbody tr th {\n",
       "        vertical-align: top;\n",
       "    }\n",
       "\n",
       "    .dataframe thead th {\n",
       "        text-align: right;\n",
       "    }\n",
       "</style>\n",
       "<table border=\"1\" class=\"dataframe\">\n",
       "  <thead>\n",
       "    <tr style=\"text-align: right;\">\n",
       "      <th></th>\n",
       "      <th>count</th>\n",
       "      <th>mean</th>\n",
       "      <th>std</th>\n",
       "      <th>min</th>\n",
       "      <th>25%</th>\n",
       "      <th>50%</th>\n",
       "      <th>75%</th>\n",
       "      <th>max</th>\n",
       "    </tr>\n",
       "  </thead>\n",
       "  <tbody>\n",
       "    <tr>\n",
       "      <td>duration</td>\n",
       "      <td>202607.0</td>\n",
       "      <td>6.755887</td>\n",
       "      <td>5.843365</td>\n",
       "      <td>0.0</td>\n",
       "      <td>1.3</td>\n",
       "      <td>6.0</td>\n",
       "      <td>10.7</td>\n",
       "      <td>38.0</td>\n",
       "    </tr>\n",
       "    <tr>\n",
       "      <td>user_id</td>\n",
       "      <td>202607.0</td>\n",
       "      <td>1253.940619</td>\n",
       "      <td>144.722751</td>\n",
       "      <td>1000.0</td>\n",
       "      <td>1126.0</td>\n",
       "      <td>1260.0</td>\n",
       "      <td>1379.0</td>\n",
       "      <td>1499.0</td>\n",
       "    </tr>\n",
       "  </tbody>\n",
       "</table>\n",
       "</div>"
      ],
      "text/plain": [
       "             count         mean         std     min     25%     50%     75%  \\\n",
       "duration  202607.0     6.755887    5.843365     0.0     1.3     6.0    10.7   \n",
       "user_id   202607.0  1253.940619  144.722751  1000.0  1126.0  1260.0  1379.0   \n",
       "\n",
       "             max  \n",
       "duration    38.0  \n",
       "user_id   1499.0  "
      ]
     },
     "metadata": {},
     "output_type": "display_data"
    },
    {
     "name": "stdout",
     "output_type": "stream",
     "text": [
      "************************************************\n",
      "id           0.0\n",
      "call_date    0.0\n",
      "duration     0.0\n",
      "user_id      0.0\n",
      "dtype: float64\n",
      "************************************************\n",
      "id           39613\n",
      "call_date    39613\n",
      "duration     39613\n",
      "user_id      39613\n",
      "dtype: int64\n",
      "************************************************\n",
      "<class 'pandas.core.frame.DataFrame'>\n",
      "RangeIndex: 202607 entries, 0 to 202606\n",
      "Data columns (total 4 columns):\n",
      "id           202607 non-null object\n",
      "call_date    202607 non-null datetime64[ns]\n",
      "duration     202607 non-null float64\n",
      "user_id      202607 non-null int64\n",
      "dtypes: datetime64[ns](1), float64(1), int64(1), object(1)\n",
      "memory usage: 6.2+ MB\n"
     ]
    }
   ],
   "source": [
    "calls = pd.read_csv('/datasets/calls.csv', parse_dates=['call_date']) \n",
    "display(calls.head())\n",
    "display(calls.describe().T)\n",
    "print('************************************************')\n",
    "print(calls.isna().mean())\n",
    "print('************************************************')\n",
    "print(calls.query('duration == 0').count())\n",
    "print('************************************************')\n",
    "calls.info()"
   ]
  },
  {
   "cell_type": "markdown",
   "metadata": {},
   "source": [
    "* Здесь так же видна необходимость поменять тип данных call_date. \n",
    "* Большое количество (39613 строк) несостоявшихся звонков.\n",
    "* Все звонки округлим в большую сторону. Ведь политика компании такова: \"Каждый звонок округляется отдельно: даже если он длился всего 1 секунду, будет засчитан как 1 минута\"\n",
    "* Поэтому duration переведем в int."
   ]
  },
  {
   "cell_type": "code",
   "execution_count": 5,
   "metadata": {},
   "outputs": [
    {
     "data": {
      "text/html": [
       "<div>\n",
       "<style scoped>\n",
       "    .dataframe tbody tr th:only-of-type {\n",
       "        vertical-align: middle;\n",
       "    }\n",
       "\n",
       "    .dataframe tbody tr th {\n",
       "        vertical-align: top;\n",
       "    }\n",
       "\n",
       "    .dataframe thead th {\n",
       "        text-align: right;\n",
       "    }\n",
       "</style>\n",
       "<table border=\"1\" class=\"dataframe\">\n",
       "  <thead>\n",
       "    <tr style=\"text-align: right;\">\n",
       "      <th></th>\n",
       "      <th>id</th>\n",
       "      <th>message_date</th>\n",
       "      <th>user_id</th>\n",
       "    </tr>\n",
       "  </thead>\n",
       "  <tbody>\n",
       "    <tr>\n",
       "      <td>0</td>\n",
       "      <td>1000_0</td>\n",
       "      <td>2018-06-27</td>\n",
       "      <td>1000</td>\n",
       "    </tr>\n",
       "    <tr>\n",
       "      <td>1</td>\n",
       "      <td>1000_1</td>\n",
       "      <td>2018-10-08</td>\n",
       "      <td>1000</td>\n",
       "    </tr>\n",
       "    <tr>\n",
       "      <td>2</td>\n",
       "      <td>1000_2</td>\n",
       "      <td>2018-08-04</td>\n",
       "      <td>1000</td>\n",
       "    </tr>\n",
       "    <tr>\n",
       "      <td>3</td>\n",
       "      <td>1000_3</td>\n",
       "      <td>2018-06-16</td>\n",
       "      <td>1000</td>\n",
       "    </tr>\n",
       "    <tr>\n",
       "      <td>4</td>\n",
       "      <td>1000_4</td>\n",
       "      <td>2018-12-05</td>\n",
       "      <td>1000</td>\n",
       "    </tr>\n",
       "  </tbody>\n",
       "</table>\n",
       "</div>"
      ],
      "text/plain": [
       "       id message_date  user_id\n",
       "0  1000_0   2018-06-27     1000\n",
       "1  1000_1   2018-10-08     1000\n",
       "2  1000_2   2018-08-04     1000\n",
       "3  1000_3   2018-06-16     1000\n",
       "4  1000_4   2018-12-05     1000"
      ]
     },
     "metadata": {},
     "output_type": "display_data"
    },
    {
     "data": {
      "text/html": [
       "<div>\n",
       "<style scoped>\n",
       "    .dataframe tbody tr th:only-of-type {\n",
       "        vertical-align: middle;\n",
       "    }\n",
       "\n",
       "    .dataframe tbody tr th {\n",
       "        vertical-align: top;\n",
       "    }\n",
       "\n",
       "    .dataframe thead th {\n",
       "        text-align: right;\n",
       "    }\n",
       "</style>\n",
       "<table border=\"1\" class=\"dataframe\">\n",
       "  <thead>\n",
       "    <tr style=\"text-align: right;\">\n",
       "      <th></th>\n",
       "      <th>count</th>\n",
       "      <th>mean</th>\n",
       "      <th>std</th>\n",
       "      <th>min</th>\n",
       "      <th>25%</th>\n",
       "      <th>50%</th>\n",
       "      <th>75%</th>\n",
       "      <th>max</th>\n",
       "    </tr>\n",
       "  </thead>\n",
       "  <tbody>\n",
       "    <tr>\n",
       "      <td>user_id</td>\n",
       "      <td>123036.0</td>\n",
       "      <td>1256.98941</td>\n",
       "      <td>143.523967</td>\n",
       "      <td>1000.0</td>\n",
       "      <td>1134.0</td>\n",
       "      <td>1271.0</td>\n",
       "      <td>1381.0</td>\n",
       "      <td>1499.0</td>\n",
       "    </tr>\n",
       "  </tbody>\n",
       "</table>\n",
       "</div>"
      ],
      "text/plain": [
       "            count        mean         std     min     25%     50%     75%  \\\n",
       "user_id  123036.0  1256.98941  143.523967  1000.0  1134.0  1271.0  1381.0   \n",
       "\n",
       "            max  \n",
       "user_id  1499.0  "
      ]
     },
     "metadata": {},
     "output_type": "display_data"
    },
    {
     "name": "stdout",
     "output_type": "stream",
     "text": [
      "************************************************\n",
      "id              0.0\n",
      "message_date    0.0\n",
      "user_id         0.0\n",
      "dtype: float64\n",
      "************************************************\n",
      "<class 'pandas.core.frame.DataFrame'>\n",
      "RangeIndex: 123036 entries, 0 to 123035\n",
      "Data columns (total 3 columns):\n",
      "id              123036 non-null object\n",
      "message_date    123036 non-null datetime64[ns]\n",
      "user_id         123036 non-null int64\n",
      "dtypes: datetime64[ns](1), int64(1), object(1)\n",
      "memory usage: 2.8+ MB\n"
     ]
    }
   ],
   "source": [
    "messages = pd.read_csv('/datasets/messages.csv', parse_dates=['message_date']) \n",
    "display(messages.head())\n",
    "display(messages.describe().T)\n",
    "print('************************************************')\n",
    "print(messages.isna().mean())\n",
    "print('************************************************')\n",
    "messages.info()"
   ]
  },
  {
   "cell_type": "markdown",
   "metadata": {},
   "source": [
    "* Здесь только меняем типы данных у столбцов id и message_date."
   ]
  },
  {
   "cell_type": "code",
   "execution_count": 28,
   "metadata": {},
   "outputs": [
    {
     "data": {
      "text/html": [
       "<div>\n",
       "<style scoped>\n",
       "    .dataframe tbody tr th:only-of-type {\n",
       "        vertical-align: middle;\n",
       "    }\n",
       "\n",
       "    .dataframe tbody tr th {\n",
       "        vertical-align: top;\n",
       "    }\n",
       "\n",
       "    .dataframe thead th {\n",
       "        text-align: right;\n",
       "    }\n",
       "</style>\n",
       "<table border=\"1\" class=\"dataframe\">\n",
       "  <thead>\n",
       "    <tr style=\"text-align: right;\">\n",
       "      <th></th>\n",
       "      <th>id</th>\n",
       "      <th>mb_used</th>\n",
       "      <th>session_date</th>\n",
       "      <th>user_id</th>\n",
       "    </tr>\n",
       "  </thead>\n",
       "  <tbody>\n",
       "    <tr>\n",
       "      <td>0</td>\n",
       "      <td>1000_0</td>\n",
       "      <td>112.95</td>\n",
       "      <td>2018-11-25</td>\n",
       "      <td>1000</td>\n",
       "    </tr>\n",
       "    <tr>\n",
       "      <td>1</td>\n",
       "      <td>1000_1</td>\n",
       "      <td>1052.81</td>\n",
       "      <td>2018-09-07</td>\n",
       "      <td>1000</td>\n",
       "    </tr>\n",
       "    <tr>\n",
       "      <td>2</td>\n",
       "      <td>1000_2</td>\n",
       "      <td>1197.26</td>\n",
       "      <td>2018-06-25</td>\n",
       "      <td>1000</td>\n",
       "    </tr>\n",
       "    <tr>\n",
       "      <td>3</td>\n",
       "      <td>1000_3</td>\n",
       "      <td>550.27</td>\n",
       "      <td>2018-08-22</td>\n",
       "      <td>1000</td>\n",
       "    </tr>\n",
       "    <tr>\n",
       "      <td>4</td>\n",
       "      <td>1000_4</td>\n",
       "      <td>302.56</td>\n",
       "      <td>2018-09-24</td>\n",
       "      <td>1000</td>\n",
       "    </tr>\n",
       "  </tbody>\n",
       "</table>\n",
       "</div>"
      ],
      "text/plain": [
       "       id  mb_used session_date  user_id\n",
       "0  1000_0   112.95   2018-11-25     1000\n",
       "1  1000_1  1052.81   2018-09-07     1000\n",
       "2  1000_2  1197.26   2018-06-25     1000\n",
       "3  1000_3   550.27   2018-08-22     1000\n",
       "4  1000_4   302.56   2018-09-24     1000"
      ]
     },
     "metadata": {},
     "output_type": "display_data"
    },
    {
     "data": {
      "text/html": [
       "<div>\n",
       "<style scoped>\n",
       "    .dataframe tbody tr th:only-of-type {\n",
       "        vertical-align: middle;\n",
       "    }\n",
       "\n",
       "    .dataframe tbody tr th {\n",
       "        vertical-align: top;\n",
       "    }\n",
       "\n",
       "    .dataframe thead th {\n",
       "        text-align: right;\n",
       "    }\n",
       "</style>\n",
       "<table border=\"1\" class=\"dataframe\">\n",
       "  <thead>\n",
       "    <tr style=\"text-align: right;\">\n",
       "      <th></th>\n",
       "      <th>count</th>\n",
       "      <th>mean</th>\n",
       "      <th>std</th>\n",
       "      <th>min</th>\n",
       "      <th>25%</th>\n",
       "      <th>50%</th>\n",
       "      <th>75%</th>\n",
       "      <th>max</th>\n",
       "    </tr>\n",
       "  </thead>\n",
       "  <tbody>\n",
       "    <tr>\n",
       "      <td>mb_used</td>\n",
       "      <td>149396.0</td>\n",
       "      <td>370.192426</td>\n",
       "      <td>278.300951</td>\n",
       "      <td>0.0</td>\n",
       "      <td>138.1875</td>\n",
       "      <td>348.015</td>\n",
       "      <td>559.5525</td>\n",
       "      <td>1724.83</td>\n",
       "    </tr>\n",
       "    <tr>\n",
       "      <td>user_id</td>\n",
       "      <td>149396.0</td>\n",
       "      <td>1252.099842</td>\n",
       "      <td>144.050823</td>\n",
       "      <td>1000.0</td>\n",
       "      <td>1130.0000</td>\n",
       "      <td>1251.000</td>\n",
       "      <td>1380.0000</td>\n",
       "      <td>1499.00</td>\n",
       "    </tr>\n",
       "  </tbody>\n",
       "</table>\n",
       "</div>"
      ],
      "text/plain": [
       "            count         mean         std     min        25%       50%  \\\n",
       "mb_used  149396.0   370.192426  278.300951     0.0   138.1875   348.015   \n",
       "user_id  149396.0  1252.099842  144.050823  1000.0  1130.0000  1251.000   \n",
       "\n",
       "               75%      max  \n",
       "mb_used   559.5525  1724.83  \n",
       "user_id  1380.0000  1499.00  "
      ]
     },
     "metadata": {},
     "output_type": "display_data"
    },
    {
     "name": "stdout",
     "output_type": "stream",
     "text": [
      "************************************************\n",
      "id              0.0\n",
      "mb_used         0.0\n",
      "session_date    0.0\n",
      "user_id         0.0\n",
      "dtype: float64\n",
      "************************************************\n",
      "<class 'pandas.core.frame.DataFrame'>\n",
      "Int64Index: 149396 entries, 0 to 149395\n",
      "Data columns (total 4 columns):\n",
      "id              149396 non-null object\n",
      "mb_used         149396 non-null float64\n",
      "session_date    149396 non-null datetime64[ns]\n",
      "user_id         149396 non-null int64\n",
      "dtypes: datetime64[ns](1), float64(1), int64(1), object(1)\n",
      "memory usage: 5.7+ MB\n"
     ]
    }
   ],
   "source": [
    "internet = pd.read_csv('/datasets/internet.csv', parse_dates=['session_date'], index_col=0) \n",
    "display(internet.head())\n",
    "display(internet.describe().T)\n",
    "print('************************************************')\n",
    "print(internet.isna().mean())\n",
    "print('************************************************')\n",
    "internet.info()"
   ]
  },
  {
   "cell_type": "markdown",
   "metadata": {},
   "source": [
    "* Здесь меняем типы данных в столбцах id и session_date.\n",
    "* Столбец \"Unnamed: 0\" можно удалить, он полностью дублирует индексы таблицы.\n",
    "* 19598 строк с нулевым трафиком, это седьмая часть всей таблицы. Пропуски могут быть связаны с технической ошибкой заполнения таблицы, а могут говорить о том, что пользователь не успел израсходовать трафик и прервал сессию. Бужем склоняться ко второму варианту."
   ]
  },
  {
   "cell_type": "code",
   "execution_count": 7,
   "metadata": {},
   "outputs": [
    {
     "data": {
      "text/html": [
       "<div>\n",
       "<style scoped>\n",
       "    .dataframe tbody tr th:only-of-type {\n",
       "        vertical-align: middle;\n",
       "    }\n",
       "\n",
       "    .dataframe tbody tr th {\n",
       "        vertical-align: top;\n",
       "    }\n",
       "\n",
       "    .dataframe thead th {\n",
       "        text-align: right;\n",
       "    }\n",
       "</style>\n",
       "<table border=\"1\" class=\"dataframe\">\n",
       "  <thead>\n",
       "    <tr style=\"text-align: right;\">\n",
       "      <th></th>\n",
       "      <th>messages_included</th>\n",
       "      <th>mb_per_month_included</th>\n",
       "      <th>minutes_included</th>\n",
       "      <th>rub_monthly_fee</th>\n",
       "      <th>rub_per_gb</th>\n",
       "      <th>rub_per_message</th>\n",
       "      <th>rub_per_minute</th>\n",
       "      <th>tariff_name</th>\n",
       "    </tr>\n",
       "  </thead>\n",
       "  <tbody>\n",
       "    <tr>\n",
       "      <td>0</td>\n",
       "      <td>50</td>\n",
       "      <td>15360</td>\n",
       "      <td>500</td>\n",
       "      <td>550</td>\n",
       "      <td>200</td>\n",
       "      <td>3</td>\n",
       "      <td>3</td>\n",
       "      <td>smart</td>\n",
       "    </tr>\n",
       "    <tr>\n",
       "      <td>1</td>\n",
       "      <td>1000</td>\n",
       "      <td>30720</td>\n",
       "      <td>3000</td>\n",
       "      <td>1950</td>\n",
       "      <td>150</td>\n",
       "      <td>1</td>\n",
       "      <td>1</td>\n",
       "      <td>ultra</td>\n",
       "    </tr>\n",
       "  </tbody>\n",
       "</table>\n",
       "</div>"
      ],
      "text/plain": [
       "   messages_included  mb_per_month_included  minutes_included  \\\n",
       "0                 50                  15360               500   \n",
       "1               1000                  30720              3000   \n",
       "\n",
       "   rub_monthly_fee  rub_per_gb  rub_per_message  rub_per_minute tariff_name  \n",
       "0              550         200                3               3       smart  \n",
       "1             1950         150                1               1       ultra  "
      ]
     },
     "metadata": {},
     "output_type": "display_data"
    },
    {
     "data": {
      "text/html": [
       "<div>\n",
       "<style scoped>\n",
       "    .dataframe tbody tr th:only-of-type {\n",
       "        vertical-align: middle;\n",
       "    }\n",
       "\n",
       "    .dataframe tbody tr th {\n",
       "        vertical-align: top;\n",
       "    }\n",
       "\n",
       "    .dataframe thead th {\n",
       "        text-align: right;\n",
       "    }\n",
       "</style>\n",
       "<table border=\"1\" class=\"dataframe\">\n",
       "  <thead>\n",
       "    <tr style=\"text-align: right;\">\n",
       "      <th></th>\n",
       "      <th>count</th>\n",
       "      <th>mean</th>\n",
       "      <th>std</th>\n",
       "      <th>min</th>\n",
       "      <th>25%</th>\n",
       "      <th>50%</th>\n",
       "      <th>75%</th>\n",
       "      <th>max</th>\n",
       "    </tr>\n",
       "  </thead>\n",
       "  <tbody>\n",
       "    <tr>\n",
       "      <td>messages_included</td>\n",
       "      <td>2.0</td>\n",
       "      <td>525.0</td>\n",
       "      <td>671.751442</td>\n",
       "      <td>50.0</td>\n",
       "      <td>287.5</td>\n",
       "      <td>525.0</td>\n",
       "      <td>762.5</td>\n",
       "      <td>1000.0</td>\n",
       "    </tr>\n",
       "    <tr>\n",
       "      <td>mb_per_month_included</td>\n",
       "      <td>2.0</td>\n",
       "      <td>23040.0</td>\n",
       "      <td>10861.160159</td>\n",
       "      <td>15360.0</td>\n",
       "      <td>19200.0</td>\n",
       "      <td>23040.0</td>\n",
       "      <td>26880.0</td>\n",
       "      <td>30720.0</td>\n",
       "    </tr>\n",
       "    <tr>\n",
       "      <td>minutes_included</td>\n",
       "      <td>2.0</td>\n",
       "      <td>1750.0</td>\n",
       "      <td>1767.766953</td>\n",
       "      <td>500.0</td>\n",
       "      <td>1125.0</td>\n",
       "      <td>1750.0</td>\n",
       "      <td>2375.0</td>\n",
       "      <td>3000.0</td>\n",
       "    </tr>\n",
       "    <tr>\n",
       "      <td>rub_monthly_fee</td>\n",
       "      <td>2.0</td>\n",
       "      <td>1250.0</td>\n",
       "      <td>989.949494</td>\n",
       "      <td>550.0</td>\n",
       "      <td>900.0</td>\n",
       "      <td>1250.0</td>\n",
       "      <td>1600.0</td>\n",
       "      <td>1950.0</td>\n",
       "    </tr>\n",
       "    <tr>\n",
       "      <td>rub_per_gb</td>\n",
       "      <td>2.0</td>\n",
       "      <td>175.0</td>\n",
       "      <td>35.355339</td>\n",
       "      <td>150.0</td>\n",
       "      <td>162.5</td>\n",
       "      <td>175.0</td>\n",
       "      <td>187.5</td>\n",
       "      <td>200.0</td>\n",
       "    </tr>\n",
       "    <tr>\n",
       "      <td>rub_per_message</td>\n",
       "      <td>2.0</td>\n",
       "      <td>2.0</td>\n",
       "      <td>1.414214</td>\n",
       "      <td>1.0</td>\n",
       "      <td>1.5</td>\n",
       "      <td>2.0</td>\n",
       "      <td>2.5</td>\n",
       "      <td>3.0</td>\n",
       "    </tr>\n",
       "    <tr>\n",
       "      <td>rub_per_minute</td>\n",
       "      <td>2.0</td>\n",
       "      <td>2.0</td>\n",
       "      <td>1.414214</td>\n",
       "      <td>1.0</td>\n",
       "      <td>1.5</td>\n",
       "      <td>2.0</td>\n",
       "      <td>2.5</td>\n",
       "      <td>3.0</td>\n",
       "    </tr>\n",
       "  </tbody>\n",
       "</table>\n",
       "</div>"
      ],
      "text/plain": [
       "                       count     mean           std      min      25%  \\\n",
       "messages_included        2.0    525.0    671.751442     50.0    287.5   \n",
       "mb_per_month_included    2.0  23040.0  10861.160159  15360.0  19200.0   \n",
       "minutes_included         2.0   1750.0   1767.766953    500.0   1125.0   \n",
       "rub_monthly_fee          2.0   1250.0    989.949494    550.0    900.0   \n",
       "rub_per_gb               2.0    175.0     35.355339    150.0    162.5   \n",
       "rub_per_message          2.0      2.0      1.414214      1.0      1.5   \n",
       "rub_per_minute           2.0      2.0      1.414214      1.0      1.5   \n",
       "\n",
       "                           50%      75%      max  \n",
       "messages_included        525.0    762.5   1000.0  \n",
       "mb_per_month_included  23040.0  26880.0  30720.0  \n",
       "minutes_included        1750.0   2375.0   3000.0  \n",
       "rub_monthly_fee         1250.0   1600.0   1950.0  \n",
       "rub_per_gb               175.0    187.5    200.0  \n",
       "rub_per_message            2.0      2.5      3.0  \n",
       "rub_per_minute             2.0      2.5      3.0  "
      ]
     },
     "metadata": {},
     "output_type": "display_data"
    },
    {
     "name": "stdout",
     "output_type": "stream",
     "text": [
      "************************************************\n",
      "messages_included        0.0\n",
      "mb_per_month_included    0.0\n",
      "minutes_included         0.0\n",
      "rub_monthly_fee          0.0\n",
      "rub_per_gb               0.0\n",
      "rub_per_message          0.0\n",
      "rub_per_minute           0.0\n",
      "tariff_name              0.0\n",
      "dtype: float64\n",
      "************************************************\n",
      "<class 'pandas.core.frame.DataFrame'>\n",
      "RangeIndex: 2 entries, 0 to 1\n",
      "Data columns (total 8 columns):\n",
      "messages_included        2 non-null int64\n",
      "mb_per_month_included    2 non-null int64\n",
      "minutes_included         2 non-null int64\n",
      "rub_monthly_fee          2 non-null int64\n",
      "rub_per_gb               2 non-null int64\n",
      "rub_per_message          2 non-null int64\n",
      "rub_per_minute           2 non-null int64\n",
      "tariff_name              2 non-null object\n",
      "dtypes: int64(7), object(1)\n",
      "memory usage: 256.0+ bytes\n"
     ]
    }
   ],
   "source": [
    "tariffs = pd.read_csv('/datasets/tariffs.csv') \n",
    "display(tariffs.head())\n",
    "display(tariffs.describe().T)\n",
    "print('************************************************')\n",
    "print(tariffs.isna().mean())\n",
    "print('************************************************')\n",
    "tariffs.info()"
   ]
  },
  {
   "cell_type": "markdown",
   "metadata": {},
   "source": [
    "* Здесь нужно добавить столбец gb_per_month_included - сколько Гигабайт трафика включено в тариф."
   ]
  },
  {
   "cell_type": "markdown",
   "metadata": {},
   "source": [
    "### Вывод"
   ]
  },
  {
   "cell_type": "markdown",
   "metadata": {},
   "source": [
    "Общий вывод: \n",
    "    \n",
    "    в большинстве таблиц заменяем типы данных у некоторых столбцов, \n",
    "    \n",
    "    а также удаляем дублирующий индексы столбец \"Unnamed: 0\" в таблице internet.\n",
    "    \n",
    "    Пропуски данных не обнаружены.    "
   ]
  },
  {
   "cell_type": "markdown",
   "metadata": {},
   "source": [
    "## Предобработка данных"
   ]
  },
  {
   "cell_type": "code",
   "execution_count": 8,
   "metadata": {},
   "outputs": [],
   "source": [
    "# меняем типы данных\n",
    "calls['duration'] = np.ceil(calls['duration'])\n",
    "calls['duration'] = calls['duration'].astype('int')\n",
    "\n",
    "messages['id'] = messages['id'].astype('int')\n",
    "\n",
    "# в internet удалим столбец Unnamed: 0\n",
    "internet.drop(columns='Unnamed: 0', axis=1, inplace=True, errors='ignore')\n",
    "internet['id'] = internet['id'].astype('int')\n",
    "\n",
    "# в tariffs добавим столбец gb_per_month_included\n",
    "tariffs['gb_per_month_included'] = np.ceil(tariffs['mb_per_month_included'] / 1024)"
   ]
  },
  {
   "cell_type": "markdown",
   "metadata": {},
   "source": [
    "Здесь выполнено то, что было запланировано в предыдущем разделе."
   ]
  },
  {
   "cell_type": "code",
   "execution_count": 9,
   "metadata": {},
   "outputs": [
    {
     "data": {
      "text/html": [
       "<div>\n",
       "<style scoped>\n",
       "    .dataframe tbody tr th:only-of-type {\n",
       "        vertical-align: middle;\n",
       "    }\n",
       "\n",
       "    .dataframe tbody tr th {\n",
       "        vertical-align: top;\n",
       "    }\n",
       "\n",
       "    .dataframe thead th {\n",
       "        text-align: right;\n",
       "    }\n",
       "</style>\n",
       "<table border=\"1\" class=\"dataframe\">\n",
       "  <thead>\n",
       "    <tr style=\"text-align: right;\">\n",
       "      <th></th>\n",
       "      <th>user_id</th>\n",
       "      <th>month</th>\n",
       "      <th>calls_count</th>\n",
       "      <th>calls_sum</th>\n",
       "    </tr>\n",
       "  </thead>\n",
       "  <tbody>\n",
       "    <tr>\n",
       "      <td>0</td>\n",
       "      <td>1000</td>\n",
       "      <td>5</td>\n",
       "      <td>22</td>\n",
       "      <td>159</td>\n",
       "    </tr>\n",
       "    <tr>\n",
       "      <td>1</td>\n",
       "      <td>1000</td>\n",
       "      <td>6</td>\n",
       "      <td>43</td>\n",
       "      <td>172</td>\n",
       "    </tr>\n",
       "    <tr>\n",
       "      <td>2</td>\n",
       "      <td>1000</td>\n",
       "      <td>7</td>\n",
       "      <td>47</td>\n",
       "      <td>340</td>\n",
       "    </tr>\n",
       "    <tr>\n",
       "      <td>3</td>\n",
       "      <td>1000</td>\n",
       "      <td>8</td>\n",
       "      <td>52</td>\n",
       "      <td>408</td>\n",
       "    </tr>\n",
       "    <tr>\n",
       "      <td>4</td>\n",
       "      <td>1000</td>\n",
       "      <td>9</td>\n",
       "      <td>58</td>\n",
       "      <td>466</td>\n",
       "    </tr>\n",
       "    <tr>\n",
       "      <td>...</td>\n",
       "      <td>...</td>\n",
       "      <td>...</td>\n",
       "      <td>...</td>\n",
       "      <td>...</td>\n",
       "    </tr>\n",
       "    <tr>\n",
       "      <td>3169</td>\n",
       "      <td>1498</td>\n",
       "      <td>10</td>\n",
       "      <td>41</td>\n",
       "      <td>247</td>\n",
       "    </tr>\n",
       "    <tr>\n",
       "      <td>3170</td>\n",
       "      <td>1499</td>\n",
       "      <td>9</td>\n",
       "      <td>9</td>\n",
       "      <td>70</td>\n",
       "    </tr>\n",
       "    <tr>\n",
       "      <td>3171</td>\n",
       "      <td>1499</td>\n",
       "      <td>10</td>\n",
       "      <td>68</td>\n",
       "      <td>449</td>\n",
       "    </tr>\n",
       "    <tr>\n",
       "      <td>3172</td>\n",
       "      <td>1499</td>\n",
       "      <td>11</td>\n",
       "      <td>74</td>\n",
       "      <td>612</td>\n",
       "    </tr>\n",
       "    <tr>\n",
       "      <td>3173</td>\n",
       "      <td>1499</td>\n",
       "      <td>12</td>\n",
       "      <td>69</td>\n",
       "      <td>492</td>\n",
       "    </tr>\n",
       "  </tbody>\n",
       "</table>\n",
       "<p>3174 rows × 4 columns</p>\n",
       "</div>"
      ],
      "text/plain": [
       "      user_id  month  calls_count  calls_sum\n",
       "0        1000      5           22        159\n",
       "1        1000      6           43        172\n",
       "2        1000      7           47        340\n",
       "3        1000      8           52        408\n",
       "4        1000      9           58        466\n",
       "...       ...    ...          ...        ...\n",
       "3169     1498     10           41        247\n",
       "3170     1499      9            9         70\n",
       "3171     1499     10           68        449\n",
       "3172     1499     11           74        612\n",
       "3173     1499     12           69        492\n",
       "\n",
       "[3174 rows x 4 columns]"
      ]
     },
     "metadata": {},
     "output_type": "display_data"
    }
   ],
   "source": [
    "# добавим в таблицу calls столбец месяц для последующих расчетов\n",
    "calls['month'] = pd.DatetimeIndex(calls['call_date']).month\n",
    "\n",
    "# посчитаем количество сделанных звонков и израсходованных минут разговора по месяцам\n",
    "calls_in_month = calls.groupby(['user_id','month'])['duration'].agg\\\n",
    "    (\n",
    "        {\n",
    "            'duration': ['count', 'sum']\n",
    "        }\n",
    "    ).reset_index()\n",
    "calls_in_month.columns = ['user_id', 'month', 'calls_count', 'calls_sum']\n",
    "display(calls_in_month)"
   ]
  },
  {
   "cell_type": "markdown",
   "metadata": {},
   "source": [
    "Мы создали датафрейм, отражающий для каждого пользователя количество сделанных звонков и израсходованных минут разговора по месяцам."
   ]
  },
  {
   "cell_type": "code",
   "execution_count": 10,
   "metadata": {},
   "outputs": [
    {
     "data": {
      "text/html": [
       "<div>\n",
       "<style scoped>\n",
       "    .dataframe tbody tr th:only-of-type {\n",
       "        vertical-align: middle;\n",
       "    }\n",
       "\n",
       "    .dataframe tbody tr th {\n",
       "        vertical-align: top;\n",
       "    }\n",
       "\n",
       "    .dataframe thead th {\n",
       "        text-align: right;\n",
       "    }\n",
       "</style>\n",
       "<table border=\"1\" class=\"dataframe\">\n",
       "  <thead>\n",
       "    <tr style=\"text-align: right;\">\n",
       "      <th></th>\n",
       "      <th>user_id</th>\n",
       "      <th>month</th>\n",
       "      <th>msg_count</th>\n",
       "    </tr>\n",
       "  </thead>\n",
       "  <tbody>\n",
       "    <tr>\n",
       "      <td>0</td>\n",
       "      <td>1000</td>\n",
       "      <td>5</td>\n",
       "      <td>22</td>\n",
       "    </tr>\n",
       "    <tr>\n",
       "      <td>1</td>\n",
       "      <td>1000</td>\n",
       "      <td>6</td>\n",
       "      <td>60</td>\n",
       "    </tr>\n",
       "    <tr>\n",
       "      <td>2</td>\n",
       "      <td>1000</td>\n",
       "      <td>7</td>\n",
       "      <td>75</td>\n",
       "    </tr>\n",
       "    <tr>\n",
       "      <td>3</td>\n",
       "      <td>1000</td>\n",
       "      <td>8</td>\n",
       "      <td>81</td>\n",
       "    </tr>\n",
       "    <tr>\n",
       "      <td>4</td>\n",
       "      <td>1000</td>\n",
       "      <td>9</td>\n",
       "      <td>57</td>\n",
       "    </tr>\n",
       "    <tr>\n",
       "      <td>...</td>\n",
       "      <td>...</td>\n",
       "      <td>...</td>\n",
       "      <td>...</td>\n",
       "    </tr>\n",
       "    <tr>\n",
       "      <td>2712</td>\n",
       "      <td>1498</td>\n",
       "      <td>10</td>\n",
       "      <td>42</td>\n",
       "    </tr>\n",
       "    <tr>\n",
       "      <td>2713</td>\n",
       "      <td>1499</td>\n",
       "      <td>9</td>\n",
       "      <td>11</td>\n",
       "    </tr>\n",
       "    <tr>\n",
       "      <td>2714</td>\n",
       "      <td>1499</td>\n",
       "      <td>10</td>\n",
       "      <td>48</td>\n",
       "    </tr>\n",
       "    <tr>\n",
       "      <td>2715</td>\n",
       "      <td>1499</td>\n",
       "      <td>11</td>\n",
       "      <td>59</td>\n",
       "    </tr>\n",
       "    <tr>\n",
       "      <td>2716</td>\n",
       "      <td>1499</td>\n",
       "      <td>12</td>\n",
       "      <td>66</td>\n",
       "    </tr>\n",
       "  </tbody>\n",
       "</table>\n",
       "<p>2717 rows × 3 columns</p>\n",
       "</div>"
      ],
      "text/plain": [
       "      user_id  month  msg_count\n",
       "0        1000      5         22\n",
       "1        1000      6         60\n",
       "2        1000      7         75\n",
       "3        1000      8         81\n",
       "4        1000      9         57\n",
       "...       ...    ...        ...\n",
       "2712     1498     10         42\n",
       "2713     1499      9         11\n",
       "2714     1499     10         48\n",
       "2715     1499     11         59\n",
       "2716     1499     12         66\n",
       "\n",
       "[2717 rows x 3 columns]"
      ]
     },
     "metadata": {},
     "output_type": "display_data"
    }
   ],
   "source": [
    "# добавим в таблицу messages столбец месяц для последующих расчетов\n",
    "messages['month'] = pd.DatetimeIndex(messages['message_date']).month\n",
    "\n",
    "# посчитаем количество отправленных сообщений по месяцам\n",
    "messages_in_month = messages.groupby(['user_id','month'])['message_date'].count().reset_index()\n",
    "messages_in_month.columns = ['user_id', 'month', 'msg_count']\n",
    "display(messages_in_month)"
   ]
  },
  {
   "cell_type": "markdown",
   "metadata": {},
   "source": [
    "Этот датафрейм показывает количество отправленных сообщений по месяцам."
   ]
  },
  {
   "cell_type": "code",
   "execution_count": 11,
   "metadata": {},
   "outputs": [
    {
     "data": {
      "text/html": [
       "<div>\n",
       "<style scoped>\n",
       "    .dataframe tbody tr th:only-of-type {\n",
       "        vertical-align: middle;\n",
       "    }\n",
       "\n",
       "    .dataframe tbody tr th {\n",
       "        vertical-align: top;\n",
       "    }\n",
       "\n",
       "    .dataframe thead th {\n",
       "        text-align: right;\n",
       "    }\n",
       "</style>\n",
       "<table border=\"1\" class=\"dataframe\">\n",
       "  <thead>\n",
       "    <tr style=\"text-align: right;\">\n",
       "      <th></th>\n",
       "      <th>user_id</th>\n",
       "      <th>month</th>\n",
       "      <th>internet_sum</th>\n",
       "      <th>internet_sum_gb</th>\n",
       "    </tr>\n",
       "  </thead>\n",
       "  <tbody>\n",
       "    <tr>\n",
       "      <td>0</td>\n",
       "      <td>1000</td>\n",
       "      <td>5</td>\n",
       "      <td>2253.0</td>\n",
       "      <td>3.0</td>\n",
       "    </tr>\n",
       "    <tr>\n",
       "      <td>1</td>\n",
       "      <td>1000</td>\n",
       "      <td>6</td>\n",
       "      <td>23234.0</td>\n",
       "      <td>23.0</td>\n",
       "    </tr>\n",
       "    <tr>\n",
       "      <td>2</td>\n",
       "      <td>1000</td>\n",
       "      <td>7</td>\n",
       "      <td>14004.0</td>\n",
       "      <td>14.0</td>\n",
       "    </tr>\n",
       "    <tr>\n",
       "      <td>3</td>\n",
       "      <td>1000</td>\n",
       "      <td>8</td>\n",
       "      <td>14056.0</td>\n",
       "      <td>14.0</td>\n",
       "    </tr>\n",
       "    <tr>\n",
       "      <td>4</td>\n",
       "      <td>1000</td>\n",
       "      <td>9</td>\n",
       "      <td>14569.0</td>\n",
       "      <td>15.0</td>\n",
       "    </tr>\n",
       "    <tr>\n",
       "      <td>...</td>\n",
       "      <td>...</td>\n",
       "      <td>...</td>\n",
       "      <td>...</td>\n",
       "      <td>...</td>\n",
       "    </tr>\n",
       "    <tr>\n",
       "      <td>3198</td>\n",
       "      <td>1498</td>\n",
       "      <td>10</td>\n",
       "      <td>20579.0</td>\n",
       "      <td>21.0</td>\n",
       "    </tr>\n",
       "    <tr>\n",
       "      <td>3199</td>\n",
       "      <td>1499</td>\n",
       "      <td>9</td>\n",
       "      <td>1846.0</td>\n",
       "      <td>2.0</td>\n",
       "    </tr>\n",
       "    <tr>\n",
       "      <td>3200</td>\n",
       "      <td>1499</td>\n",
       "      <td>10</td>\n",
       "      <td>17789.0</td>\n",
       "      <td>18.0</td>\n",
       "    </tr>\n",
       "    <tr>\n",
       "      <td>3201</td>\n",
       "      <td>1499</td>\n",
       "      <td>11</td>\n",
       "      <td>17963.0</td>\n",
       "      <td>18.0</td>\n",
       "    </tr>\n",
       "    <tr>\n",
       "      <td>3202</td>\n",
       "      <td>1499</td>\n",
       "      <td>12</td>\n",
       "      <td>13056.0</td>\n",
       "      <td>13.0</td>\n",
       "    </tr>\n",
       "  </tbody>\n",
       "</table>\n",
       "<p>3203 rows × 4 columns</p>\n",
       "</div>"
      ],
      "text/plain": [
       "      user_id  month  internet_sum  internet_sum_gb\n",
       "0        1000      5        2253.0              3.0\n",
       "1        1000      6       23234.0             23.0\n",
       "2        1000      7       14004.0             14.0\n",
       "3        1000      8       14056.0             14.0\n",
       "4        1000      9       14569.0             15.0\n",
       "...       ...    ...           ...              ...\n",
       "3198     1498     10       20579.0             21.0\n",
       "3199     1499      9        1846.0              2.0\n",
       "3200     1499     10       17789.0             18.0\n",
       "3201     1499     11       17963.0             18.0\n",
       "3202     1499     12       13056.0             13.0\n",
       "\n",
       "[3203 rows x 4 columns]"
      ]
     },
     "metadata": {},
     "output_type": "display_data"
    }
   ],
   "source": [
    "# добавим в таблицу calls столбец месяц для последующих расчетов\n",
    "internet['month'] = pd.DatetimeIndex(internet['session_date']).month\n",
    "\n",
    "# посчитаем объем израсходованного интернет-трафика по месяцам\n",
    "internet_in_month = internet.groupby(['user_id','month'])['mb_used'].sum().round().reset_index()\n",
    "internet_in_month.columns = ['user_id', 'month', 'internet_sum']\n",
    "internet_in_month['internet_sum_gb'] = np.ceil(internet_in_month['internet_sum'] / 1024)\n",
    "display(internet_in_month)"
   ]
  },
  {
   "cell_type": "markdown",
   "metadata": {},
   "source": [
    "* Создали датафрейм объемом израсходованного интернет-трафика по месяцам. \n",
    "* Дополнили столбцом, округлив число использованных Гигабайт трафика, согласно политике \"Мегалайна\":\"Для веб-трафика отдельные сессии не считаются. Вместо этого общая сумма за месяц округляется в бо́льшую сторону. Если абонент использует 1025 мегабайт в этом месяце, с него возьмут плату за 2 гигабайта.\""
   ]
  },
  {
   "cell_type": "code",
   "execution_count": 12,
   "metadata": {},
   "outputs": [],
   "source": [
    "# объединим полученные датафреймы в один\n",
    "total_in_month = calls_in_month.merge(messages_in_month[['user_id', 'month', 'msg_count']],  how='outer', on=['user_id', 'month'])\n",
    "total_in_month = total_in_month.merge(internet_in_month[['user_id', 'month', 'internet_sum', 'internet_sum_gb']], how='outer', on=['user_id', 'month'])"
   ]
  },
  {
   "cell_type": "code",
   "execution_count": 13,
   "metadata": {},
   "outputs": [],
   "source": [
    "# дополним total_in_month данными о тарифах\n",
    "total_in_month = total_in_month.merge(users[['user_id','city','tariff']], on='user_id')\n",
    "total_in_month = total_in_month.rename(columns={'tariff': 'tariff_name'})\n",
    "\n",
    "total_in_month = total_in_month.merge(\n",
    "    tariffs[\n",
    "        ['tariff_name','minutes_included','rub_per_minute','messages_included',\n",
    "         'rub_per_message','gb_per_month_included','rub_per_gb','rub_monthly_fee']\n",
    "    ], on='tariff_name')"
   ]
  },
  {
   "cell_type": "code",
   "execution_count": 14,
   "metadata": {},
   "outputs": [],
   "source": [
    "# пустые значения по использованным услугам заменим нулями\n",
    "total_in_month.fillna(0, inplace=True)"
   ]
  },
  {
   "cell_type": "code",
   "execution_count": 15,
   "metadata": {
    "scrolled": true
   },
   "outputs": [
    {
     "name": "stdout",
     "output_type": "stream",
     "text": [
      "<class 'pandas.core.frame.DataFrame'>\n",
      "Int64Index: 3214 entries, 0 to 3213\n",
      "Data columns (total 20 columns):\n",
      "user_id                  3214 non-null int64\n",
      "month                    3214 non-null int64\n",
      "calls_count              3214 non-null float64\n",
      "calls_sum                3214 non-null float64\n",
      "msg_count                3214 non-null float64\n",
      "internet_sum             3214 non-null float64\n",
      "internet_sum_gb          3214 non-null float64\n",
      "city                     3214 non-null object\n",
      "tariff_name              3214 non-null object\n",
      "minutes_included         3214 non-null int64\n",
      "rub_per_minute           3214 non-null int64\n",
      "messages_included        3214 non-null int64\n",
      "rub_per_message          3214 non-null int64\n",
      "gb_per_month_included    3214 non-null float64\n",
      "rub_per_gb               3214 non-null int64\n",
      "rub_monthly_fee          3214 non-null int64\n",
      "calls_revenue            3214 non-null float64\n",
      "msg_revenue              3214 non-null float64\n",
      "internet_revenue         3214 non-null float64\n",
      "total_revenue            3214 non-null float64\n",
      "dtypes: float64(10), int64(8), object(2)\n",
      "memory usage: 527.3+ KB\n"
     ]
    },
    {
     "data": {
      "text/plain": [
       "None"
      ]
     },
     "metadata": {},
     "output_type": "display_data"
    },
    {
     "data": {
      "text/html": [
       "<div>\n",
       "<style scoped>\n",
       "    .dataframe tbody tr th:only-of-type {\n",
       "        vertical-align: middle;\n",
       "    }\n",
       "\n",
       "    .dataframe tbody tr th {\n",
       "        vertical-align: top;\n",
       "    }\n",
       "\n",
       "    .dataframe thead th {\n",
       "        text-align: right;\n",
       "    }\n",
       "</style>\n",
       "<table border=\"1\" class=\"dataframe\">\n",
       "  <thead>\n",
       "    <tr style=\"text-align: right;\">\n",
       "      <th></th>\n",
       "      <th>user_id</th>\n",
       "      <th>month</th>\n",
       "      <th>calls_count</th>\n",
       "      <th>calls_sum</th>\n",
       "      <th>msg_count</th>\n",
       "      <th>internet_sum</th>\n",
       "      <th>internet_sum_gb</th>\n",
       "      <th>city</th>\n",
       "      <th>tariff_name</th>\n",
       "      <th>minutes_included</th>\n",
       "      <th>rub_per_minute</th>\n",
       "      <th>messages_included</th>\n",
       "      <th>rub_per_message</th>\n",
       "      <th>gb_per_month_included</th>\n",
       "      <th>rub_per_gb</th>\n",
       "      <th>rub_monthly_fee</th>\n",
       "      <th>calls_revenue</th>\n",
       "      <th>msg_revenue</th>\n",
       "      <th>internet_revenue</th>\n",
       "      <th>total_revenue</th>\n",
       "    </tr>\n",
       "  </thead>\n",
       "  <tbody>\n",
       "    <tr>\n",
       "      <td>50</td>\n",
       "      <td>1024</td>\n",
       "      <td>11</td>\n",
       "      <td>157.0</td>\n",
       "      <td>1146.0</td>\n",
       "      <td>0.0</td>\n",
       "      <td>43107.0</td>\n",
       "      <td>43.0</td>\n",
       "      <td>Санкт-Петербург</td>\n",
       "      <td>ultra</td>\n",
       "      <td>3000</td>\n",
       "      <td>1</td>\n",
       "      <td>1000</td>\n",
       "      <td>1</td>\n",
       "      <td>30.0</td>\n",
       "      <td>150</td>\n",
       "      <td>1950</td>\n",
       "      <td>0.0</td>\n",
       "      <td>0.0</td>\n",
       "      <td>1950.0</td>\n",
       "      <td>3900.0</td>\n",
       "    </tr>\n",
       "    <tr>\n",
       "      <td>51</td>\n",
       "      <td>1024</td>\n",
       "      <td>12</td>\n",
       "      <td>136.0</td>\n",
       "      <td>949.0</td>\n",
       "      <td>0.0</td>\n",
       "      <td>35948.0</td>\n",
       "      <td>36.0</td>\n",
       "      <td>Санкт-Петербург</td>\n",
       "      <td>ultra</td>\n",
       "      <td>3000</td>\n",
       "      <td>1</td>\n",
       "      <td>1000</td>\n",
       "      <td>1</td>\n",
       "      <td>30.0</td>\n",
       "      <td>150</td>\n",
       "      <td>1950</td>\n",
       "      <td>0.0</td>\n",
       "      <td>0.0</td>\n",
       "      <td>900.0</td>\n",
       "      <td>2850.0</td>\n",
       "    </tr>\n",
       "    <tr>\n",
       "      <td>78</td>\n",
       "      <td>1050</td>\n",
       "      <td>7</td>\n",
       "      <td>35.0</td>\n",
       "      <td>209.0</td>\n",
       "      <td>52.0</td>\n",
       "      <td>35178.0</td>\n",
       "      <td>35.0</td>\n",
       "      <td>Тюмень</td>\n",
       "      <td>ultra</td>\n",
       "      <td>3000</td>\n",
       "      <td>1</td>\n",
       "      <td>1000</td>\n",
       "      <td>1</td>\n",
       "      <td>30.0</td>\n",
       "      <td>150</td>\n",
       "      <td>1950</td>\n",
       "      <td>0.0</td>\n",
       "      <td>0.0</td>\n",
       "      <td>750.0</td>\n",
       "      <td>2700.0</td>\n",
       "    </tr>\n",
       "    <tr>\n",
       "      <td>97</td>\n",
       "      <td>1060</td>\n",
       "      <td>12</td>\n",
       "      <td>184.0</td>\n",
       "      <td>1233.0</td>\n",
       "      <td>52.0</td>\n",
       "      <td>43931.0</td>\n",
       "      <td>43.0</td>\n",
       "      <td>Калуга</td>\n",
       "      <td>ultra</td>\n",
       "      <td>3000</td>\n",
       "      <td>1</td>\n",
       "      <td>1000</td>\n",
       "      <td>1</td>\n",
       "      <td>30.0</td>\n",
       "      <td>150</td>\n",
       "      <td>1950</td>\n",
       "      <td>0.0</td>\n",
       "      <td>0.0</td>\n",
       "      <td>1950.0</td>\n",
       "      <td>3900.0</td>\n",
       "    </tr>\n",
       "    <tr>\n",
       "      <td>211</td>\n",
       "      <td>1124</td>\n",
       "      <td>10</td>\n",
       "      <td>152.0</td>\n",
       "      <td>1225.0</td>\n",
       "      <td>121.0</td>\n",
       "      <td>49746.0</td>\n",
       "      <td>49.0</td>\n",
       "      <td>Махачкала</td>\n",
       "      <td>ultra</td>\n",
       "      <td>3000</td>\n",
       "      <td>1</td>\n",
       "      <td>1000</td>\n",
       "      <td>1</td>\n",
       "      <td>30.0</td>\n",
       "      <td>150</td>\n",
       "      <td>1950</td>\n",
       "      <td>0.0</td>\n",
       "      <td>0.0</td>\n",
       "      <td>2850.0</td>\n",
       "      <td>4800.0</td>\n",
       "    </tr>\n",
       "    <tr>\n",
       "      <td>...</td>\n",
       "      <td>...</td>\n",
       "      <td>...</td>\n",
       "      <td>...</td>\n",
       "      <td>...</td>\n",
       "      <td>...</td>\n",
       "      <td>...</td>\n",
       "      <td>...</td>\n",
       "      <td>...</td>\n",
       "      <td>...</td>\n",
       "      <td>...</td>\n",
       "      <td>...</td>\n",
       "      <td>...</td>\n",
       "      <td>...</td>\n",
       "      <td>...</td>\n",
       "      <td>...</td>\n",
       "      <td>...</td>\n",
       "      <td>...</td>\n",
       "      <td>...</td>\n",
       "      <td>...</td>\n",
       "      <td>...</td>\n",
       "    </tr>\n",
       "    <tr>\n",
       "      <td>3208</td>\n",
       "      <td>1499</td>\n",
       "      <td>12</td>\n",
       "      <td>69.0</td>\n",
       "      <td>492.0</td>\n",
       "      <td>66.0</td>\n",
       "      <td>13056.0</td>\n",
       "      <td>13.0</td>\n",
       "      <td>Пермь</td>\n",
       "      <td>smart</td>\n",
       "      <td>500</td>\n",
       "      <td>3</td>\n",
       "      <td>50</td>\n",
       "      <td>3</td>\n",
       "      <td>15.0</td>\n",
       "      <td>200</td>\n",
       "      <td>550</td>\n",
       "      <td>0.0</td>\n",
       "      <td>48.0</td>\n",
       "      <td>0.0</td>\n",
       "      <td>598.0</td>\n",
       "    </tr>\n",
       "    <tr>\n",
       "      <td>3210</td>\n",
       "      <td>1489</td>\n",
       "      <td>9</td>\n",
       "      <td>0.0</td>\n",
       "      <td>0.0</td>\n",
       "      <td>32.0</td>\n",
       "      <td>17206.0</td>\n",
       "      <td>17.0</td>\n",
       "      <td>Санкт-Петербург</td>\n",
       "      <td>smart</td>\n",
       "      <td>500</td>\n",
       "      <td>3</td>\n",
       "      <td>50</td>\n",
       "      <td>3</td>\n",
       "      <td>15.0</td>\n",
       "      <td>200</td>\n",
       "      <td>550</td>\n",
       "      <td>0.0</td>\n",
       "      <td>0.0</td>\n",
       "      <td>400.0</td>\n",
       "      <td>950.0</td>\n",
       "    </tr>\n",
       "    <tr>\n",
       "      <td>3211</td>\n",
       "      <td>1489</td>\n",
       "      <td>10</td>\n",
       "      <td>0.0</td>\n",
       "      <td>0.0</td>\n",
       "      <td>21.0</td>\n",
       "      <td>19559.0</td>\n",
       "      <td>20.0</td>\n",
       "      <td>Санкт-Петербург</td>\n",
       "      <td>smart</td>\n",
       "      <td>500</td>\n",
       "      <td>3</td>\n",
       "      <td>50</td>\n",
       "      <td>3</td>\n",
       "      <td>15.0</td>\n",
       "      <td>200</td>\n",
       "      <td>550</td>\n",
       "      <td>0.0</td>\n",
       "      <td>0.0</td>\n",
       "      <td>1000.0</td>\n",
       "      <td>1550.0</td>\n",
       "    </tr>\n",
       "    <tr>\n",
       "      <td>3212</td>\n",
       "      <td>1489</td>\n",
       "      <td>11</td>\n",
       "      <td>0.0</td>\n",
       "      <td>0.0</td>\n",
       "      <td>20.0</td>\n",
       "      <td>17492.0</td>\n",
       "      <td>18.0</td>\n",
       "      <td>Санкт-Петербург</td>\n",
       "      <td>smart</td>\n",
       "      <td>500</td>\n",
       "      <td>3</td>\n",
       "      <td>50</td>\n",
       "      <td>3</td>\n",
       "      <td>15.0</td>\n",
       "      <td>200</td>\n",
       "      <td>550</td>\n",
       "      <td>0.0</td>\n",
       "      <td>0.0</td>\n",
       "      <td>600.0</td>\n",
       "      <td>1150.0</td>\n",
       "    </tr>\n",
       "    <tr>\n",
       "      <td>3213</td>\n",
       "      <td>1489</td>\n",
       "      <td>12</td>\n",
       "      <td>0.0</td>\n",
       "      <td>0.0</td>\n",
       "      <td>35.0</td>\n",
       "      <td>17323.0</td>\n",
       "      <td>17.0</td>\n",
       "      <td>Санкт-Петербург</td>\n",
       "      <td>smart</td>\n",
       "      <td>500</td>\n",
       "      <td>3</td>\n",
       "      <td>50</td>\n",
       "      <td>3</td>\n",
       "      <td>15.0</td>\n",
       "      <td>200</td>\n",
       "      <td>550</td>\n",
       "      <td>0.0</td>\n",
       "      <td>0.0</td>\n",
       "      <td>400.0</td>\n",
       "      <td>950.0</td>\n",
       "    </tr>\n",
       "  </tbody>\n",
       "</table>\n",
       "<p>1796 rows × 20 columns</p>\n",
       "</div>"
      ],
      "text/plain": [
       "      user_id  month  calls_count  calls_sum  msg_count  internet_sum  \\\n",
       "50       1024     11        157.0     1146.0        0.0       43107.0   \n",
       "51       1024     12        136.0      949.0        0.0       35948.0   \n",
       "78       1050      7         35.0      209.0       52.0       35178.0   \n",
       "97       1060     12        184.0     1233.0       52.0       43931.0   \n",
       "211      1124     10        152.0     1225.0      121.0       49746.0   \n",
       "...       ...    ...          ...        ...        ...           ...   \n",
       "3208     1499     12         69.0      492.0       66.0       13056.0   \n",
       "3210     1489      9          0.0        0.0       32.0       17206.0   \n",
       "3211     1489     10          0.0        0.0       21.0       19559.0   \n",
       "3212     1489     11          0.0        0.0       20.0       17492.0   \n",
       "3213     1489     12          0.0        0.0       35.0       17323.0   \n",
       "\n",
       "      internet_sum_gb             city tariff_name  minutes_included  \\\n",
       "50               43.0  Санкт-Петербург       ultra              3000   \n",
       "51               36.0  Санкт-Петербург       ultra              3000   \n",
       "78               35.0           Тюмень       ultra              3000   \n",
       "97               43.0           Калуга       ultra              3000   \n",
       "211              49.0        Махачкала       ultra              3000   \n",
       "...               ...              ...         ...               ...   \n",
       "3208             13.0            Пермь       smart               500   \n",
       "3210             17.0  Санкт-Петербург       smart               500   \n",
       "3211             20.0  Санкт-Петербург       smart               500   \n",
       "3212             18.0  Санкт-Петербург       smart               500   \n",
       "3213             17.0  Санкт-Петербург       smart               500   \n",
       "\n",
       "      rub_per_minute  messages_included  rub_per_message  \\\n",
       "50                 1               1000                1   \n",
       "51                 1               1000                1   \n",
       "78                 1               1000                1   \n",
       "97                 1               1000                1   \n",
       "211                1               1000                1   \n",
       "...              ...                ...              ...   \n",
       "3208               3                 50                3   \n",
       "3210               3                 50                3   \n",
       "3211               3                 50                3   \n",
       "3212               3                 50                3   \n",
       "3213               3                 50                3   \n",
       "\n",
       "      gb_per_month_included  rub_per_gb  rub_monthly_fee  calls_revenue  \\\n",
       "50                     30.0         150             1950            0.0   \n",
       "51                     30.0         150             1950            0.0   \n",
       "78                     30.0         150             1950            0.0   \n",
       "97                     30.0         150             1950            0.0   \n",
       "211                    30.0         150             1950            0.0   \n",
       "...                     ...         ...              ...            ...   \n",
       "3208                   15.0         200              550            0.0   \n",
       "3210                   15.0         200              550            0.0   \n",
       "3211                   15.0         200              550            0.0   \n",
       "3212                   15.0         200              550            0.0   \n",
       "3213                   15.0         200              550            0.0   \n",
       "\n",
       "      msg_revenue  internet_revenue  total_revenue  \n",
       "50            0.0            1950.0         3900.0  \n",
       "51            0.0             900.0         2850.0  \n",
       "78            0.0             750.0         2700.0  \n",
       "97            0.0            1950.0         3900.0  \n",
       "211           0.0            2850.0         4800.0  \n",
       "...           ...               ...            ...  \n",
       "3208         48.0               0.0          598.0  \n",
       "3210          0.0             400.0          950.0  \n",
       "3211          0.0            1000.0         1550.0  \n",
       "3212          0.0             600.0         1150.0  \n",
       "3213          0.0             400.0          950.0  \n",
       "\n",
       "[1796 rows x 20 columns]"
      ]
     },
     "metadata": {},
     "output_type": "display_data"
    }
   ],
   "source": [
    "# рассчитаем помесячную выручку с каждого пользователя \n",
    "total_in_month['calls_revenue'] = (total_in_month['calls_sum'] - total_in_month['minutes_included']) * total_in_month['rub_per_minute']\n",
    "total_in_month.loc[total_in_month[\"calls_revenue\"] < 0, \"calls_revenue\"] = 0\n",
    "\n",
    "total_in_month['msg_revenue'] = (total_in_month['msg_count'] - total_in_month['messages_included']) * total_in_month['rub_per_message']\n",
    "total_in_month.loc[total_in_month[\"msg_revenue\"] < 0, \"msg_revenue\"] = 0\n",
    "\n",
    "total_in_month['internet_revenue'] = (total_in_month['internet_sum_gb'] - total_in_month['gb_per_month_included']) * total_in_month['rub_per_gb']\n",
    "total_in_month.loc[total_in_month[\"internet_revenue\"] < 0, \"internet_revenue\"] = 0\n",
    "\n",
    "total_in_month['total_revenue'] = total_in_month['calls_revenue'] + total_in_month['msg_revenue'] + total_in_month['internet_revenue'] + total_in_month['rub_monthly_fee']\n",
    "display(total_in_month.info())\n",
    "display(total_in_month[total_in_month['total_revenue'] > total_in_month['rub_monthly_fee']]) "
   ]
  },
  {
   "cell_type": "markdown",
   "metadata": {},
   "source": [
    "### Вывод"
   ]
  },
  {
   "cell_type": "markdown",
   "metadata": {},
   "source": [
    "Получен датафрейм _total_in_month_, где рассчитано:\n",
    "* количество сделанных звонков и израсходованных минут разговора по месяцам(_calls_count и calls_sum_);\n",
    "* количество отправленных сообщений по месяцам(_msg_count_);\n",
    "* объем израсходованного интернет-трафика по месяцам(_internet_sum_gb Гбайт_);\n",
    "* помесячная выручка с каждого пользователя (вычли бесплатный лимит из суммарного количества звонков, сообщений и интернет-трафика; остаток умножили на значение из тарифного плана; прибавили абонентскую плату, соответствующую тарифному плану).\n",
    "\n",
    "Здесь 3214 строк. Основной ключ это пара _user_id_ и _month_. \n",
    "\n",
    "Каждая строка отражает, какой тариф был у пользователя в этом месяце, сколько он потратил минут разговора, отправил сообщений, израсходовал трафика, и сколько превысил этих значений по своему тарифу, сколько переплатил и за что.\n",
    "\n",
    "Видим, что превысили лимит по трафику в 1796 случаях из 3214. Превышение обычно происходит в чем-то одном. Чаще это интеренет."
   ]
  },
  {
   "cell_type": "markdown",
   "metadata": {},
   "source": [
    "## Анализ данных"
   ]
  },
  {
   "cell_type": "code",
   "execution_count": 16,
   "metadata": {},
   "outputs": [
    {
     "name": "stdout",
     "output_type": "stream",
     "text": [
      "                   mean            var         std\n",
      "              calls_sum      calls_sum   calls_sum\n",
      "tariff_name                                       \n",
      "smart        417.934948   36219.315784  190.313730\n",
      "ultra        526.623350  100873.633397  317.606098\n"
     ]
    },
    {
     "data": {
      "image/png": "[encoded data removed]",
      "text/plain": [
       "<Figure size 432x288 with 1 Axes>"
      ]
     },
     "metadata": {
      "needs_background": "light"
     },
     "output_type": "display_data"
    },
    {
     "data": {
      "image/png": "[encoded data removed]",
      "text/plain": [
       "<Figure size 432x288 with 1 Axes>"
      ]
     },
     "metadata": {
      "needs_background": "light"
     },
     "output_type": "display_data"
    },
    {
     "data": {
      "image/png": "[encoded data removed]",
      "text/plain": [
       "<Figure size 432x288 with 1 Axes>"
      ]
     },
     "metadata": {
      "needs_background": "light"
     },
     "output_type": "display_data"
    }
   ],
   "source": [
    "# рассмотрим минуты звонков\n",
    "pvt = pd.pivot_table(\n",
    "    total_in_month, values=['calls_sum'], index='tariff_name', aggfunc=[np.mean,np.var,np.std]\n",
    "    )\n",
    "print(pvt)\n",
    "\n",
    "sns.distplot(\n",
    "    total_in_month['calls_sum'][total_in_month['tariff_name']=='smart'],\n",
    "    hist = False, kde = True, label='Smart')\n",
    "\n",
    "sns.distplot(    \n",
    "    total_in_month['calls_sum'][total_in_month['tariff_name']=='ultra'],\n",
    "    hist = False, kde = True, label='Ultra')\n",
    "\n",
    "plt.legend()\n",
    "plt.xlabel('Время звонков в минутах')\n",
    "plt.ylabel('Плотность')\n",
    "plt.title('Сколько минут потратили пользователи на звонки')\n",
    "plt.show()\n",
    "\n",
    "sns.boxplot(x='calls_sum', data=(total_in_month[total_in_month['tariff_name']=='smart']))\n",
    "plt.title('Smart')\n",
    "plt.xlabel('Время звонков в минутах')\n",
    "plt.show()\n",
    "sns.boxplot(x='calls_sum', data=(total_in_month[total_in_month['tariff_name']=='ultra']))\n",
    "plt.title('Ultra')\n",
    "plt.xlabel('Время звонков в минутах')\n",
    "plt.show()"
   ]
  },
  {
   "cell_type": "markdown",
   "metadata": {},
   "source": [
    "* Посчитаны среднее количество минут разговоров, дисперсия и стандартное отклонение\n",
    "* Гистограмма тарифа Smart показывает в большей степени нормальное распределение\n",
    "* Гистограмма тарифа Ultra тоже близка к нормальному распределению, но ее плотность распределения ниже, а также она имеет скошенность вправо.\n",
    "* Среднее в Ultra правее, чем в Smart. Это объясняется большим количеством включенных в абонентсвую плату минут.\n",
    "* Стандартное отклонение больше у тарифа Ultra, из-за чего гистограмма более растянутая.\n",
    "* Диаграммы размаха дают больше информации о скошенности, на них видны первый и третий квартили."
   ]
  },
  {
   "cell_type": "code",
   "execution_count": 17,
   "metadata": {},
   "outputs": [
    {
     "name": "stdout",
     "output_type": "stream",
     "text": [
      "                  mean    median          var        std\n",
      "             msg_count msg_count    msg_count  msg_count\n",
      "tariff_name                                             \n",
      "smart        33.384029      28.0   796.812958  28.227876\n",
      "ultra        49.363452      38.0  2285.266143  47.804457\n"
     ]
    },
    {
     "data": {
      "image/png": "[encoded data removed]",
      "text/plain": [
       "<Figure size 432x288 with 1 Axes>"
      ]
     },
     "metadata": {
      "needs_background": "light"
     },
     "output_type": "display_data"
    },
    {
     "data": {
      "image/png": "[encoded data removed]",
      "text/plain": [
       "<Figure size 432x288 with 1 Axes>"
      ]
     },
     "metadata": {
      "needs_background": "light"
     },
     "output_type": "display_data"
    }
   ],
   "source": [
    "# рассмотрим количество отправленных сообщений\n",
    "pvt = pd.pivot_table(\n",
    "    total_in_month, values=['msg_count'], index='tariff_name', aggfunc=[np.mean,np.median,np.var,np.std]\n",
    "    )\n",
    "print(pvt)\n",
    "\n",
    "sns.distplot(\n",
    "    total_in_month['msg_count'][total_in_month['tariff_name']=='smart'],\n",
    "    hist = False, kde = True, label='Smart')\n",
    "\n",
    "sns.distplot(    \n",
    "    total_in_month['msg_count'][total_in_month['tariff_name']=='ultra'],\n",
    "    hist = False, kde = True, label='Ultra')\n",
    "\n",
    "plt.legend()\n",
    "plt.xlabel('Число отправленных сообщений')\n",
    "plt.ylabel('Плотность')\n",
    "plt.title('Сколько сообщений отправили пользователи за месяц')\n",
    "plt.show()\n",
    "\n",
    "sns.boxplot(data=total_in_month, x='tariff_name', y='msg_count')\n",
    "plt.xlabel('Тариф')\n",
    "plt.ylabel('Число отправленных сообщений')\n",
    "plt.show()"
   ]
  },
  {
   "cell_type": "markdown",
   "metadata": {},
   "source": [
    "* Здесь видим распределение, близкое к распределению Пуассона. \n",
    "* Поэтому больше пользы несет не среднее, а медианное значение. Среднее смещено влево.\n",
    "* Стандартное отклонение большое.\n",
    "* Здесь так же в Ultra плотность ниже, чем в Smart. Но и скошенность вправо сильнее.\n",
    "* Диаграмма размаха показывает это наглядно."
   ]
  },
  {
   "cell_type": "code",
   "execution_count": 18,
   "metadata": {},
   "outputs": [
    {
     "name": "stdout",
     "output_type": "stream",
     "text": [
      "                       mean             var             std\n",
      "            internet_sum_gb internet_sum_gb internet_sum_gb\n",
      "tariff_name                                                \n",
      "smart             16.328847       33.028705        5.747061\n",
      "ultra             19.494416       97.091686        9.853511\n"
     ]
    },
    {
     "data": {
      "image/png": "[encoded data removed]",
      "text/plain": [
       "<Figure size 432x288 with 1 Axes>"
      ]
     },
     "metadata": {
      "needs_background": "light"
     },
     "output_type": "display_data"
    },
    {
     "data": {
      "image/png": "[encoded data removed]",
      "text/plain": [
       "<Figure size 432x288 with 1 Axes>"
      ]
     },
     "metadata": {
      "needs_background": "light"
     },
     "output_type": "display_data"
    }
   ],
   "source": [
    "# рассмотрим трафик\n",
    "pvt = pd.pivot_table(\n",
    "    total_in_month, values=['internet_sum_gb'], index='tariff_name', aggfunc=[np.mean,np.var,np.std]\n",
    "    )\n",
    "print(pvt)\n",
    "\n",
    "sns.distplot(\n",
    "    total_in_month['internet_sum_gb'][total_in_month['tariff_name']=='smart'],\n",
    "    hist = False, kde = True, label='Smart')\n",
    "\n",
    "sns.distplot(    \n",
    "    total_in_month['internet_sum_gb'][total_in_month['tariff_name']=='ultra'],\n",
    "    hist = False, kde = True, label='Ultra')\n",
    "\n",
    "plt.legend()\n",
    "plt.xlabel('Число израсходованных Гбайт трафика')\n",
    "plt.ylabel('Плотность')\n",
    "plt.title('Сколько трафика потратили пользователи за месяц')\n",
    "plt.show() \n",
    "\n",
    "sns.boxplot(data=total_in_month, x='tariff_name', y='internet_sum_gb')\n",
    "plt.xlabel('Тариф')\n",
    "plt.ylabel('Число израсходованных Гбайт трафика')\n",
    "plt.show()"
   ]
  },
  {
   "cell_type": "markdown",
   "metadata": {},
   "source": [
    "* Здесь оба распределения нормальные, но снова плотность Smarta выше, а Ultra немного смещен вправо. И разброс у него шире."
   ]
  },
  {
   "cell_type": "markdown",
   "metadata": {},
   "source": [
    "### Вывод"
   ]
  },
  {
   "cell_type": "markdown",
   "metadata": {},
   "source": [
    "Мы получили средние, дисперсии и стандартные отклонения по 3 видам услуг.\n",
    "\n",
    "Меньше всего стандартные отклонения в трафике, больше всего - в исходящих сообщениях. Поэтому там мы еще посчитали медианное среднее.\n",
    "\n",
    "Ближе всего к нормальному распределение трафика, в звонках тоже распределение нормальное. А вот в сообщениях оно близко к Пуассоновскому.\n",
    "\n",
    "Все 3 случая показали, что плотность распределения выше в тарифе Smart, а разброс данных, сдвиг медианы и скошенность вправо - в тарифе Ultra."
   ]
  },
  {
   "cell_type": "markdown",
   "metadata": {},
   "source": [
    "## Проверка гипотез"
   ]
  },
  {
   "cell_type": "code",
   "execution_count": 19,
   "metadata": {},
   "outputs": [],
   "source": [
    "# Зададим уровень значимости \n",
    "alpha = 0.05\n",
    "# Для исследуемой области этого достаточно."
   ]
  },
  {
   "cell_type": "markdown",
   "metadata": {},
   "source": [
    "### Первая гипотеза"
   ]
  },
  {
   "cell_type": "markdown",
   "metadata": {},
   "source": [
    "**Нулевая гипотеза** - средняя выручка пользователей тарифов «Ультра» и «Смарт» не различаются.\n",
    "\n",
    "**Альтернативная гипотеза** - средняя выручка пользователей тарифов «Ультра» и «Смарт» различаются.\n",
    "\n",
    "_Чтобы проверить равенство генеральных совокупностей с помощью t_теста, необходимо выполнение следуюзих условий:\n",
    "1. Генеральные совокупности не должны зависеть друг от друга (да, наши выборки по тарифам не зависят друг от друга)\n",
    "2. Выборочные средние должны быть нормально распределены (это мы проверим с помощью гистограмм)\n",
    "3. Дисперсии рассматриваемых генеральных совокупностей должны быть равны (проверим. В случае разных дисперсий применим параметр equal_var = False)"
   ]
  },
  {
   "cell_type": "code",
   "execution_count": 20,
   "metadata": {},
   "outputs": [
    {
     "data": {
      "image/png": "[encoded data removed]",
      "text/plain": [
       "<Figure size 432x288 with 1 Axes>"
      ]
     },
     "metadata": {
      "needs_background": "light"
     },
     "output_type": "display_data"
    }
   ],
   "source": [
    "plt.hist(\n",
    "    total_in_month['total_revenue'][total_in_month['tariff_name']=='smart'],\n",
    "    label='Smart')\n",
    "\n",
    "plt.hist(    \n",
    "    total_in_month['total_revenue'][total_in_month['tariff_name']=='ultra'],\n",
    "    label='Ultra')\n",
    "\n",
    "plt.legend()\n",
    "plt.xlabel('Общая выручка')\n",
    "plt.ylabel('Плотность')\n",
    "plt.show() "
   ]
  },
  {
   "cell_type": "markdown",
   "metadata": {},
   "source": [
    "Получили две скошенные вправо гистограммы. Попробуем принять эти распределения за нормальные."
   ]
  },
  {
   "cell_type": "code",
   "execution_count": 21,
   "metadata": {},
   "outputs": [
    {
     "name": "stdout",
     "output_type": "stream",
     "text": [
      "                     mean        median            var           std\n",
      "            total_revenue total_revenue  total_revenue total_revenue\n",
      "tariff_name                                                         \n",
      "smart         1289.973531        1023.0  669785.708006    818.404367\n",
      "ultra         2070.152284        1950.0  141516.745079    376.187114\n",
      "*********************\n",
      "p-значение:  4.2606313931076085e-250\n",
      "Отвергаем нулевую гипотезу\n"
     ]
    }
   ],
   "source": [
    "# проверим средние, дисперсии и стандартные отклонения\n",
    "pvt = pd.pivot_table(\n",
    "    total_in_month, values=['total_revenue'], index='tariff_name', aggfunc=[np.mean,np.median,np.var,np.std]\n",
    "    )\n",
    "print(pvt)\n",
    "\n",
    "# раз дисперсии сильно отличаются, передадим параметр equal_var = False\n",
    "results = st.ttest_ind(\n",
    "    total_in_month['total_revenue'][total_in_month['tariff_name']=='smart'], \n",
    "    total_in_month['total_revenue'][total_in_month['tariff_name']=='ultra'],\n",
    "    equal_var = False)\n",
    "print('*********************')\n",
    "print('p-значение: ', results.pvalue)\n",
    "\n",
    "if results.pvalue < alpha:\n",
    "    print(\"Отвергаем нулевую гипотезу\")\n",
    "else:\n",
    "    print(\"Не получилось отвергнуть нулевую гипотезу\") "
   ]
  },
  {
   "cell_type": "markdown",
   "metadata": {},
   "source": [
    "### Вывод"
   ]
  },
  {
   "cell_type": "markdown",
   "metadata": {},
   "source": [
    "Нельзя считать среднюю выручку пользователей тарифов «Ультра» и «Смарт» одинаковой, это показал t_тест.\n",
    "\n",
    "Раз отвергается нулевая гипотеза, принимается альтернативная, т.е. средняя выручка пользователей тарифов «Ультра» и «Смарт» различаются."
   ]
  },
  {
   "cell_type": "markdown",
   "metadata": {},
   "source": [
    "### Вторая гипотеза"
   ]
  },
  {
   "cell_type": "markdown",
   "metadata": {},
   "source": [
    "**Нулевая гипотеза** - средняя выручка пользователей из Москвы не отличается от выручки пользователей из других регионов.\n",
    "\n",
    "**Альтернативная гипотеза** - средняя выручка пользователей из Москвы отличается от выручки пользователей из других регионов."
   ]
  },
  {
   "cell_type": "code",
   "execution_count": 22,
   "metadata": {},
   "outputs": [
    {
     "data": {
      "image/png": "[encoded data removed]",
      "text/plain": [
       "<Figure size 432x288 with 1 Axes>"
      ]
     },
     "metadata": {
      "needs_background": "light"
     },
     "output_type": "display_data"
    }
   ],
   "source": [
    "sns.distplot(\n",
    "    total_in_month['total_revenue'][total_in_month['city']=='Москва'],\n",
    "    hist = False, kde = True, label='Москва')\n",
    "\n",
    "sns.distplot(    \n",
    "    total_in_month['total_revenue'][total_in_month['city']!='Москва'],\n",
    "    hist = False, kde = True, label='Остальные')\n",
    "\n",
    "plt.legend()\n",
    "plt.xlabel('Общая выручка')\n",
    "plt.ylabel('Плотность')\n",
    "plt.show() "
   ]
  },
  {
   "cell_type": "code",
   "execution_count": 23,
   "metadata": {},
   "outputs": [
    {
     "name": "stdout",
     "output_type": "stream",
     "text": [
      "*********************\n",
      "p-значение:  0.5440152911670224\n",
      "Не получилось отвергнуть нулевую гипотезу\n"
     ]
    }
   ],
   "source": [
    "# видно, как близко идут значения. Дисперсии тоже близки, передадим параметр equal_var = True\n",
    "results = st.ttest_ind(\n",
    "    total_in_month['total_revenue'][total_in_month['city']=='Москва'], \n",
    "    total_in_month['total_revenue'][total_in_month['city']!='Москва'])\n",
    "\n",
    "print('*********************')\n",
    "print('p-значение: ', results.pvalue)\n",
    "\n",
    "if results.pvalue < alpha:\n",
    "    print(\"Отвергаем нулевую гипотезу\")\n",
    "else:\n",
    "    print(\"Не получилось отвергнуть нулевую гипотезу\") "
   ]
  },
  {
   "cell_type": "markdown",
   "metadata": {},
   "source": [
    "Нельзя сказать, что средняя выручка пользователей из Москвы отличается от выручки пользователей из других регионов.\n",
    "\n",
    "Это дает результат t-теста, и видно по гистограммам."
   ]
  },
  {
   "cell_type": "markdown",
   "metadata": {},
   "source": [
    "Получили у гистограмм по два ярко выраженных пика, значит, это бимодальные гистограммы. \n",
    "\n",
    "Во многих случаях это значит, что выборки происходят из двух разных популяций, так как наличие двух мод в одной популяции маловероятное явление\n",
    "\n",
    "Разделим выборки по тарифам. Тогда можно будет работать дальше."
   ]
  },
  {
   "cell_type": "code",
   "execution_count": 24,
   "metadata": {},
   "outputs": [
    {
     "data": {
      "image/png": "[encoded data removed]",
      "text/plain": [
       "<Figure size 432x288 with 1 Axes>"
      ]
     },
     "metadata": {
      "needs_background": "light"
     },
     "output_type": "display_data"
    }
   ],
   "source": [
    "# тариф Smart\n",
    "sns.distplot(\n",
    "    total_in_month['total_revenue'][(total_in_month['city']=='Москва') & (total_in_month['tariff_name']=='smart')],\n",
    "    hist = False, kde = True, label='Москва')\n",
    "\n",
    "sns.distplot(    \n",
    "    total_in_month['total_revenue'][(total_in_month['city']!='Москва') & (total_in_month['tariff_name']=='smart')],\n",
    "    hist = False, kde = True, label='Остальные')\n",
    "\n",
    "plt.legend()\n",
    "plt.xlabel('Общая выручка Smart')\n",
    "plt.ylabel('Плотность')\n",
    "plt.show() "
   ]
  },
  {
   "cell_type": "markdown",
   "metadata": {},
   "source": [
    "Так лучше, хоть и со скошенностью вправо."
   ]
  },
  {
   "cell_type": "code",
   "execution_count": 25,
   "metadata": {
    "scrolled": true
   },
   "outputs": [
    {
     "name": "stdout",
     "output_type": "stream",
     "text": [
      "*********************\n",
      "p-значение:  0.18150864159228705\n",
      "Не получилось отвергнуть нулевую гипотезу\n"
     ]
    }
   ],
   "source": [
    "# видно, как близко идут значения. Дисперсии тоже близки, передадим параметр equal_var = True\n",
    "results = st.ttest_ind(\n",
    "    total_in_month['total_revenue'][(total_in_month['city']=='Москва') & (total_in_month['tariff_name']=='smart')], \n",
    "    total_in_month['total_revenue'][(total_in_month['city']!='Москва') & (total_in_month['tariff_name']=='smart')])\n",
    "\n",
    "print('*********************')\n",
    "print('p-значение: ', results.pvalue)\n",
    "\n",
    "if results.pvalue < alpha:\n",
    "    print(\"Отвергаем нулевую гипотезу\")\n",
    "else:\n",
    "    print(\"Не получилось отвергнуть нулевую гипотезу\") "
   ]
  },
  {
   "cell_type": "markdown",
   "metadata": {},
   "source": [
    "По тарифу Smart мы не можем сказать, что средняя выручка пользователей из Москвы отличается от выручки пользователей из других регионов.\n",
    "\n",
    "Это дает результат t-теста, да и видно по гистограммам."
   ]
  },
  {
   "cell_type": "code",
   "execution_count": 26,
   "metadata": {},
   "outputs": [
    {
     "data": {
      "image/png": "[encoded data removed]",
      "text/plain": [
       "<Figure size 432x288 with 1 Axes>"
      ]
     },
     "metadata": {
      "needs_background": "light"
     },
     "output_type": "display_data"
    }
   ],
   "source": [
    "# тариф Ultra\n",
    "sns.distplot(\n",
    "    total_in_month['total_revenue'][(total_in_month['city']=='Москва') & (total_in_month['tariff_name']=='ultra')],\n",
    "    hist = False, kde = True, label='Москва')\n",
    "\n",
    "sns.distplot(    \n",
    "    total_in_month['total_revenue'][(total_in_month['city']!='Москва') & (total_in_month['tariff_name']=='ultra')],\n",
    "    hist = False, kde = True, label='Остальные')\n",
    "\n",
    "plt.legend()\n",
    "plt.xlabel('Общая выручка Ultra')\n",
    "plt.ylabel('Плотность')\n",
    "plt.show() "
   ]
  },
  {
   "cell_type": "markdown",
   "metadata": {},
   "source": [
    "По тарифу Ultra тот же результат. Мы не можем считать разными выручки и с этого тарифа по Москве и остальным городам."
   ]
  },
  {
   "cell_type": "markdown",
   "metadata": {},
   "source": [
    "## Общий вывод"
   ]
  },
  {
   "cell_type": "markdown",
   "metadata": {},
   "source": [
    "* Первоначальное знакомство с данными показало, что:\n",
    "\n",
    "   1. В большинстве таблиц необходимо заменить типы данных у некоторых столбцов, \n",
    "    \n",
    "   2. А также нужно удалить дублирующий индексы столбец \"Unnamed: 0\" в таблице internet.\n",
    "    \n",
    "   3. Пропуски данных не обнаружены\n",
    "   \n",
    "* Предобработка данных привела к созданию датафрейма total_in_month, где рассчитано:\n",
    "\n",
    "   1. количество сделанных звонков и израсходованных минут разговора по месяцам(calls_count и calls_sum);\n",
    "   2. количество отправленных сообщений по месяцам(msg_count);\n",
    "   3. объем израсходованного интернет-трафика по месяцам(internet_sum_gb Гбайт);\n",
    "   4. помесячная выручка с каждого пользователя (вычли бесплатный лимит из суммарного количества звонков, сообщений и интернет-трафика; остаток умножили на значение из тарифного плана; прибавили абонентскую плату, соответствующую тарифному плану).\n",
    "Здесь 3214 строк. Основной ключ это пара user_id и month.\n",
    "\n",
    "Каждая строка отражает, какой тариф был у пользователя в этом месяце, сколько он потратил минут разговора, отправил сообщений, израсходовал трафика, и сколько превысил этих значений по своему тарифу, сколько переплатил и за что.\n",
    "\n",
    "* Анализ данных дал средние, дисперсии и стандартные отклонения по 3 видам услуг.\n",
    "\n",
    "    1. Меньше всего стандартные отклонения в трафике, больше всего - в исходящих сообщениях. Поэтому там мы еще посчитали медианное среднее.\n",
    "    2. Ближе всего к нормальному распределение трафика, в звонках тоже распределение нормальное. А вот в сообщениях оно близко к Пуассоновскому.\n",
    "    3. Все 3 случая показали, что плотность распределения выше в тарифе Smart, а разброс данных, сдвиг медианы и скошенность вправо - в тарифе Ultra.\n",
    "    \n",
    "* Проверка гипотез выявила, что:\n",
    "\n",
    "    1. Средняя выручка пользователей тарифов «Ультра» и «Смарт» различаются;\n",
    "    2. Нельзя сказать, что средняя выручка пользователей из Москвы отличается от выручки пользователей из других регионов.    "
   ]
  },
  {
   "cell_type": "code",
   "execution_count": null,
   "metadata": {},
   "outputs": [],
   "source": []
  }
 ],
 "metadata": {
  "ExecuteTimeLog": [
   {
    "duration": 1068,
    "start_time": "2022-02-16T09:52:26.051Z"
   },
   {
    "duration": 2,
    "start_time": "2022-02-16T09:52:32.882Z"
   },
   {
    "duration": 479,
    "start_time": "2022-02-16T09:53:22.138Z"
   },
   {
    "duration": 490,
    "start_time": "2022-02-16T09:53:43.110Z"
   },
   {
    "duration": 464,
    "start_time": "2022-02-16T09:53:53.309Z"
   },
   {
    "duration": 217,
    "start_time": "2022-02-16T09:54:02.472Z"
   },
   {
    "duration": 51,
    "start_time": "2022-02-16T09:56:04.586Z"
   },
   {
    "duration": 114,
    "start_time": "2022-02-16T09:59:31.060Z"
   },
   {
    "duration": 160,
    "start_time": "2022-02-16T10:01:32.636Z"
   },
   {
    "duration": 43,
    "start_time": "2022-02-16T10:02:48.939Z"
   },
   {
    "duration": 3698,
    "start_time": "2022-02-16T10:20:48.123Z"
   },
   {
    "duration": 48,
    "start_time": "2022-02-16T10:21:17.715Z"
   },
   {
    "duration": 46,
    "start_time": "2022-02-16T10:21:56.701Z"
   },
   {
    "duration": 210,
    "start_time": "2022-02-16T10:22:09.526Z"
   },
   {
    "duration": 179,
    "start_time": "2022-02-16T10:22:18.530Z"
   },
   {
    "duration": 40,
    "start_time": "2022-02-16T10:22:33.923Z"
   },
   {
    "duration": 46,
    "start_time": "2022-02-16T10:28:41.513Z"
   },
   {
    "duration": 50,
    "start_time": "2022-02-16T10:29:00.371Z"
   },
   {
    "duration": 3491,
    "start_time": "2022-02-16T10:30:20.327Z"
   },
   {
    "duration": 170,
    "start_time": "2022-02-16T10:30:45.628Z"
   },
   {
    "duration": 42,
    "start_time": "2022-02-16T10:31:05.470Z"
   },
   {
    "duration": 43,
    "start_time": "2022-02-16T10:31:15.811Z"
   },
   {
    "duration": 40,
    "start_time": "2022-02-16T10:31:29.812Z"
   },
   {
    "duration": 207,
    "start_time": "2022-02-16T12:21:48.507Z"
   },
   {
    "duration": 202,
    "start_time": "2022-02-16T12:23:53.155Z"
   },
   {
    "duration": 335,
    "start_time": "2022-02-16T12:25:18.690Z"
   },
   {
    "duration": 209,
    "start_time": "2022-02-16T12:25:33.754Z"
   },
   {
    "duration": 214,
    "start_time": "2022-02-16T12:25:47.503Z"
   },
   {
    "duration": 3588,
    "start_time": "2022-02-16T12:36:13.780Z"
   },
   {
    "duration": 4199,
    "start_time": "2022-02-16T12:36:38.166Z"
   },
   {
    "duration": 7323,
    "start_time": "2022-02-16T12:37:00.638Z"
   },
   {
    "duration": 6823,
    "start_time": "2022-02-16T12:37:22.616Z"
   },
   {
    "duration": 3557,
    "start_time": "2022-02-16T12:37:38.084Z"
   },
   {
    "duration": 3588,
    "start_time": "2022-02-16T12:38:05.527Z"
   },
   {
    "duration": 5016,
    "start_time": "2022-02-16T12:38:21.503Z"
   },
   {
    "duration": 259,
    "start_time": "2022-02-16T12:38:55.106Z"
   },
   {
    "duration": 62,
    "start_time": "2022-02-16T12:39:44.587Z"
   },
   {
    "duration": 311,
    "start_time": "2022-02-16T12:40:00.699Z"
   },
   {
    "duration": 293,
    "start_time": "2022-02-16T12:40:11.524Z"
   },
   {
    "duration": 316,
    "start_time": "2022-02-16T12:41:41.767Z"
   },
   {
    "duration": 203,
    "start_time": "2022-02-16T12:42:01.233Z"
   },
   {
    "duration": 49,
    "start_time": "2022-02-16T13:23:21.959Z"
   },
   {
    "duration": 1401,
    "start_time": "2022-02-16T13:23:46.068Z"
   },
   {
    "duration": 1460,
    "start_time": "2022-02-16T13:25:36.343Z"
   },
   {
    "duration": 1243,
    "start_time": "2022-02-16T16:50:37.579Z"
   },
   {
    "duration": 3,
    "start_time": "2022-02-16T16:50:38.824Z"
   },
   {
    "duration": 58,
    "start_time": "2022-02-16T16:50:38.829Z"
   },
   {
    "duration": 71,
    "start_time": "2022-02-16T16:50:38.889Z"
   },
   {
    "duration": 111,
    "start_time": "2022-02-16T16:50:38.851Z"
   },
   {
    "duration": 106,
    "start_time": "2022-02-16T16:50:38.857Z"
   },
   {
    "duration": 103,
    "start_time": "2022-02-16T16:50:38.861Z"
   },
   {
    "duration": 101,
    "start_time": "2022-02-16T16:50:38.864Z"
   },
   {
    "duration": 1163,
    "start_time": "2022-02-16T16:51:28.643Z"
   },
   {
    "duration": 3,
    "start_time": "2022-02-16T16:51:29.808Z"
   },
   {
    "duration": 67,
    "start_time": "2022-02-16T16:51:29.813Z"
   },
   {
    "duration": 350,
    "start_time": "2022-02-16T16:51:29.882Z"
   },
   {
    "duration": 154,
    "start_time": "2022-02-16T16:51:30.234Z"
   },
   {
    "duration": 1600,
    "start_time": "2022-02-16T16:51:30.390Z"
   },
   {
    "duration": 53,
    "start_time": "2022-02-16T16:51:31.993Z"
   },
   {
    "duration": 74,
    "start_time": "2022-02-16T17:41:02.393Z"
   },
   {
    "duration": 1155,
    "start_time": "2022-02-18T12:58:29.238Z"
   },
   {
    "duration": 3,
    "start_time": "2022-02-18T12:58:30.395Z"
   },
   {
    "duration": 58,
    "start_time": "2022-02-18T12:58:30.408Z"
   },
   {
    "duration": 249,
    "start_time": "2022-02-18T12:58:30.468Z"
   },
   {
    "duration": 137,
    "start_time": "2022-02-18T12:58:30.719Z"
   },
   {
    "duration": 1721,
    "start_time": "2022-02-18T12:58:30.858Z"
   },
   {
    "duration": 57,
    "start_time": "2022-02-18T12:58:32.580Z"
   },
   {
    "duration": 5,
    "start_time": "2022-02-18T13:05:08.552Z"
   },
   {
    "duration": 8,
    "start_time": "2022-02-18T13:05:19.472Z"
   },
   {
    "duration": 8,
    "start_time": "2022-02-18T13:06:55.282Z"
   },
   {
    "duration": 7,
    "start_time": "2022-02-18T13:06:59.679Z"
   },
   {
    "duration": 7,
    "start_time": "2022-02-18T13:07:54.518Z"
   },
   {
    "duration": 8,
    "start_time": "2022-02-18T13:07:56.478Z"
   },
   {
    "duration": 464,
    "start_time": "2022-02-18T13:09:26.157Z"
   },
   {
    "duration": 8,
    "start_time": "2022-02-18T13:09:26.789Z"
   },
   {
    "duration": 220,
    "start_time": "2022-02-18T13:09:47.784Z"
   },
   {
    "duration": 317,
    "start_time": "2022-02-18T13:10:25.895Z"
   },
   {
    "duration": 251,
    "start_time": "2022-02-18T13:10:32.256Z"
   },
   {
    "duration": 261,
    "start_time": "2022-02-18T13:10:59.635Z"
   },
   {
    "duration": 9,
    "start_time": "2022-02-18T13:11:31.814Z"
   },
   {
    "duration": 7,
    "start_time": "2022-02-18T13:11:33.463Z"
   },
   {
    "duration": 7,
    "start_time": "2022-02-18T13:15:14.720Z"
   },
   {
    "duration": 7,
    "start_time": "2022-02-18T13:15:16.564Z"
   },
   {
    "duration": 7,
    "start_time": "2022-02-18T13:16:31.661Z"
   },
   {
    "duration": 241,
    "start_time": "2022-02-18T13:23:51.390Z"
   },
   {
    "duration": 8,
    "start_time": "2022-02-18T13:24:04.399Z"
   },
   {
    "duration": 7,
    "start_time": "2022-02-18T13:24:06.433Z"
   },
   {
    "duration": 12,
    "start_time": "2022-02-18T13:24:35.752Z"
   },
   {
    "duration": 8,
    "start_time": "2022-02-18T13:24:37.955Z"
   },
   {
    "duration": 7,
    "start_time": "2022-02-18T13:26:45.656Z"
   },
   {
    "duration": 8,
    "start_time": "2022-02-18T13:26:48.250Z"
   },
   {
    "duration": 3,
    "start_time": "2022-02-18T13:27:50.524Z"
   },
   {
    "duration": 4,
    "start_time": "2022-02-18T13:28:13.471Z"
   },
   {
    "duration": 10,
    "start_time": "2022-02-18T13:28:21.225Z"
   },
   {
    "duration": 213,
    "start_time": "2022-02-18T13:31:07.528Z"
   },
   {
    "duration": 401,
    "start_time": "2022-02-18T13:31:31.268Z"
   },
   {
    "duration": 335,
    "start_time": "2022-02-18T13:32:10.504Z"
   },
   {
    "duration": 512,
    "start_time": "2022-02-18T13:32:20.797Z"
   },
   {
    "duration": 6,
    "start_time": "2022-02-18T13:32:43.234Z"
   },
   {
    "duration": 5,
    "start_time": "2022-02-18T13:34:40.027Z"
   },
   {
    "duration": 228,
    "start_time": "2022-02-18T13:41:57.052Z"
   },
   {
    "duration": 11,
    "start_time": "2022-02-18T13:42:05.364Z"
   },
   {
    "duration": 10,
    "start_time": "2022-02-18T13:42:10.897Z"
   },
   {
    "duration": 16,
    "start_time": "2022-02-18T13:42:47.357Z"
   },
   {
    "duration": 261,
    "start_time": "2022-02-18T13:48:36.030Z"
   },
   {
    "duration": 222,
    "start_time": "2022-02-18T13:49:12.755Z"
   },
   {
    "duration": 30,
    "start_time": "2022-02-18T13:49:19.684Z"
   },
   {
    "duration": 48,
    "start_time": "2022-02-18T13:49:51.425Z"
   },
   {
    "duration": 28,
    "start_time": "2022-02-18T13:50:29.391Z"
   },
   {
    "duration": 41,
    "start_time": "2022-02-18T13:50:55.413Z"
   },
   {
    "duration": 31,
    "start_time": "2022-02-18T13:51:34.666Z"
   },
   {
    "duration": 53,
    "start_time": "2022-02-18T13:52:49.269Z"
   },
   {
    "duration": 40,
    "start_time": "2022-02-18T13:53:25.971Z"
   },
   {
    "duration": 42,
    "start_time": "2022-02-18T13:56:11.412Z"
   },
   {
    "duration": 300,
    "start_time": "2022-02-18T13:57:38.835Z"
   },
   {
    "duration": 73,
    "start_time": "2022-02-18T13:58:27.700Z"
   },
   {
    "duration": 33,
    "start_time": "2022-02-18T13:59:49.267Z"
   },
   {
    "duration": 38,
    "start_time": "2022-02-18T14:01:22.389Z"
   },
   {
    "duration": 1310,
    "start_time": "2022-02-18T14:52:12.092Z"
   },
   {
    "duration": 4,
    "start_time": "2022-02-18T14:52:13.404Z"
   },
   {
    "duration": 60,
    "start_time": "2022-02-18T14:52:13.411Z"
   },
   {
    "duration": 250,
    "start_time": "2022-02-18T14:52:13.474Z"
   },
   {
    "duration": 139,
    "start_time": "2022-02-18T14:52:13.727Z"
   },
   {
    "duration": 1728,
    "start_time": "2022-02-18T14:52:13.868Z"
   },
   {
    "duration": 52,
    "start_time": "2022-02-18T14:52:15.598Z"
   },
   {
    "duration": 172,
    "start_time": "2022-02-18T14:52:15.652Z"
   },
   {
    "duration": 10,
    "start_time": "2022-02-18T14:55:39.031Z"
   },
   {
    "duration": 53,
    "start_time": "2022-02-18T14:56:25.789Z"
   },
   {
    "duration": 11,
    "start_time": "2022-02-18T14:56:30.298Z"
   },
   {
    "duration": 38,
    "start_time": "2022-02-18T14:56:46.775Z"
   },
   {
    "duration": 11,
    "start_time": "2022-02-18T14:56:50.287Z"
   },
   {
    "duration": 33,
    "start_time": "2022-02-18T14:58:03.726Z"
   },
   {
    "duration": 11,
    "start_time": "2022-02-18T14:58:06.878Z"
   },
   {
    "duration": 42,
    "start_time": "2022-02-18T15:02:04.675Z"
   },
   {
    "duration": 12,
    "start_time": "2022-02-18T15:02:07.748Z"
   },
   {
    "duration": 40,
    "start_time": "2022-02-18T15:02:24.572Z"
   },
   {
    "duration": 94,
    "start_time": "2022-02-18T15:04:15.006Z"
   },
   {
    "duration": 15,
    "start_time": "2022-02-18T15:04:44.202Z"
   },
   {
    "duration": 50,
    "start_time": "2022-02-18T15:08:29.965Z"
   },
   {
    "duration": 14,
    "start_time": "2022-02-18T15:08:34.170Z"
   },
   {
    "duration": 37,
    "start_time": "2022-02-18T15:08:53.973Z"
   },
   {
    "duration": 74,
    "start_time": "2022-02-18T15:09:11.676Z"
   },
   {
    "duration": 46,
    "start_time": "2022-02-18T15:09:15.059Z"
   },
   {
    "duration": 37,
    "start_time": "2022-02-18T15:09:38.945Z"
   },
   {
    "duration": 43,
    "start_time": "2022-02-18T15:16:30.064Z"
   },
   {
    "duration": 38,
    "start_time": "2022-02-18T15:17:07.004Z"
   },
   {
    "duration": 34,
    "start_time": "2022-02-18T15:17:30.431Z"
   },
   {
    "duration": 58,
    "start_time": "2022-02-18T15:18:28.056Z"
   },
   {
    "duration": 56,
    "start_time": "2022-02-18T15:18:36.763Z"
   },
   {
    "duration": 36,
    "start_time": "2022-02-18T15:18:54.231Z"
   },
   {
    "duration": 36,
    "start_time": "2022-02-18T15:21:29.693Z"
   },
   {
    "duration": 40,
    "start_time": "2022-02-18T15:28:27.909Z"
   },
   {
    "duration": 43,
    "start_time": "2022-02-18T15:29:05.650Z"
   },
   {
    "duration": 13,
    "start_time": "2022-02-18T15:29:12.189Z"
   },
   {
    "duration": 13,
    "start_time": "2022-02-18T15:29:30.880Z"
   },
   {
    "duration": 25,
    "start_time": "2022-02-18T15:33:52.794Z"
   },
   {
    "duration": 10,
    "start_time": "2022-02-18T15:33:54.214Z"
   },
   {
    "duration": 39,
    "start_time": "2022-02-18T15:38:36.067Z"
   },
   {
    "duration": 42,
    "start_time": "2022-02-18T15:38:53.325Z"
   },
   {
    "duration": 51,
    "start_time": "2022-02-18T15:45:51.687Z"
   },
   {
    "duration": 56,
    "start_time": "2022-02-18T15:47:24.802Z"
   },
   {
    "duration": 58,
    "start_time": "2022-02-18T15:51:40.581Z"
   },
   {
    "duration": 1908,
    "start_time": "2022-02-18T15:52:56.265Z"
   },
   {
    "duration": 57,
    "start_time": "2022-02-18T15:53:25.860Z"
   },
   {
    "duration": 92,
    "start_time": "2022-02-18T15:56:17.608Z"
   },
   {
    "duration": 57,
    "start_time": "2022-02-18T15:56:24.763Z"
   },
   {
    "duration": 59,
    "start_time": "2022-02-18T15:56:42.731Z"
   },
   {
    "duration": 58,
    "start_time": "2022-02-18T15:59:20.556Z"
   },
   {
    "duration": 64,
    "start_time": "2022-02-18T16:01:55.807Z"
   },
   {
    "duration": 60,
    "start_time": "2022-02-18T16:02:57.128Z"
   },
   {
    "duration": 311,
    "start_time": "2022-02-18T16:03:16.262Z"
   },
   {
    "duration": 59,
    "start_time": "2022-02-18T16:07:29.503Z"
   },
   {
    "duration": 233,
    "start_time": "2022-02-18T16:09:03.656Z"
   },
   {
    "duration": 329,
    "start_time": "2022-02-18T16:09:22.465Z"
   },
   {
    "duration": 18,
    "start_time": "2022-02-18T16:09:39.165Z"
   },
   {
    "duration": 25,
    "start_time": "2022-02-18T16:09:48.983Z"
   },
   {
    "duration": 40,
    "start_time": "2022-02-18T16:10:58.045Z"
   },
   {
    "duration": 29,
    "start_time": "2022-02-18T16:11:15.586Z"
   },
   {
    "duration": 39,
    "start_time": "2022-02-18T16:11:45.570Z"
   },
   {
    "duration": 54,
    "start_time": "2022-02-18T16:14:48.789Z"
   },
   {
    "duration": 78,
    "start_time": "2022-02-18T17:11:21.647Z"
   },
   {
    "duration": 1027,
    "start_time": "2022-02-18T17:12:31.315Z"
   },
   {
    "duration": 278,
    "start_time": "2022-02-18T17:15:27.167Z"
   },
   {
    "duration": 89,
    "start_time": "2022-02-18T17:19:16.036Z"
   },
   {
    "duration": 60,
    "start_time": "2022-02-18T17:19:41.577Z"
   },
   {
    "duration": 58,
    "start_time": "2022-02-18T17:19:53.031Z"
   },
   {
    "duration": 14,
    "start_time": "2022-02-18T17:20:49.551Z"
   },
   {
    "duration": 39,
    "start_time": "2022-02-18T17:22:34.175Z"
   },
   {
    "duration": 40,
    "start_time": "2022-02-18T17:22:51.712Z"
   },
   {
    "duration": 41,
    "start_time": "2022-02-18T17:23:10.253Z"
   },
   {
    "duration": 42,
    "start_time": "2022-02-18T17:23:16.622Z"
   },
   {
    "duration": 48,
    "start_time": "2022-02-18T17:23:24.496Z"
   },
   {
    "duration": 40,
    "start_time": "2022-02-18T17:23:32.528Z"
   },
   {
    "duration": 9424,
    "start_time": "2022-02-18T17:30:28.435Z"
   },
   {
    "duration": 917,
    "start_time": "2022-02-18T17:30:58.021Z"
   },
   {
    "duration": 964,
    "start_time": "2022-02-18T17:31:22.164Z"
   },
   {
    "duration": 39,
    "start_time": "2022-02-18T17:32:04.239Z"
   },
   {
    "duration": 43,
    "start_time": "2022-02-18T17:48:36.261Z"
   },
   {
    "duration": 1106,
    "start_time": "2022-02-18T17:49:07.615Z"
   },
   {
    "duration": 59,
    "start_time": "2022-02-18T17:49:21.908Z"
   },
   {
    "duration": 61,
    "start_time": "2022-02-18T17:49:41.370Z"
   },
   {
    "duration": 68,
    "start_time": "2022-02-18T17:50:31.104Z"
   },
   {
    "duration": 52,
    "start_time": "2022-02-18T17:50:59.929Z"
   },
   {
    "duration": 37,
    "start_time": "2022-02-18T17:51:19.221Z"
   },
   {
    "duration": 35,
    "start_time": "2022-02-18T17:51:24.490Z"
   },
   {
    "duration": 42,
    "start_time": "2022-02-18T17:51:28.593Z"
   },
   {
    "duration": 313,
    "start_time": "2022-02-18T17:52:32.836Z"
   },
   {
    "duration": 372,
    "start_time": "2022-02-18T17:52:59.972Z"
   },
   {
    "duration": 29,
    "start_time": "2022-02-18T17:53:31.278Z"
   },
   {
    "duration": 312,
    "start_time": "2022-02-18T17:54:07.097Z"
   },
   {
    "duration": 41,
    "start_time": "2022-02-18T17:54:16.796Z"
   },
   {
    "duration": 272,
    "start_time": "2022-02-18T17:56:00.754Z"
   },
   {
    "duration": 261,
    "start_time": "2022-02-18T17:56:17.760Z"
   },
   {
    "duration": 143,
    "start_time": "2022-02-18T17:56:23.721Z"
   },
   {
    "duration": 245,
    "start_time": "2022-02-18T17:56:45.741Z"
   },
   {
    "duration": 70,
    "start_time": "2022-02-18T17:58:58.800Z"
   },
   {
    "duration": 44,
    "start_time": "2022-02-18T17:59:08.369Z"
   },
   {
    "duration": 33,
    "start_time": "2022-02-18T17:59:43.539Z"
   },
   {
    "duration": 32,
    "start_time": "2022-02-18T18:00:06.752Z"
   },
   {
    "duration": 35,
    "start_time": "2022-02-18T18:00:16.414Z"
   },
   {
    "duration": 44,
    "start_time": "2022-02-18T18:01:49.467Z"
   },
   {
    "duration": 42,
    "start_time": "2022-02-18T18:01:58.602Z"
   },
   {
    "duration": 151,
    "start_time": "2022-02-18T18:08:24.153Z"
   },
   {
    "duration": 259,
    "start_time": "2022-02-18T18:08:30.480Z"
   },
   {
    "duration": 277,
    "start_time": "2022-02-18T18:08:45.405Z"
   },
   {
    "duration": 1248,
    "start_time": "2022-02-18T18:09:14.890Z"
   },
   {
    "duration": 3,
    "start_time": "2022-02-18T18:09:16.140Z"
   },
   {
    "duration": 76,
    "start_time": "2022-02-18T18:09:16.146Z"
   },
   {
    "duration": 250,
    "start_time": "2022-02-18T18:09:16.225Z"
   },
   {
    "duration": 134,
    "start_time": "2022-02-18T18:09:16.477Z"
   },
   {
    "duration": 1647,
    "start_time": "2022-02-18T18:09:16.613Z"
   },
   {
    "duration": 57,
    "start_time": "2022-02-18T18:09:18.263Z"
   },
   {
    "duration": 153,
    "start_time": "2022-02-18T18:09:18.322Z"
   },
   {
    "duration": 367,
    "start_time": "2022-02-18T18:09:18.477Z"
   },
   {
    "duration": -1169,
    "start_time": "2022-02-18T18:09:20.015Z"
   },
   {
    "duration": -1179,
    "start_time": "2022-02-18T18:09:20.026Z"
   },
   {
    "duration": 268,
    "start_time": "2022-02-18T18:09:37.763Z"
   },
   {
    "duration": 470,
    "start_time": "2022-02-18T18:11:07.782Z"
   },
   {
    "duration": 265,
    "start_time": "2022-02-18T18:13:50.096Z"
   },
   {
    "duration": 56,
    "start_time": "2022-02-18T18:15:28.644Z"
   },
   {
    "duration": 33,
    "start_time": "2022-02-18T18:19:07.825Z"
   },
   {
    "duration": 42,
    "start_time": "2022-02-18T18:19:36.164Z"
   },
   {
    "duration": 44,
    "start_time": "2022-02-18T18:20:09.943Z"
   },
   {
    "duration": 45,
    "start_time": "2022-02-18T18:20:29.236Z"
   },
   {
    "duration": 55,
    "start_time": "2022-02-18T18:21:23.417Z"
   },
   {
    "duration": 40,
    "start_time": "2022-02-18T18:28:17.285Z"
   },
   {
    "duration": 42,
    "start_time": "2022-02-18T18:28:57.759Z"
   },
   {
    "duration": 47,
    "start_time": "2022-02-18T18:29:27.590Z"
   },
   {
    "duration": 40,
    "start_time": "2022-02-18T18:32:35.116Z"
   },
   {
    "duration": 43,
    "start_time": "2022-02-18T18:33:23.643Z"
   },
   {
    "duration": 42,
    "start_time": "2022-02-18T18:33:30.324Z"
   },
   {
    "duration": 41,
    "start_time": "2022-02-18T18:35:24.710Z"
   },
   {
    "duration": 43,
    "start_time": "2022-02-18T18:35:34.594Z"
   },
   {
    "duration": 40,
    "start_time": "2022-02-18T18:35:42.644Z"
   },
   {
    "duration": 30,
    "start_time": "2022-02-18T18:38:43.186Z"
   },
   {
    "duration": 38,
    "start_time": "2022-02-18T18:39:19.451Z"
   },
   {
    "duration": 40,
    "start_time": "2022-02-18T18:39:44.833Z"
   },
   {
    "duration": 59,
    "start_time": "2022-02-18T18:40:01.566Z"
   },
   {
    "duration": 55,
    "start_time": "2022-02-18T18:40:07.998Z"
   },
   {
    "duration": 29,
    "start_time": "2022-02-18T18:46:56.746Z"
   },
   {
    "duration": 62,
    "start_time": "2022-02-18T18:47:02.745Z"
   },
   {
    "duration": 37,
    "start_time": "2022-02-18T18:47:06.201Z"
   },
   {
    "duration": 42,
    "start_time": "2022-02-18T18:47:10.361Z"
   },
   {
    "duration": 990,
    "start_time": "2022-02-19T08:22:00.776Z"
   },
   {
    "duration": 2,
    "start_time": "2022-02-19T08:22:01.768Z"
   },
   {
    "duration": 68,
    "start_time": "2022-02-19T08:22:01.771Z"
   },
   {
    "duration": 201,
    "start_time": "2022-02-19T08:22:01.840Z"
   },
   {
    "duration": 107,
    "start_time": "2022-02-19T08:22:02.043Z"
   },
   {
    "duration": 1351,
    "start_time": "2022-02-19T08:22:02.152Z"
   },
   {
    "duration": 43,
    "start_time": "2022-02-19T08:22:03.504Z"
   },
   {
    "duration": 102,
    "start_time": "2022-02-19T08:22:03.549Z"
   },
   {
    "duration": 56,
    "start_time": "2022-02-19T08:22:03.653Z"
   },
   {
    "duration": 41,
    "start_time": "2022-02-19T08:22:03.710Z"
   },
   {
    "duration": 35,
    "start_time": "2022-02-19T08:22:03.752Z"
   },
   {
    "duration": 9,
    "start_time": "2022-02-19T09:18:35.583Z"
   },
   {
    "duration": 5278,
    "start_time": "2022-02-19T09:27:54.079Z"
   },
   {
    "duration": 7366,
    "start_time": "2022-02-19T09:29:14.437Z"
   },
   {
    "duration": 11299,
    "start_time": "2022-02-19T09:45:15.527Z"
   },
   {
    "duration": 450,
    "start_time": "2022-02-19T09:46:05.801Z"
   },
   {
    "duration": 3597,
    "start_time": "2022-02-19T09:46:48.730Z"
   },
   {
    "duration": 256,
    "start_time": "2022-02-19T09:48:54.201Z"
   },
   {
    "duration": 253,
    "start_time": "2022-02-19T09:49:05.754Z"
   },
   {
    "duration": 310,
    "start_time": "2022-02-19T09:50:18.805Z"
   },
   {
    "duration": 254,
    "start_time": "2022-02-19T09:50:29.410Z"
   },
   {
    "duration": 9,
    "start_time": "2022-02-19T09:50:54.524Z"
   },
   {
    "duration": 8,
    "start_time": "2022-02-19T09:51:27.231Z"
   },
   {
    "duration": 363,
    "start_time": "2022-02-19T10:11:46.308Z"
   },
   {
    "duration": 13,
    "start_time": "2022-02-19T10:12:44.620Z"
   },
   {
    "duration": 16,
    "start_time": "2022-02-19T10:13:25.130Z"
   },
   {
    "duration": 1015,
    "start_time": "2022-02-19T10:13:34.585Z"
   },
   {
    "duration": 3,
    "start_time": "2022-02-19T10:13:35.602Z"
   },
   {
    "duration": 77,
    "start_time": "2022-02-19T10:13:35.607Z"
   },
   {
    "duration": 201,
    "start_time": "2022-02-19T10:13:35.686Z"
   },
   {
    "duration": 108,
    "start_time": "2022-02-19T10:13:35.888Z"
   },
   {
    "duration": 1412,
    "start_time": "2022-02-19T10:13:35.997Z"
   },
   {
    "duration": 44,
    "start_time": "2022-02-19T10:13:37.411Z"
   },
   {
    "duration": 100,
    "start_time": "2022-02-19T10:13:37.457Z"
   },
   {
    "duration": 45,
    "start_time": "2022-02-19T10:13:37.559Z"
   },
   {
    "duration": 40,
    "start_time": "2022-02-19T10:13:37.606Z"
   },
   {
    "duration": 40,
    "start_time": "2022-02-19T10:13:37.648Z"
   },
   {
    "duration": 10,
    "start_time": "2022-02-19T10:13:37.689Z"
   },
   {
    "duration": 18,
    "start_time": "2022-02-19T10:13:56.951Z"
   },
   {
    "duration": 18,
    "start_time": "2022-02-19T10:14:22.881Z"
   },
   {
    "duration": 1012,
    "start_time": "2022-02-19T10:14:35.865Z"
   },
   {
    "duration": 3,
    "start_time": "2022-02-19T10:14:36.879Z"
   },
   {
    "duration": 53,
    "start_time": "2022-02-19T10:14:36.884Z"
   },
   {
    "duration": 210,
    "start_time": "2022-02-19T10:14:36.939Z"
   },
   {
    "duration": 113,
    "start_time": "2022-02-19T10:14:37.150Z"
   },
   {
    "duration": 1462,
    "start_time": "2022-02-19T10:14:37.265Z"
   },
   {
    "duration": 45,
    "start_time": "2022-02-19T10:14:38.731Z"
   },
   {
    "duration": 158,
    "start_time": "2022-02-19T10:14:38.779Z"
   },
   {
    "duration": 65,
    "start_time": "2022-02-19T10:14:38.940Z"
   },
   {
    "duration": 57,
    "start_time": "2022-02-19T10:14:39.007Z"
   },
   {
    "duration": 49,
    "start_time": "2022-02-19T10:14:39.066Z"
   },
   {
    "duration": 32,
    "start_time": "2022-02-19T10:14:39.117Z"
   },
   {
    "duration": 1174,
    "start_time": "2022-02-19T10:17:30.145Z"
   },
   {
    "duration": 10,
    "start_time": "2022-02-19T10:17:31.321Z"
   },
   {
    "duration": 124,
    "start_time": "2022-02-19T10:17:31.334Z"
   },
   {
    "duration": 296,
    "start_time": "2022-02-19T10:17:31.460Z"
   },
   {
    "duration": 112,
    "start_time": "2022-02-19T10:17:31.758Z"
   },
   {
    "duration": 2258,
    "start_time": "2022-02-19T10:17:31.872Z"
   },
   {
    "duration": 45,
    "start_time": "2022-02-19T10:17:34.132Z"
   },
   {
    "duration": 104,
    "start_time": "2022-02-19T10:17:34.179Z"
   },
   {
    "duration": 55,
    "start_time": "2022-02-19T10:17:34.286Z"
   },
   {
    "duration": 27,
    "start_time": "2022-02-19T10:17:34.343Z"
   },
   {
    "duration": 36,
    "start_time": "2022-02-19T10:17:34.372Z"
   },
   {
    "duration": 576,
    "start_time": "2022-02-19T10:17:34.410Z"
   },
   {
    "duration": 266,
    "start_time": "2022-02-19T10:25:44.795Z"
   },
   {
    "duration": 32,
    "start_time": "2022-02-19T10:25:59.334Z"
   },
   {
    "duration": 1169,
    "start_time": "2022-02-19T10:26:18.029Z"
   },
   {
    "duration": 2,
    "start_time": "2022-02-19T10:26:19.200Z"
   },
   {
    "duration": 97,
    "start_time": "2022-02-19T10:26:19.204Z"
   },
   {
    "duration": 218,
    "start_time": "2022-02-19T10:26:19.303Z"
   },
   {
    "duration": 138,
    "start_time": "2022-02-19T10:26:19.523Z"
   },
   {
    "duration": 1501,
    "start_time": "2022-02-19T10:26:19.662Z"
   },
   {
    "duration": 43,
    "start_time": "2022-02-19T10:26:21.165Z"
   },
   {
    "duration": 111,
    "start_time": "2022-02-19T10:26:21.210Z"
   },
   {
    "duration": 50,
    "start_time": "2022-02-19T10:26:21.323Z"
   },
   {
    "duration": 27,
    "start_time": "2022-02-19T10:26:21.375Z"
   },
   {
    "duration": 58,
    "start_time": "2022-02-19T10:26:21.403Z"
   },
   {
    "duration": 23,
    "start_time": "2022-02-19T10:26:21.462Z"
   },
   {
    "duration": 1333,
    "start_time": "2022-02-19T10:53:14.080Z"
   },
   {
    "duration": 2,
    "start_time": "2022-02-19T10:53:15.416Z"
   },
   {
    "duration": 88,
    "start_time": "2022-02-19T10:53:15.421Z"
   },
   {
    "duration": 303,
    "start_time": "2022-02-19T10:53:15.511Z"
   },
   {
    "duration": 148,
    "start_time": "2022-02-19T10:53:15.815Z"
   },
   {
    "duration": 1399,
    "start_time": "2022-02-19T10:53:15.965Z"
   },
   {
    "duration": 42,
    "start_time": "2022-02-19T10:53:17.366Z"
   },
   {
    "duration": 107,
    "start_time": "2022-02-19T10:53:17.410Z"
   },
   {
    "duration": 50,
    "start_time": "2022-02-19T10:53:17.519Z"
   },
   {
    "duration": 27,
    "start_time": "2022-02-19T10:53:17.570Z"
   },
   {
    "duration": 54,
    "start_time": "2022-02-19T10:53:17.599Z"
   },
   {
    "duration": 25,
    "start_time": "2022-02-19T10:53:17.655Z"
   },
   {
    "duration": 1117,
    "start_time": "2022-02-19T13:08:47.665Z"
   },
   {
    "duration": 3,
    "start_time": "2022-02-19T13:08:48.784Z"
   },
   {
    "duration": 92,
    "start_time": "2022-02-19T13:08:48.789Z"
   },
   {
    "duration": 208,
    "start_time": "2022-02-19T13:08:48.883Z"
   },
   {
    "duration": 120,
    "start_time": "2022-02-19T13:08:49.093Z"
   },
   {
    "duration": 1455,
    "start_time": "2022-02-19T13:08:49.215Z"
   },
   {
    "duration": 44,
    "start_time": "2022-02-19T13:08:50.671Z"
   },
   {
    "duration": 103,
    "start_time": "2022-02-19T13:08:50.717Z"
   },
   {
    "duration": 55,
    "start_time": "2022-02-19T13:08:50.822Z"
   },
   {
    "duration": 28,
    "start_time": "2022-02-19T13:08:50.879Z"
   },
   {
    "duration": 49,
    "start_time": "2022-02-19T13:08:50.908Z"
   },
   {
    "duration": 23,
    "start_time": "2022-02-19T13:08:50.959Z"
   },
   {
    "duration": 1962,
    "start_time": "2022-02-19T13:34:27.123Z"
   },
   {
    "duration": 3,
    "start_time": "2022-02-19T13:34:29.087Z"
   },
   {
    "duration": 79,
    "start_time": "2022-02-19T13:34:29.092Z"
   },
   {
    "duration": 214,
    "start_time": "2022-02-19T13:34:29.174Z"
   },
   {
    "duration": 115,
    "start_time": "2022-02-19T13:34:29.390Z"
   },
   {
    "duration": 1475,
    "start_time": "2022-02-19T13:34:29.507Z"
   },
   {
    "duration": 44,
    "start_time": "2022-02-19T13:34:30.984Z"
   },
   {
    "duration": 106,
    "start_time": "2022-02-19T13:34:31.029Z"
   },
   {
    "duration": 49,
    "start_time": "2022-02-19T13:34:31.136Z"
   },
   {
    "duration": 45,
    "start_time": "2022-02-19T13:34:31.187Z"
   },
   {
    "duration": 37,
    "start_time": "2022-02-19T13:34:31.234Z"
   },
   {
    "duration": 346,
    "start_time": "2022-02-19T13:34:31.273Z"
   },
   {
    "duration": 298,
    "start_time": "2022-02-19T13:34:53.247Z"
   },
   {
    "duration": 1022,
    "start_time": "2022-02-19T13:37:03.560Z"
   },
   {
    "duration": 3,
    "start_time": "2022-02-19T13:37:04.584Z"
   },
   {
    "duration": 74,
    "start_time": "2022-02-19T13:37:04.589Z"
   },
   {
    "duration": 212,
    "start_time": "2022-02-19T13:37:04.665Z"
   },
   {
    "duration": 117,
    "start_time": "2022-02-19T13:37:04.879Z"
   },
   {
    "duration": 1758,
    "start_time": "2022-02-19T13:37:04.998Z"
   },
   {
    "duration": 43,
    "start_time": "2022-02-19T13:37:06.757Z"
   },
   {
    "duration": 102,
    "start_time": "2022-02-19T13:37:06.802Z"
   },
   {
    "duration": 56,
    "start_time": "2022-02-19T13:37:06.906Z"
   },
   {
    "duration": 33,
    "start_time": "2022-02-19T13:37:06.964Z"
   },
   {
    "duration": 49,
    "start_time": "2022-02-19T13:37:06.999Z"
   },
   {
    "duration": 21,
    "start_time": "2022-02-19T13:37:07.050Z"
   },
   {
    "duration": 345,
    "start_time": "2022-02-19T13:39:56.763Z"
   },
   {
    "duration": 20,
    "start_time": "2022-02-19T13:40:32.930Z"
   },
   {
    "duration": 1149,
    "start_time": "2022-02-19T13:40:50.314Z"
   },
   {
    "duration": 2,
    "start_time": "2022-02-19T13:40:51.467Z"
   },
   {
    "duration": 65,
    "start_time": "2022-02-19T13:40:51.471Z"
   },
   {
    "duration": 205,
    "start_time": "2022-02-19T13:40:51.538Z"
   },
   {
    "duration": 112,
    "start_time": "2022-02-19T13:40:51.744Z"
   },
   {
    "duration": 1408,
    "start_time": "2022-02-19T13:40:51.857Z"
   },
   {
    "duration": 45,
    "start_time": "2022-02-19T13:40:53.268Z"
   },
   {
    "duration": 100,
    "start_time": "2022-02-19T13:40:53.314Z"
   },
   {
    "duration": 50,
    "start_time": "2022-02-19T13:40:53.415Z"
   },
   {
    "duration": 27,
    "start_time": "2022-02-19T13:40:53.467Z"
   },
   {
    "duration": 52,
    "start_time": "2022-02-19T13:40:53.495Z"
   },
   {
    "duration": 16,
    "start_time": "2022-02-19T13:40:53.549Z"
   },
   {
    "duration": 2,
    "start_time": "2022-02-19T13:40:53.567Z"
   },
   {
    "duration": 23,
    "start_time": "2022-02-19T13:41:59.880Z"
   },
   {
    "duration": 1112,
    "start_time": "2022-02-19T13:42:22.859Z"
   },
   {
    "duration": 3,
    "start_time": "2022-02-19T13:42:23.973Z"
   },
   {
    "duration": 68,
    "start_time": "2022-02-19T13:42:23.982Z"
   },
   {
    "duration": 207,
    "start_time": "2022-02-19T13:42:24.052Z"
   },
   {
    "duration": 118,
    "start_time": "2022-02-19T13:42:24.260Z"
   },
   {
    "duration": 1674,
    "start_time": "2022-02-19T13:42:24.380Z"
   },
   {
    "duration": 44,
    "start_time": "2022-02-19T13:42:26.055Z"
   },
   {
    "duration": 107,
    "start_time": "2022-02-19T13:42:26.102Z"
   },
   {
    "duration": 58,
    "start_time": "2022-02-19T13:42:26.210Z"
   },
   {
    "duration": 29,
    "start_time": "2022-02-19T13:42:26.270Z"
   },
   {
    "duration": 50,
    "start_time": "2022-02-19T13:42:26.301Z"
   },
   {
    "duration": 12,
    "start_time": "2022-02-19T13:42:26.353Z"
   },
   {
    "duration": 2,
    "start_time": "2022-02-19T13:42:26.366Z"
   },
   {
    "duration": 19,
    "start_time": "2022-02-19T13:42:45.188Z"
   },
   {
    "duration": 1091,
    "start_time": "2022-02-19T13:44:24.870Z"
   },
   {
    "duration": 2,
    "start_time": "2022-02-19T13:44:25.963Z"
   },
   {
    "duration": 71,
    "start_time": "2022-02-19T13:44:25.967Z"
   },
   {
    "duration": 214,
    "start_time": "2022-02-19T13:44:26.040Z"
   },
   {
    "duration": 116,
    "start_time": "2022-02-19T13:44:26.256Z"
   },
   {
    "duration": 1536,
    "start_time": "2022-02-19T13:44:26.374Z"
   },
   {
    "duration": 45,
    "start_time": "2022-02-19T13:44:27.911Z"
   },
   {
    "duration": 102,
    "start_time": "2022-02-19T13:44:27.958Z"
   },
   {
    "duration": 46,
    "start_time": "2022-02-19T13:44:28.061Z"
   },
   {
    "duration": 39,
    "start_time": "2022-02-19T13:44:28.109Z"
   },
   {
    "duration": 36,
    "start_time": "2022-02-19T13:44:28.149Z"
   },
   {
    "duration": 22,
    "start_time": "2022-02-19T13:44:28.186Z"
   },
   {
    "duration": 23,
    "start_time": "2022-02-19T13:44:28.209Z"
   },
   {
    "duration": 1174,
    "start_time": "2022-02-19T13:45:14.009Z"
   },
   {
    "duration": 2,
    "start_time": "2022-02-19T13:45:15.185Z"
   },
   {
    "duration": 63,
    "start_time": "2022-02-19T13:45:15.189Z"
   },
   {
    "duration": 199,
    "start_time": "2022-02-19T13:45:15.254Z"
   },
   {
    "duration": 117,
    "start_time": "2022-02-19T13:45:15.454Z"
   },
   {
    "duration": 1577,
    "start_time": "2022-02-19T13:45:15.572Z"
   },
   {
    "duration": 45,
    "start_time": "2022-02-19T13:45:17.151Z"
   },
   {
    "duration": 103,
    "start_time": "2022-02-19T13:45:17.198Z"
   },
   {
    "duration": 52,
    "start_time": "2022-02-19T13:45:17.302Z"
   },
   {
    "duration": 27,
    "start_time": "2022-02-19T13:45:17.356Z"
   },
   {
    "duration": 48,
    "start_time": "2022-02-19T13:45:17.385Z"
   },
   {
    "duration": 13,
    "start_time": "2022-02-19T13:45:17.434Z"
   },
   {
    "duration": 2,
    "start_time": "2022-02-19T13:45:17.449Z"
   },
   {
    "duration": 21,
    "start_time": "2022-02-19T13:45:24.391Z"
   },
   {
    "duration": 25,
    "start_time": "2022-02-19T13:46:09.003Z"
   },
   {
    "duration": 1136,
    "start_time": "2022-02-19T13:46:20.529Z"
   },
   {
    "duration": 3,
    "start_time": "2022-02-19T13:46:21.666Z"
   },
   {
    "duration": 66,
    "start_time": "2022-02-19T13:46:21.670Z"
   },
   {
    "duration": 200,
    "start_time": "2022-02-19T13:46:21.738Z"
   },
   {
    "duration": 114,
    "start_time": "2022-02-19T13:46:21.940Z"
   },
   {
    "duration": 1425,
    "start_time": "2022-02-19T13:46:22.056Z"
   },
   {
    "duration": 43,
    "start_time": "2022-02-19T13:46:23.482Z"
   },
   {
    "duration": 100,
    "start_time": "2022-02-19T13:46:23.532Z"
   },
   {
    "duration": 53,
    "start_time": "2022-02-19T13:46:23.634Z"
   },
   {
    "duration": 28,
    "start_time": "2022-02-19T13:46:23.688Z"
   },
   {
    "duration": 51,
    "start_time": "2022-02-19T13:46:23.718Z"
   },
   {
    "duration": 25,
    "start_time": "2022-02-19T13:46:23.771Z"
   },
   {
    "duration": 3,
    "start_time": "2022-02-19T13:46:23.797Z"
   },
   {
    "duration": 4,
    "start_time": "2022-02-19T13:47:27.170Z"
   },
   {
    "duration": 396,
    "start_time": "2022-02-19T13:55:27.976Z"
   },
   {
    "duration": 9,
    "start_time": "2022-02-19T13:55:36.169Z"
   },
   {
    "duration": 3258,
    "start_time": "2022-02-19T13:56:43.879Z"
   },
   {
    "duration": 4,
    "start_time": "2022-02-19T13:56:58.524Z"
   },
   {
    "duration": 95,
    "start_time": "2022-02-19T13:57:38.728Z"
   },
   {
    "duration": 2082,
    "start_time": "2022-02-19T13:57:44.010Z"
   },
   {
    "duration": 2600,
    "start_time": "2022-02-19T13:57:59.073Z"
   },
   {
    "duration": 10,
    "start_time": "2022-02-19T13:58:23.730Z"
   },
   {
    "duration": 2636,
    "start_time": "2022-02-19T13:58:37.214Z"
   },
   {
    "duration": 363,
    "start_time": "2022-02-19T13:59:04.997Z"
   },
   {
    "duration": 326,
    "start_time": "2022-02-19T13:59:19.165Z"
   },
   {
    "duration": 373,
    "start_time": "2022-02-19T13:59:33.811Z"
   },
   {
    "duration": 5,
    "start_time": "2022-02-19T14:24:39.484Z"
   },
   {
    "duration": 4249,
    "start_time": "2022-02-19T14:24:52.675Z"
   },
   {
    "duration": 6,
    "start_time": "2022-02-19T14:25:07.557Z"
   },
   {
    "duration": 5,
    "start_time": "2022-02-19T14:25:28.053Z"
   },
   {
    "duration": 4419,
    "start_time": "2022-02-19T14:26:29.211Z"
   },
   {
    "duration": 5,
    "start_time": "2022-02-19T14:29:26.914Z"
   },
   {
    "duration": 7,
    "start_time": "2022-02-19T14:29:53.119Z"
   },
   {
    "duration": 8,
    "start_time": "2022-02-19T14:31:01.553Z"
   },
   {
    "duration": 1075,
    "start_time": "2022-02-19T14:34:29.895Z"
   },
   {
    "duration": 2,
    "start_time": "2022-02-19T14:34:30.972Z"
   },
   {
    "duration": 96,
    "start_time": "2022-02-19T14:34:30.976Z"
   },
   {
    "duration": 202,
    "start_time": "2022-02-19T14:34:31.073Z"
   },
   {
    "duration": 113,
    "start_time": "2022-02-19T14:34:31.276Z"
   },
   {
    "duration": 1383,
    "start_time": "2022-02-19T14:34:31.390Z"
   },
   {
    "duration": 44,
    "start_time": "2022-02-19T14:34:32.774Z"
   },
   {
    "duration": 101,
    "start_time": "2022-02-19T14:34:32.820Z"
   },
   {
    "duration": 50,
    "start_time": "2022-02-19T14:34:32.923Z"
   },
   {
    "duration": 28,
    "start_time": "2022-02-19T14:34:32.975Z"
   },
   {
    "duration": 61,
    "start_time": "2022-02-19T14:34:33.005Z"
   },
   {
    "duration": 26,
    "start_time": "2022-02-19T14:34:33.068Z"
   },
   {
    "duration": 2,
    "start_time": "2022-02-19T14:34:33.095Z"
   },
   {
    "duration": 25,
    "start_time": "2022-02-19T14:34:33.099Z"
   },
   {
    "duration": 1048,
    "start_time": "2022-02-19T14:38:16.731Z"
   },
   {
    "duration": 2,
    "start_time": "2022-02-19T14:38:17.781Z"
   },
   {
    "duration": 77,
    "start_time": "2022-02-19T14:38:17.785Z"
   },
   {
    "duration": 204,
    "start_time": "2022-02-19T14:38:17.863Z"
   },
   {
    "duration": 114,
    "start_time": "2022-02-19T14:38:18.069Z"
   },
   {
    "duration": 1377,
    "start_time": "2022-02-19T14:38:18.184Z"
   },
   {
    "duration": 46,
    "start_time": "2022-02-19T14:38:19.563Z"
   },
   {
    "duration": 109,
    "start_time": "2022-02-19T14:38:19.611Z"
   },
   {
    "duration": 46,
    "start_time": "2022-02-19T14:38:19.722Z"
   },
   {
    "duration": 27,
    "start_time": "2022-02-19T14:38:19.770Z"
   },
   {
    "duration": 54,
    "start_time": "2022-02-19T14:38:19.798Z"
   },
   {
    "duration": 347,
    "start_time": "2022-02-19T14:38:19.854Z"
   },
   {
    "duration": -3496,
    "start_time": "2022-02-19T14:38:23.698Z"
   },
   {
    "duration": -3500,
    "start_time": "2022-02-19T14:38:23.703Z"
   },
   {
    "duration": 26,
    "start_time": "2022-02-19T14:38:36.922Z"
   },
   {
    "duration": 8,
    "start_time": "2022-02-19T14:40:45.494Z"
   },
   {
    "duration": 16,
    "start_time": "2022-02-19T14:40:59.162Z"
   },
   {
    "duration": 1061,
    "start_time": "2022-02-19T14:41:34.403Z"
   },
   {
    "duration": 2,
    "start_time": "2022-02-19T14:41:35.466Z"
   },
   {
    "duration": 64,
    "start_time": "2022-02-19T14:41:35.470Z"
   },
   {
    "duration": 218,
    "start_time": "2022-02-19T14:41:35.536Z"
   },
   {
    "duration": 116,
    "start_time": "2022-02-19T14:41:35.756Z"
   },
   {
    "duration": 1417,
    "start_time": "2022-02-19T14:41:35.874Z"
   },
   {
    "duration": 43,
    "start_time": "2022-02-19T14:41:37.293Z"
   },
   {
    "duration": 102,
    "start_time": "2022-02-19T14:41:37.339Z"
   },
   {
    "duration": 47,
    "start_time": "2022-02-19T14:41:37.443Z"
   },
   {
    "duration": 40,
    "start_time": "2022-02-19T14:41:37.492Z"
   },
   {
    "duration": 36,
    "start_time": "2022-02-19T14:41:37.533Z"
   },
   {
    "duration": 13,
    "start_time": "2022-02-19T14:41:37.571Z"
   },
   {
    "duration": 20,
    "start_time": "2022-02-19T14:41:37.585Z"
   },
   {
    "duration": 26,
    "start_time": "2022-02-19T14:41:37.606Z"
   },
   {
    "duration": 3,
    "start_time": "2022-02-19T14:41:37.634Z"
   },
   {
    "duration": 1054,
    "start_time": "2022-02-19T14:44:16.113Z"
   },
   {
    "duration": 2,
    "start_time": "2022-02-19T14:44:17.169Z"
   },
   {
    "duration": 67,
    "start_time": "2022-02-19T14:44:17.173Z"
   },
   {
    "duration": 209,
    "start_time": "2022-02-19T14:44:17.241Z"
   },
   {
    "duration": 112,
    "start_time": "2022-02-19T14:44:17.452Z"
   },
   {
    "duration": 1461,
    "start_time": "2022-02-19T14:44:17.566Z"
   },
   {
    "duration": 43,
    "start_time": "2022-02-19T14:44:19.031Z"
   },
   {
    "duration": 107,
    "start_time": "2022-02-19T14:44:19.077Z"
   },
   {
    "duration": 52,
    "start_time": "2022-02-19T14:44:19.185Z"
   },
   {
    "duration": 28,
    "start_time": "2022-02-19T14:44:19.238Z"
   },
   {
    "duration": 47,
    "start_time": "2022-02-19T14:44:19.267Z"
   },
   {
    "duration": 22,
    "start_time": "2022-02-19T14:44:19.315Z"
   },
   {
    "duration": 28,
    "start_time": "2022-02-19T14:44:19.338Z"
   },
   {
    "duration": 2,
    "start_time": "2022-02-19T14:44:19.368Z"
   },
   {
    "duration": 3,
    "start_time": "2022-02-19T14:44:19.371Z"
   },
   {
    "duration": 111,
    "start_time": "2022-02-19T14:50:33.206Z"
   },
   {
    "duration": 341,
    "start_time": "2022-02-19T14:50:53.729Z"
   },
   {
    "duration": 83,
    "start_time": "2022-02-19T14:56:13.668Z"
   },
   {
    "duration": 4,
    "start_time": "2022-02-19T14:56:31.018Z"
   },
   {
    "duration": 23,
    "start_time": "2022-02-19T14:56:44.443Z"
   },
   {
    "duration": 86,
    "start_time": "2022-02-19T14:59:52.515Z"
   },
   {
    "duration": 24,
    "start_time": "2022-02-19T15:03:49.680Z"
   },
   {
    "duration": 23,
    "start_time": "2022-02-19T15:05:02.108Z"
   },
   {
    "duration": 38,
    "start_time": "2022-02-19T15:05:11.022Z"
   },
   {
    "duration": 39,
    "start_time": "2022-02-19T15:06:46.324Z"
   },
   {
    "duration": 33,
    "start_time": "2022-02-19T15:08:33.513Z"
   },
   {
    "duration": 38,
    "start_time": "2022-02-19T15:11:36.067Z"
   },
   {
    "duration": 24,
    "start_time": "2022-02-19T15:16:49.028Z"
   },
   {
    "duration": 42,
    "start_time": "2022-02-19T15:16:50.938Z"
   },
   {
    "duration": 26,
    "start_time": "2022-02-19T15:16:53.186Z"
   },
   {
    "duration": 34,
    "start_time": "2022-02-19T15:16:55.540Z"
   },
   {
    "duration": 15,
    "start_time": "2022-02-19T15:16:59.911Z"
   },
   {
    "duration": 14,
    "start_time": "2022-02-19T15:17:24.692Z"
   },
   {
    "duration": 1353,
    "start_time": "2022-02-19T15:17:45.824Z"
   },
   {
    "duration": 3,
    "start_time": "2022-02-19T15:17:47.179Z"
   },
   {
    "duration": 92,
    "start_time": "2022-02-19T15:17:47.184Z"
   },
   {
    "duration": 217,
    "start_time": "2022-02-19T15:17:47.278Z"
   },
   {
    "duration": 122,
    "start_time": "2022-02-19T15:17:47.496Z"
   },
   {
    "duration": 2411,
    "start_time": "2022-02-19T15:17:47.621Z"
   },
   {
    "duration": 49,
    "start_time": "2022-02-19T15:17:50.034Z"
   },
   {
    "duration": 112,
    "start_time": "2022-02-19T15:17:50.086Z"
   },
   {
    "duration": 52,
    "start_time": "2022-02-19T15:17:50.200Z"
   },
   {
    "duration": 28,
    "start_time": "2022-02-19T15:17:50.254Z"
   },
   {
    "duration": 54,
    "start_time": "2022-02-19T15:17:50.284Z"
   },
   {
    "duration": 15,
    "start_time": "2022-02-19T15:17:50.339Z"
   },
   {
    "duration": 20,
    "start_time": "2022-02-19T15:17:50.355Z"
   },
   {
    "duration": 49,
    "start_time": "2022-02-19T15:17:50.376Z"
   },
   {
    "duration": 3,
    "start_time": "2022-02-19T15:17:50.432Z"
   },
   {
    "duration": 24,
    "start_time": "2022-02-19T15:17:50.437Z"
   },
   {
    "duration": 32,
    "start_time": "2022-02-19T15:18:31.959Z"
   },
   {
    "duration": 6884,
    "start_time": "2022-02-19T15:22:41.313Z"
   },
   {
    "duration": 1239,
    "start_time": "2022-02-19T15:23:15.851Z"
   },
   {
    "duration": 2,
    "start_time": "2022-02-19T15:23:17.092Z"
   },
   {
    "duration": 74,
    "start_time": "2022-02-19T15:23:17.097Z"
   },
   {
    "duration": 223,
    "start_time": "2022-02-19T15:23:17.173Z"
   },
   {
    "duration": 120,
    "start_time": "2022-02-19T15:23:17.398Z"
   },
   {
    "duration": 1622,
    "start_time": "2022-02-19T15:23:17.520Z"
   },
   {
    "duration": 46,
    "start_time": "2022-02-19T15:23:19.146Z"
   },
   {
    "duration": 118,
    "start_time": "2022-02-19T15:23:19.195Z"
   },
   {
    "duration": 55,
    "start_time": "2022-02-19T15:23:19.315Z"
   },
   {
    "duration": 26,
    "start_time": "2022-02-19T15:23:19.372Z"
   },
   {
    "duration": 64,
    "start_time": "2022-02-19T15:23:19.400Z"
   },
   {
    "duration": 15,
    "start_time": "2022-02-19T15:23:19.466Z"
   },
   {
    "duration": 13,
    "start_time": "2022-02-19T15:23:19.483Z"
   },
   {
    "duration": 54,
    "start_time": "2022-02-19T15:23:19.497Z"
   },
   {
    "duration": 3,
    "start_time": "2022-02-19T15:23:19.553Z"
   },
   {
    "duration": 7,
    "start_time": "2022-02-19T15:23:19.558Z"
   },
   {
    "duration": 35,
    "start_time": "2022-02-19T15:24:39.820Z"
   },
   {
    "duration": 38,
    "start_time": "2022-02-19T15:26:47.646Z"
   },
   {
    "duration": 1528,
    "start_time": "2022-02-19T16:51:15.526Z"
   },
   {
    "duration": 3,
    "start_time": "2022-02-19T16:51:17.056Z"
   },
   {
    "duration": 95,
    "start_time": "2022-02-19T16:51:17.061Z"
   },
   {
    "duration": 802,
    "start_time": "2022-02-19T16:51:17.158Z"
   },
   {
    "duration": 403,
    "start_time": "2022-02-19T16:51:17.961Z"
   },
   {
    "duration": 1921,
    "start_time": "2022-02-19T16:51:18.366Z"
   },
   {
    "duration": 81,
    "start_time": "2022-02-19T16:51:20.289Z"
   },
   {
    "duration": 158,
    "start_time": "2022-02-19T16:51:20.373Z"
   },
   {
    "duration": 121,
    "start_time": "2022-02-19T16:51:20.534Z"
   },
   {
    "duration": 36,
    "start_time": "2022-02-19T16:51:20.657Z"
   },
   {
    "duration": 38,
    "start_time": "2022-02-19T16:51:20.695Z"
   },
   {
    "duration": 15,
    "start_time": "2022-02-19T16:51:20.735Z"
   },
   {
    "duration": 13,
    "start_time": "2022-02-19T16:51:20.752Z"
   },
   {
    "duration": 41,
    "start_time": "2022-02-19T16:51:20.767Z"
   },
   {
    "duration": 2,
    "start_time": "2022-02-19T16:51:20.833Z"
   },
   {
    "duration": 7,
    "start_time": "2022-02-19T16:51:20.837Z"
   },
   {
    "duration": 36,
    "start_time": "2022-02-19T17:01:21.847Z"
   },
   {
    "duration": 444,
    "start_time": "2022-02-19T17:13:03.975Z"
   },
   {
    "duration": 447,
    "start_time": "2022-02-19T17:13:31.401Z"
   },
   {
    "duration": 145,
    "start_time": "2022-02-19T17:19:19.088Z"
   },
   {
    "duration": 144,
    "start_time": "2022-02-19T17:19:58.748Z"
   },
   {
    "duration": 499,
    "start_time": "2022-02-19T17:21:02.950Z"
   },
   {
    "duration": 151,
    "start_time": "2022-02-19T17:21:20.010Z"
   },
   {
    "duration": 215,
    "start_time": "2022-02-19T17:21:32.449Z"
   },
   {
    "duration": 274,
    "start_time": "2022-02-19T17:31:30.607Z"
   },
   {
    "duration": 4,
    "start_time": "2022-02-19T17:32:22.113Z"
   },
   {
    "duration": 169,
    "start_time": "2022-02-19T17:32:54.569Z"
   },
   {
    "duration": 274,
    "start_time": "2022-02-19T17:34:54.048Z"
   },
   {
    "duration": 177,
    "start_time": "2022-02-19T17:35:09.149Z"
   },
   {
    "duration": 1430,
    "start_time": "2022-02-19T19:20:50.359Z"
   },
   {
    "duration": 3,
    "start_time": "2022-02-19T19:20:51.792Z"
   },
   {
    "duration": 100,
    "start_time": "2022-02-19T19:20:51.798Z"
   },
   {
    "duration": 310,
    "start_time": "2022-02-19T19:20:51.901Z"
   },
   {
    "duration": 170,
    "start_time": "2022-02-19T19:20:52.213Z"
   },
   {
    "duration": 2681,
    "start_time": "2022-02-19T19:20:52.386Z"
   },
   {
    "duration": 69,
    "start_time": "2022-02-19T19:20:55.070Z"
   },
   {
    "duration": 177,
    "start_time": "2022-02-19T19:20:55.142Z"
   },
   {
    "duration": 74,
    "start_time": "2022-02-19T19:20:55.321Z"
   },
   {
    "duration": 44,
    "start_time": "2022-02-19T19:20:55.410Z"
   },
   {
    "duration": 74,
    "start_time": "2022-02-19T19:20:55.456Z"
   },
   {
    "duration": 24,
    "start_time": "2022-02-19T19:20:55.533Z"
   },
   {
    "duration": 22,
    "start_time": "2022-02-19T19:20:55.560Z"
   },
   {
    "duration": 90,
    "start_time": "2022-02-19T19:20:55.584Z"
   },
   {
    "duration": 377,
    "start_time": "2022-02-19T19:20:55.677Z"
   },
   {
    "duration": 286,
    "start_time": "2022-02-19T19:20:56.056Z"
   },
   {
    "duration": 342,
    "start_time": "2022-02-19T19:22:12.502Z"
   },
   {
    "duration": 362,
    "start_time": "2022-02-19T19:23:27.791Z"
   },
   {
    "duration": 346,
    "start_time": "2022-02-19T19:24:47.633Z"
   },
   {
    "duration": 1210,
    "start_time": "2022-02-20T07:38:30.990Z"
   },
   {
    "duration": 2,
    "start_time": "2022-02-20T07:38:32.202Z"
   },
   {
    "duration": 52,
    "start_time": "2022-02-20T07:38:32.207Z"
   },
   {
    "duration": 236,
    "start_time": "2022-02-20T07:38:32.261Z"
   },
   {
    "duration": 137,
    "start_time": "2022-02-20T07:38:32.499Z"
   },
   {
    "duration": 1580,
    "start_time": "2022-02-20T07:38:32.638Z"
   },
   {
    "duration": 39,
    "start_time": "2022-02-20T07:38:34.220Z"
   },
   {
    "duration": 123,
    "start_time": "2022-02-20T07:38:34.262Z"
   },
   {
    "duration": 56,
    "start_time": "2022-02-20T07:38:34.388Z"
   },
   {
    "duration": 32,
    "start_time": "2022-02-20T07:38:34.446Z"
   },
   {
    "duration": 58,
    "start_time": "2022-02-20T07:38:34.480Z"
   },
   {
    "duration": 16,
    "start_time": "2022-02-20T07:38:34.540Z"
   },
   {
    "duration": 14,
    "start_time": "2022-02-20T07:38:34.557Z"
   },
   {
    "duration": 65,
    "start_time": "2022-02-20T07:38:34.573Z"
   },
   {
    "duration": 229,
    "start_time": "2022-02-20T07:38:34.640Z"
   },
   {
    "duration": 179,
    "start_time": "2022-02-20T07:38:34.872Z"
   },
   {
    "duration": 206,
    "start_time": "2022-02-20T07:45:52.716Z"
   },
   {
    "duration": 195,
    "start_time": "2022-02-20T07:46:17.284Z"
   },
   {
    "duration": 254,
    "start_time": "2022-02-20T08:40:25.729Z"
   },
   {
    "duration": 1154,
    "start_time": "2022-02-20T12:36:12.858Z"
   },
   {
    "duration": 4,
    "start_time": "2022-02-20T12:36:14.015Z"
   },
   {
    "duration": 77,
    "start_time": "2022-02-20T12:36:14.021Z"
   },
   {
    "duration": 263,
    "start_time": "2022-02-20T12:36:14.100Z"
   },
   {
    "duration": 141,
    "start_time": "2022-02-20T12:36:14.366Z"
   },
   {
    "duration": 1799,
    "start_time": "2022-02-20T12:36:14.509Z"
   },
   {
    "duration": 43,
    "start_time": "2022-02-20T12:36:16.310Z"
   },
   {
    "duration": 131,
    "start_time": "2022-02-20T12:36:16.356Z"
   },
   {
    "duration": 65,
    "start_time": "2022-02-20T12:36:16.489Z"
   },
   {
    "duration": 45,
    "start_time": "2022-02-20T12:36:16.556Z"
   },
   {
    "duration": 72,
    "start_time": "2022-02-20T12:36:16.603Z"
   },
   {
    "duration": 19,
    "start_time": "2022-02-20T12:36:16.678Z"
   },
   {
    "duration": 32,
    "start_time": "2022-02-20T12:36:16.699Z"
   },
   {
    "duration": 335,
    "start_time": "2022-02-20T12:36:16.733Z"
   },
   {
    "duration": -725,
    "start_time": "2022-02-20T12:36:17.796Z"
   },
   {
    "duration": -731,
    "start_time": "2022-02-20T12:36:17.803Z"
   },
   {
    "duration": 269,
    "start_time": "2022-02-20T12:37:21.016Z"
   },
   {
    "duration": 57,
    "start_time": "2022-02-20T12:47:05.770Z"
   },
   {
    "duration": 273,
    "start_time": "2022-02-20T12:47:19.767Z"
   },
   {
    "duration": 273,
    "start_time": "2022-02-20T12:49:23.424Z"
   },
   {
    "duration": 30,
    "start_time": "2022-02-20T12:49:33.740Z"
   },
   {
    "duration": 87,
    "start_time": "2022-02-20T13:15:57.217Z"
   },
   {
    "duration": 304,
    "start_time": "2022-02-20T13:19:02.808Z"
   },
   {
    "duration": 436,
    "start_time": "2022-02-20T13:19:16.846Z"
   },
   {
    "duration": 459,
    "start_time": "2022-02-20T13:19:47.406Z"
   },
   {
    "duration": 673,
    "start_time": "2022-02-20T13:19:56.994Z"
   },
   {
    "duration": 678,
    "start_time": "2022-02-20T13:20:11.836Z"
   },
   {
    "duration": 380,
    "start_time": "2022-02-20T13:20:20.806Z"
   },
   {
    "duration": 388,
    "start_time": "2022-02-20T13:22:52.318Z"
   },
   {
    "duration": 436,
    "start_time": "2022-02-20T13:24:56.282Z"
   },
   {
    "duration": 993,
    "start_time": "2022-02-20T13:27:44.438Z"
   },
   {
    "duration": 956,
    "start_time": "2022-02-20T13:28:03.915Z"
   },
   {
    "duration": 910,
    "start_time": "2022-02-20T13:28:19.134Z"
   },
   {
    "duration": 763,
    "start_time": "2022-02-20T13:28:41.722Z"
   },
   {
    "duration": 892,
    "start_time": "2022-02-20T13:29:45.002Z"
   },
   {
    "duration": 729,
    "start_time": "2022-02-20T13:31:01.947Z"
   },
   {
    "duration": 592,
    "start_time": "2022-02-20T13:31:25.094Z"
   },
   {
    "duration": 653,
    "start_time": "2022-02-20T13:32:11.562Z"
   },
   {
    "duration": 794,
    "start_time": "2022-02-20T13:32:27.119Z"
   },
   {
    "duration": 734,
    "start_time": "2022-02-20T13:32:35.298Z"
   },
   {
    "duration": 945,
    "start_time": "2022-02-20T13:33:46.025Z"
   },
   {
    "duration": 728,
    "start_time": "2022-02-20T13:35:21.258Z"
   },
   {
    "duration": 976,
    "start_time": "2022-02-20T13:42:33.831Z"
   },
   {
    "duration": 1884,
    "start_time": "2022-02-20T13:43:18.481Z"
   },
   {
    "duration": 761,
    "start_time": "2022-02-20T13:46:50.734Z"
   },
   {
    "duration": 778,
    "start_time": "2022-02-20T13:47:50.086Z"
   },
   {
    "duration": 1296,
    "start_time": "2022-02-20T13:48:32.392Z"
   },
   {
    "duration": 863,
    "start_time": "2022-02-20T13:49:56.778Z"
   },
   {
    "duration": 633,
    "start_time": "2022-02-20T13:50:18.490Z"
   },
   {
    "duration": 711,
    "start_time": "2022-02-20T13:53:57.593Z"
   },
   {
    "duration": 629,
    "start_time": "2022-02-20T13:54:13.006Z"
   },
   {
    "duration": 765,
    "start_time": "2022-02-20T13:57:52.931Z"
   },
   {
    "duration": 4198,
    "start_time": "2022-02-20T13:58:06.673Z"
   },
   {
    "duration": 4843,
    "start_time": "2022-02-20T13:59:29.336Z"
   },
   {
    "duration": 5104,
    "start_time": "2022-02-20T14:00:01.144Z"
   },
   {
    "duration": 783,
    "start_time": "2022-02-20T14:00:24.901Z"
   },
   {
    "duration": 4482,
    "start_time": "2022-02-20T14:00:39.992Z"
   },
   {
    "duration": 4068,
    "start_time": "2022-02-20T14:01:10.329Z"
   },
   {
    "duration": 1192,
    "start_time": "2022-02-20T14:02:38.984Z"
   },
   {
    "duration": 730,
    "start_time": "2022-02-20T14:02:56.997Z"
   },
   {
    "duration": 717,
    "start_time": "2022-02-20T14:03:12.189Z"
   },
   {
    "duration": 878,
    "start_time": "2022-02-20T14:03:27.396Z"
   },
   {
    "duration": 1350,
    "start_time": "2022-02-20T14:03:57.422Z"
   },
   {
    "duration": 1186,
    "start_time": "2022-02-20T14:05:00.338Z"
   },
   {
    "duration": 1226,
    "start_time": "2022-02-20T14:55:49.377Z"
   },
   {
    "duration": 957,
    "start_time": "2022-02-20T14:57:43.651Z"
   },
   {
    "duration": 509,
    "start_time": "2022-02-20T14:58:11.273Z"
   },
   {
    "duration": 513,
    "start_time": "2022-02-20T15:01:12.449Z"
   },
   {
    "duration": 526,
    "start_time": "2022-02-20T15:02:06.194Z"
   },
   {
    "duration": 847,
    "start_time": "2022-02-20T15:04:07.187Z"
   },
   {
    "duration": 511,
    "start_time": "2022-02-20T15:04:35.822Z"
   },
   {
    "duration": 530,
    "start_time": "2022-02-20T15:05:09.305Z"
   },
   {
    "duration": 700,
    "start_time": "2022-02-20T15:15:08.633Z"
   },
   {
    "duration": 558,
    "start_time": "2022-02-20T15:15:47.378Z"
   },
   {
    "duration": 812,
    "start_time": "2022-02-20T15:16:13.768Z"
   },
   {
    "duration": 241,
    "start_time": "2022-02-20T15:17:59.889Z"
   },
   {
    "duration": 27,
    "start_time": "2022-02-20T15:19:12.011Z"
   },
   {
    "duration": 259,
    "start_time": "2022-02-20T15:20:28.473Z"
   },
   {
    "duration": 76,
    "start_time": "2022-02-20T16:32:13.207Z"
   },
   {
    "duration": 54,
    "start_time": "2022-02-20T16:32:29.408Z"
   },
   {
    "duration": 50,
    "start_time": "2022-02-20T16:33:06.171Z"
   },
   {
    "duration": 657,
    "start_time": "2022-02-20T16:33:58.220Z"
   },
   {
    "duration": 260,
    "start_time": "2022-02-20T16:36:05.503Z"
   },
   {
    "duration": 854,
    "start_time": "2022-02-20T16:43:36.221Z"
   },
   {
    "duration": 902,
    "start_time": "2022-02-20T16:45:03.760Z"
   },
   {
    "duration": 628,
    "start_time": "2022-02-20T16:48:10.622Z"
   },
   {
    "duration": 538,
    "start_time": "2022-02-20T16:51:37.582Z"
   },
   {
    "duration": 696,
    "start_time": "2022-02-20T16:52:20.704Z"
   },
   {
    "duration": 622,
    "start_time": "2022-02-20T16:53:02.859Z"
   },
   {
    "duration": 494,
    "start_time": "2022-02-20T16:53:47.967Z"
   },
   {
    "duration": 923,
    "start_time": "2022-02-20T16:56:07.284Z"
   },
   {
    "duration": 982,
    "start_time": "2022-02-20T16:57:03.486Z"
   },
   {
    "duration": 709,
    "start_time": "2022-02-20T16:57:22.970Z"
   },
   {
    "duration": 459,
    "start_time": "2022-02-20T16:58:06.726Z"
   },
   {
    "duration": 457,
    "start_time": "2022-02-20T16:58:13.945Z"
   },
   {
    "duration": 936,
    "start_time": "2022-02-20T17:02:38.828Z"
   },
   {
    "duration": 667,
    "start_time": "2022-02-20T17:03:28.026Z"
   },
   {
    "duration": 607,
    "start_time": "2022-02-20T17:03:47.747Z"
   },
   {
    "duration": 418,
    "start_time": "2022-02-20T17:03:58.284Z"
   },
   {
    "duration": 583,
    "start_time": "2022-02-20T17:17:02.613Z"
   },
   {
    "duration": 981,
    "start_time": "2022-02-20T17:17:09.237Z"
   },
   {
    "duration": 632,
    "start_time": "2022-02-20T17:17:25.717Z"
   },
   {
    "duration": 220,
    "start_time": "2022-02-20T17:46:37.132Z"
   },
   {
    "duration": 4,
    "start_time": "2022-02-20T17:46:53.976Z"
   },
   {
    "duration": 5513,
    "start_time": "2022-02-20T17:47:01.794Z"
   },
   {
    "duration": 213,
    "start_time": "2022-02-20T17:47:33.557Z"
   },
   {
    "duration": 4,
    "start_time": "2022-02-20T17:48:10.669Z"
   },
   {
    "duration": 8,
    "start_time": "2022-02-20T17:48:12.811Z"
   },
   {
    "duration": 9,
    "start_time": "2022-02-20T17:48:56.000Z"
   },
   {
    "duration": 31,
    "start_time": "2022-02-20T17:49:42.640Z"
   },
   {
    "duration": 31,
    "start_time": "2022-02-20T17:51:11.923Z"
   },
   {
    "duration": 73,
    "start_time": "2022-02-20T17:51:51.937Z"
   },
   {
    "duration": 29,
    "start_time": "2022-02-20T17:51:57.649Z"
   },
   {
    "duration": 29,
    "start_time": "2022-02-20T17:52:08.473Z"
   },
   {
    "duration": 30,
    "start_time": "2022-02-20T17:52:47.315Z"
   },
   {
    "duration": 44,
    "start_time": "2022-02-20T17:58:24.594Z"
   },
   {
    "duration": 336,
    "start_time": "2022-02-20T18:01:31.826Z"
   },
   {
    "duration": 36,
    "start_time": "2022-02-20T18:07:07.058Z"
   },
   {
    "duration": 213,
    "start_time": "2022-02-20T18:14:26.113Z"
   },
   {
    "duration": 37,
    "start_time": "2022-02-20T18:14:32.267Z"
   },
   {
    "duration": 3,
    "start_time": "2022-02-20T18:16:30.575Z"
   },
   {
    "duration": 175,
    "start_time": "2022-02-20T18:18:50.951Z"
   },
   {
    "duration": 1676,
    "start_time": "2022-02-20T18:21:00.069Z"
   },
   {
    "duration": 4,
    "start_time": "2022-02-20T18:21:01.747Z"
   },
   {
    "duration": 69,
    "start_time": "2022-02-20T18:21:01.753Z"
   },
   {
    "duration": 291,
    "start_time": "2022-02-20T18:21:01.825Z"
   },
   {
    "duration": 138,
    "start_time": "2022-02-20T18:21:02.118Z"
   },
   {
    "duration": 1685,
    "start_time": "2022-02-20T18:21:02.258Z"
   },
   {
    "duration": 47,
    "start_time": "2022-02-20T18:21:03.946Z"
   },
   {
    "duration": 142,
    "start_time": "2022-02-20T18:21:03.996Z"
   },
   {
    "duration": 57,
    "start_time": "2022-02-20T18:21:04.141Z"
   },
   {
    "duration": 46,
    "start_time": "2022-02-20T18:21:04.199Z"
   },
   {
    "duration": 45,
    "start_time": "2022-02-20T18:21:04.247Z"
   },
   {
    "duration": 37,
    "start_time": "2022-02-20T18:21:04.294Z"
   },
   {
    "duration": 18,
    "start_time": "2022-02-20T18:21:04.333Z"
   },
   {
    "duration": 68,
    "start_time": "2022-02-20T18:21:04.353Z"
   },
   {
    "duration": 767,
    "start_time": "2022-02-20T18:21:04.423Z"
   },
   {
    "duration": 426,
    "start_time": "2022-02-20T18:21:05.193Z"
   },
   {
    "duration": 432,
    "start_time": "2022-02-20T18:21:05.621Z"
   },
   {
    "duration": 3,
    "start_time": "2022-02-20T18:21:06.056Z"
   },
   {
    "duration": 309,
    "start_time": "2022-02-20T18:21:06.061Z"
   },
   {
    "duration": 51,
    "start_time": "2022-02-20T18:21:06.372Z"
   },
   {
    "duration": 2,
    "start_time": "2022-02-20T18:21:06.425Z"
   },
   {
    "duration": 242,
    "start_time": "2022-02-20T18:22:33.066Z"
   },
   {
    "duration": 216,
    "start_time": "2022-02-20T18:22:58.126Z"
   },
   {
    "duration": 350,
    "start_time": "2022-02-20T18:23:58.518Z"
   },
   {
    "duration": 383,
    "start_time": "2022-02-20T18:25:03.837Z"
   },
   {
    "duration": 380,
    "start_time": "2022-02-20T18:25:21.772Z"
   },
   {
    "duration": 582,
    "start_time": "2022-02-20T18:25:34.086Z"
   },
   {
    "duration": 422,
    "start_time": "2022-02-20T18:26:10.580Z"
   },
   {
    "duration": 92,
    "start_time": "2022-02-20T18:32:57.826Z"
   },
   {
    "duration": 226,
    "start_time": "2022-02-20T18:35:03.750Z"
   },
   {
    "duration": 66,
    "start_time": "2022-02-20T18:35:36.357Z"
   },
   {
    "duration": 10,
    "start_time": "2022-02-20T18:38:32.078Z"
   },
   {
    "duration": 219,
    "start_time": "2022-02-20T18:40:44.883Z"
   },
   {
    "duration": 211,
    "start_time": "2022-02-20T18:42:26.800Z"
   },
   {
    "duration": 11,
    "start_time": "2022-02-20T18:42:33.410Z"
   },
   {
    "duration": 3,
    "start_time": "2022-02-20T18:56:39.268Z"
   },
   {
    "duration": 1339,
    "start_time": "2022-02-20T19:00:04.893Z"
   },
   {
    "duration": 3,
    "start_time": "2022-02-20T19:00:06.234Z"
   },
   {
    "duration": 78,
    "start_time": "2022-02-20T19:00:06.239Z"
   },
   {
    "duration": 384,
    "start_time": "2022-02-20T19:00:06.319Z"
   },
   {
    "duration": 179,
    "start_time": "2022-02-20T19:00:06.705Z"
   },
   {
    "duration": 1825,
    "start_time": "2022-02-20T19:00:06.887Z"
   },
   {
    "duration": 45,
    "start_time": "2022-02-20T19:00:08.718Z"
   },
   {
    "duration": 143,
    "start_time": "2022-02-20T19:00:08.766Z"
   },
   {
    "duration": 64,
    "start_time": "2022-02-20T19:00:08.911Z"
   },
   {
    "duration": 52,
    "start_time": "2022-02-20T19:00:08.977Z"
   },
   {
    "duration": 49,
    "start_time": "2022-02-20T19:00:09.031Z"
   },
   {
    "duration": 36,
    "start_time": "2022-02-20T19:00:09.082Z"
   },
   {
    "duration": 17,
    "start_time": "2022-02-20T19:00:09.121Z"
   },
   {
    "duration": 66,
    "start_time": "2022-02-20T19:00:09.140Z"
   },
   {
    "duration": 575,
    "start_time": "2022-02-20T19:00:09.208Z"
   },
   {
    "duration": 489,
    "start_time": "2022-02-20T19:00:09.785Z"
   },
   {
    "duration": 436,
    "start_time": "2022-02-20T19:00:10.276Z"
   },
   {
    "duration": 3,
    "start_time": "2022-02-20T19:00:10.718Z"
   },
   {
    "duration": 308,
    "start_time": "2022-02-20T19:00:10.723Z"
   },
   {
    "duration": 41,
    "start_time": "2022-02-20T19:00:11.033Z"
   },
   {
    "duration": 245,
    "start_time": "2022-02-20T19:00:11.076Z"
   },
   {
    "duration": 237,
    "start_time": "2022-02-20T19:00:11.324Z"
   },
   {
    "duration": 12,
    "start_time": "2022-02-20T19:00:11.564Z"
   },
   {
    "duration": 231,
    "start_time": "2022-02-20T19:00:11.578Z"
   },
   {
    "duration": 12,
    "start_time": "2022-02-20T19:00:11.818Z"
   },
   {
    "duration": 79,
    "start_time": "2022-03-02T14:20:49.938Z"
   },
   {
    "duration": 282,
    "start_time": "2022-03-02T14:22:02.136Z"
   },
   {
    "duration": 1166,
    "start_time": "2022-03-02T14:22:10.376Z"
   },
   {
    "duration": 2,
    "start_time": "2022-03-02T14:22:12.602Z"
   },
   {
    "duration": 68,
    "start_time": "2022-03-02T14:22:13.774Z"
   },
   {
    "duration": 205,
    "start_time": "2022-03-02T14:23:03.891Z"
   },
   {
    "duration": 199,
    "start_time": "2022-03-02T14:23:17.698Z"
   },
   {
    "duration": 108,
    "start_time": "2022-03-02T14:23:30.331Z"
   },
   {
    "duration": 1337,
    "start_time": "2022-03-02T16:08:35.668Z"
   },
   {
    "duration": 358,
    "start_time": "2022-03-02T16:11:03.040Z"
   },
   {
    "duration": 301,
    "start_time": "2022-03-02T16:11:38.461Z"
   },
   {
    "duration": 92,
    "start_time": "2022-03-02T16:12:12.203Z"
   },
   {
    "duration": 84,
    "start_time": "2022-03-02T16:12:38.373Z"
   },
   {
    "duration": 211,
    "start_time": "2022-03-02T16:14:49.344Z"
   },
   {
    "duration": 119,
    "start_time": "2022-03-02T16:15:21.670Z"
   },
   {
    "duration": 1332,
    "start_time": "2022-03-02T16:15:53.208Z"
   },
   {
    "duration": 47,
    "start_time": "2022-03-02T16:16:32.475Z"
   },
   {
    "duration": 37,
    "start_time": "2022-03-02T16:17:47.054Z"
   },
   {
    "duration": 1372,
    "start_time": "2022-03-02T16:47:59.913Z"
   },
   {
    "duration": 1679,
    "start_time": "2022-03-02T16:55:01.856Z"
   },
   {
    "duration": 1367,
    "start_time": "2022-03-02T16:55:19.303Z"
   },
   {
    "duration": 1357,
    "start_time": "2022-03-02T16:56:11.234Z"
   },
   {
    "duration": 42,
    "start_time": "2022-03-02T17:03:03.392Z"
   },
   {
    "duration": 28,
    "start_time": "2022-03-02T17:03:06.520Z"
   },
   {
    "duration": 36,
    "start_time": "2022-03-02T17:03:13.406Z"
   },
   {
    "duration": 14,
    "start_time": "2022-03-02T17:03:24.057Z"
   },
   {
    "duration": 13,
    "start_time": "2022-03-02T17:03:34.493Z"
   },
   {
    "duration": 88,
    "start_time": "2022-03-02T17:14:41.759Z"
   },
   {
    "duration": 5735,
    "start_time": "2022-03-02T17:19:19.095Z"
   },
   {
    "duration": 6520,
    "start_time": "2022-03-02T17:20:14.342Z"
   },
   {
    "duration": 4,
    "start_time": "2022-03-02T17:28:30.262Z"
   },
   {
    "duration": 38,
    "start_time": "2022-03-02T17:28:46.709Z"
   },
   {
    "duration": 34,
    "start_time": "2022-03-02T17:29:29.761Z"
   },
   {
    "duration": 416,
    "start_time": "2022-03-02T17:30:35.420Z"
   },
   {
    "duration": 323,
    "start_time": "2022-03-02T17:30:49.586Z"
   },
   {
    "duration": 321,
    "start_time": "2022-03-02T17:30:56.142Z"
   },
   {
    "duration": 2,
    "start_time": "2022-03-02T17:31:11.612Z"
   },
   {
    "duration": 226,
    "start_time": "2022-03-02T17:31:13.565Z"
   },
   {
    "duration": 164,
    "start_time": "2022-03-02T17:31:35.682Z"
   },
   {
    "duration": 244,
    "start_time": "2022-03-02T17:35:01.334Z"
   },
   {
    "duration": 4772,
    "start_time": "2022-03-02T17:35:16.164Z"
   },
   {
    "duration": 171,
    "start_time": "2022-03-02T17:36:39.227Z"
   },
   {
    "duration": 183,
    "start_time": "2022-03-02T17:38:27.944Z"
   },
   {
    "duration": 207,
    "start_time": "2022-03-02T17:45:18.392Z"
   },
   {
    "duration": 184,
    "start_time": "2022-03-02T17:45:30.126Z"
   },
   {
    "duration": 29,
    "start_time": "2022-03-02T17:46:54.259Z"
   },
   {
    "duration": 176,
    "start_time": "2022-03-02T17:47:06.310Z"
   },
   {
    "duration": 216,
    "start_time": "2022-03-02T17:47:12.452Z"
   },
   {
    "duration": 11,
    "start_time": "2022-03-02T17:47:15.518Z"
   },
   {
    "duration": 178,
    "start_time": "2022-03-02T17:47:17.174Z"
   },
   {
    "duration": 7,
    "start_time": "2022-03-02T17:58:21.571Z"
   },
   {
    "duration": 76,
    "start_time": "2022-03-02T18:02:45.043Z"
   },
   {
    "duration": 1010,
    "start_time": "2022-03-02T18:06:00.536Z"
   },
   {
    "duration": 2,
    "start_time": "2022-03-02T18:06:01.548Z"
   },
   {
    "duration": 64,
    "start_time": "2022-03-02T18:06:01.553Z"
   },
   {
    "duration": 221,
    "start_time": "2022-03-02T18:06:01.619Z"
   },
   {
    "duration": 137,
    "start_time": "2022-03-02T18:06:01.842Z"
   },
   {
    "duration": 1436,
    "start_time": "2022-03-02T18:06:01.981Z"
   },
   {
    "duration": 44,
    "start_time": "2022-03-02T18:06:03.419Z"
   },
   {
    "duration": 43,
    "start_time": "2022-03-02T18:06:03.465Z"
   },
   {
    "duration": 47,
    "start_time": "2022-03-02T18:06:03.510Z"
   },
   {
    "duration": 26,
    "start_time": "2022-03-02T18:06:03.558Z"
   },
   {
    "duration": 45,
    "start_time": "2022-03-02T18:06:03.586Z"
   },
   {
    "duration": 14,
    "start_time": "2022-03-02T18:06:03.633Z"
   },
   {
    "duration": 11,
    "start_time": "2022-03-02T18:06:03.648Z"
   },
   {
    "duration": 3,
    "start_time": "2022-03-02T18:06:03.661Z"
   },
   {
    "duration": 60,
    "start_time": "2022-03-02T18:06:03.666Z"
   },
   {
    "duration": 432,
    "start_time": "2022-03-02T18:06:03.727Z"
   },
   {
    "duration": 331,
    "start_time": "2022-03-02T18:06:04.161Z"
   },
   {
    "duration": 322,
    "start_time": "2022-03-02T18:06:04.493Z"
   },
   {
    "duration": 2,
    "start_time": "2022-03-02T18:06:04.816Z"
   },
   {
    "duration": 246,
    "start_time": "2022-03-02T18:06:04.819Z"
   },
   {
    "duration": 27,
    "start_time": "2022-03-02T18:06:05.066Z"
   },
   {
    "duration": 176,
    "start_time": "2022-03-02T18:06:05.106Z"
   },
   {
    "duration": 7,
    "start_time": "2022-03-02T18:06:05.285Z"
   },
   {
    "duration": 186,
    "start_time": "2022-03-02T18:06:05.294Z"
   },
   {
    "duration": 8,
    "start_time": "2022-03-02T18:06:05.481Z"
   },
   {
    "duration": 192,
    "start_time": "2022-03-02T18:06:05.491Z"
   },
   {
    "duration": 7,
    "start_time": "2022-03-02T18:06:05.685Z"
   },
   {
    "duration": 5981,
    "start_time": "2022-03-02T18:07:53.019Z"
   },
   {
    "duration": 213,
    "start_time": "2022-03-02T18:08:31.073Z"
   },
   {
    "duration": 1018,
    "start_time": "2022-03-02T18:08:53.012Z"
   },
   {
    "duration": 2,
    "start_time": "2022-03-02T18:08:54.032Z"
   },
   {
    "duration": 68,
    "start_time": "2022-03-02T18:08:54.036Z"
   },
   {
    "duration": 209,
    "start_time": "2022-03-02T18:08:54.106Z"
   },
   {
    "duration": 118,
    "start_time": "2022-03-02T18:08:54.317Z"
   },
   {
    "duration": 185,
    "start_time": "2022-03-02T18:08:54.437Z"
   },
   {
    "duration": 42,
    "start_time": "2022-03-02T18:08:54.624Z"
   },
   {
    "duration": 39,
    "start_time": "2022-03-02T18:08:54.668Z"
   },
   {
    "duration": 43,
    "start_time": "2022-03-02T18:08:54.709Z"
   },
   {
    "duration": 25,
    "start_time": "2022-03-02T18:08:54.754Z"
   },
   {
    "duration": 53,
    "start_time": "2022-03-02T18:08:54.780Z"
   },
   {
    "duration": 12,
    "start_time": "2022-03-02T18:08:54.835Z"
   },
   {
    "duration": 13,
    "start_time": "2022-03-02T18:08:54.848Z"
   },
   {
    "duration": 5,
    "start_time": "2022-03-02T18:08:54.862Z"
   },
   {
    "duration": 62,
    "start_time": "2022-03-02T18:08:54.868Z"
   },
   {
    "duration": 444,
    "start_time": "2022-03-02T18:08:54.931Z"
   },
   {
    "duration": 323,
    "start_time": "2022-03-02T18:08:55.377Z"
   },
   {
    "duration": 334,
    "start_time": "2022-03-02T18:08:55.702Z"
   },
   {
    "duration": 2,
    "start_time": "2022-03-02T18:08:56.038Z"
   },
   {
    "duration": 252,
    "start_time": "2022-03-02T18:08:56.042Z"
   },
   {
    "duration": 32,
    "start_time": "2022-03-02T18:08:56.295Z"
   },
   {
    "duration": 182,
    "start_time": "2022-03-02T18:08:56.328Z"
   },
   {
    "duration": 6,
    "start_time": "2022-03-02T18:08:56.512Z"
   },
   {
    "duration": 187,
    "start_time": "2022-03-02T18:08:56.520Z"
   },
   {
    "duration": 7,
    "start_time": "2022-03-02T18:08:56.708Z"
   },
   {
    "duration": 182,
    "start_time": "2022-03-02T18:08:56.717Z"
   },
   {
    "duration": 8,
    "start_time": "2022-03-02T18:08:56.901Z"
   },
   {
    "duration": 169,
    "start_time": "2022-03-02T18:10:08.079Z"
   }
  ],
  "kernelspec": {
   "display_name": "Python 3",
   "language": "python",
   "name": "python3"
  },
  "language_info": {
   "codemirror_mode": {
    "name": "ipython",
    "version": 3
   },
   "file_extension": ".py",
   "mimetype": "text/x-python",
   "name": "python",
   "nbconvert_exporter": "python",
   "pygments_lexer": "ipython3",
   "version": "3.7.7"
  },
  "toc": {
   "base_numbering": 1,
   "nav_menu": {},
   "number_sections": true,
   "sideBar": true,
   "skip_h1_title": true,
   "title_cell": "Table of Contents",
   "title_sidebar": "Contents",
   "toc_cell": false,
   "toc_position": {
    "height": "calc(100% - 180px)",
    "left": "10px",
    "top": "150px",
    "width": "165px"
   },
   "toc_section_display": true,
   "toc_window_display": false
  }
 },
 "nbformat": 4,
 "nbformat_minor": 4
}
