{
 "cells": [
  {
   "cell_type": "markdown",
   "metadata": {},
   "source": [
    "<div class=\"p-3 mb-2 bg-primary text-white\">\n",
    "<h2> Итоговый комментарий ревьюера <a class=\"tocSkip\"> </h2>\n",
    "    \n",
    "* Елена, отличная работа, спасибо! Было очень интересно с тобой работать, здорово, что ты была готова изучать новое и применять на практике: удалось ещё улучшить качество. Кстати, модели можно <a href='https://dyakonov.org/2017/03/10/c%D1%82%D0%B5%D0%BA%D0%B8%D0%BD%D0%B3-stacking-%D0%B8-%D0%B1%D0%BB%D0%B5%D0%BD%D0%B4%D0%B8%D0%BD%D0%B3-blending/'><code>объединять</code></a>, обучая на их ответах, как на мета-признаках, мета-модели :) Тоже интересная тема :)\n",
    "* Поздравляю с успешным прохождением очередного модуля, желаю тебе успехов в дальнейшей учёбе и профессиональной деятельности!\n",
    "    \n",
    "<img src='data:image/jpeg;base64,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'>\n",
    "<hr>\n",
    "<a href='https://stepik.org/course/54098/promo'><code>Есть такой бесплатный курс на Stepik</code></a>, думаю, тебе будет интересно потом с ним ознакомиться :)\n",
    "</div>"
   ]
  },
  {
   "cell_type": "markdown",
   "metadata": {
    "toc": true
   },
   "source": [
    "<h1>Содержание<span class=\"tocSkip\"></span></h1>\n",
    "<div class=\"toc\"><ul class=\"toc-item\"><li><span><a href=\"#Подготовка\" data-toc-modified-id=\"Подготовка-1\"><span class=\"toc-item-num\">1&nbsp;&nbsp;</span>Подготовка</a></span></li><li><span><a href=\"#Обучение\" data-toc-modified-id=\"Обучение-2\"><span class=\"toc-item-num\">2&nbsp;&nbsp;</span>Обучение</a></span></li><li><span><a href=\"#Выводы\" data-toc-modified-id=\"Выводы-3\"><span class=\"toc-item-num\">3&nbsp;&nbsp;</span>Выводы</a></span></li><li><span><a href=\"#Чек-лист-проверки\" data-toc-modified-id=\"Чек-лист-проверки-4\"><span class=\"toc-item-num\">4&nbsp;&nbsp;</span>Чек-лист проверки</a></span></li></ul></div>"
   ]
  },
  {
   "cell_type": "markdown",
   "metadata": {
    "id": "__otPXBPVrre"
   },
   "source": [
    "<div class=\"p-3 mb-2 bg-primary text-white\">\n",
    "<h2> Резюме по работе v2<a class=\"tocSkip\"> </h2>\n",
    "    \n",
    "* Елена, тебе удалось устранить все важные ошибки, осталось только немного победить качество, дал тебе советы, если не получится самостоятельно разобраться с чем-то, можешь писать в личку в Slack.\n",
    "* Ты очень здорово проработала момент с pipeline, классный блок получился :)\n",
    "* Жду проект на повторное ревью!\n",
    "</div>"
   ]
  },
  {
   "cell_type": "markdown",
   "metadata": {
    "id": "yH9pbwqeiid_"
   },
   "source": [
    "<div class=\"alert alert-warning\">\n",
    "    <h2> Комментарий ревьюера <a class=\"tocSkip\"> </h2>\n",
    "<hr>    \n",
    "<b>Совет💡:</b> Круто, что используешь интерактивное оглавление-план. Всегда советую своим студентам помещать его сразу после описания задачи: так знакомство с ним будет происходить уже в контексте задачи.\n",
    "</div></div>"
   ]
  },
  {
   "cell_type": "markdown",
   "metadata": {
    "id": "fdQsaw5YZob3"
   },
   "source": [
    "# Проект для «Викишоп» с BERT"
   ]
  },
  {
   "cell_type": "markdown",
   "metadata": {
    "id": "JMVvyBcPZob5"
   },
   "source": [
    "Интернет-магазин «Викишоп» запускает новый сервис. Теперь пользователи могут редактировать и дополнять описания товаров, как в вики-сообществах. То есть клиенты предлагают свои правки и комментируют изменения других. Магазину нужен инструмент, который будет искать токсичные комментарии и отправлять их на модерацию. \n",
    "\n",
    "Обучите модель классифицировать комментарии на позитивные и негативные. В вашем распоряжении набор данных с разметкой о токсичности правок.\n",
    "\n",
    "Постройте модель со значением метрики качества *F1* не меньше 0.75. \n",
    "\n",
    "**Инструкция по выполнению проекта**\n",
    "\n",
    "1. Загрузите и подготовьте данные.\n",
    "2. Обучите разные модели. \n",
    "3. Сделайте выводы.\n",
    "\n",
    "Для выполнения проекта применять *BERT* необязательно, но вы можете попробовать.\n",
    "\n",
    "**Описание данных**\n",
    "\n",
    "Данные находятся в файле `toxic_comments.csv`. Столбец *text* в нём содержит текст комментария, а *toxic* — целевой признак."
   ]
  },
  {
   "cell_type": "markdown",
   "metadata": {
    "id": "dclDYqYViieE"
   },
   "source": [
    "<div class=\"alert alert-success\">\n",
    "<h2> Комментарий ревьюера <a class=\"tocSkip\"> </h2>\n",
    "<hr>\n",
    "<b>Верно!👍:</b> Отлично, описание есть, молодец!\n",
    "</div>"
   ]
  },
  {
   "cell_type": "markdown",
   "metadata": {
    "id": "Wwc73IXWiieF"
   },
   "source": [
    "<div class=\"alert alert-warning\">\n",
    "    <h2> Комментарий ревьюера <a class=\"tocSkip\"> </h2>\n",
    "<hr>    \n",
    "<b>Совет💡:</b> Кстати, можно немного переработать описание, чтобы решение выглядело более самостоятельным: не писать, где даётся директива, например, — «постройте», «проанализируйте», — а написать «построим», «проанализируем». Так это будет выглядеть как твои решения, а не готовая инструкция, по которой решался проект :)\n",
    "</div></div>"
   ]
  },
  {
   "cell_type": "markdown",
   "metadata": {
    "id": "k7Q42zobiieH"
   },
   "source": [
    "<div class=\"alert alert-info\">\n",
    "    <h2> Комментарий студента <a class=\"tocSkip\"> </a></h2>\n",
    "<hr>    \n",
    "Мне кажется, не совсем верным исправлять текст задания. Осообенно, если учеть масштаб проделанной работы)\n",
    "</div></div>"
   ]
  },
  {
   "cell_type": "markdown",
   "metadata": {
    "id": "qjvKB06qVrrr"
   },
   "source": [
    "<div class=\"alert alert-warning\">\n",
    "    <h2> Комментарий ревьюера v2<a class=\"tocSkip\"> </h2>\n",
    "<hr>    \n",
    "<b>Совет💡:</b> Выбор за тобой :) Масштаб считаешь слишком маленьким или слишком большим, не совсем здесь понял.\n",
    "</div></div>"
   ]
  },
  {
   "cell_type": "markdown",
   "metadata": {
    "id": "TMms1TEbVrrr"
   },
   "source": [
    "<div class=\"alert alert-info\">\n",
    "    <h2> Комментарий студента v2<a class=\"tocSkip\"> </a></h2>\n",
    "<hr>    \n",
    "Точно не маленьким)\n",
    "</div></div>"
   ]
  },
  {
   "cell_type": "markdown",
   "metadata": {},
   "source": [
    "<div class=\"alert alert-warning\">\n",
    "    <h2> Комментарий ревьюера v3<a class=\"tocSkip\"> </h2>\n",
    "<hr>    \n",
    "<b>Совет💡:</b> Согласен, ты хорошо потрудилась, думал, может скромничаешь :)\n",
    "</div></div>"
   ]
  },
  {
   "cell_type": "markdown",
   "metadata": {
    "id": "3j4AXaowZob6"
   },
   "source": [
    "## Подготовка"
   ]
  },
  {
   "cell_type": "code",
   "execution_count": 1,
   "metadata": {
    "colab": {
     "base_uri": "https://localhost:8080/"
    },
    "executionInfo": {
     "elapsed": 2213,
     "status": "ok",
     "timestamp": 1656106313206,
     "user": {
      "displayName": "Elena Shulga",
      "userId": "03246642174840672951"
     },
     "user_tz": -180
    },
    "id": "BDdLYq8GaeSZ",
    "outputId": "d6202310-9b07-4d4d-ca14-2fa7e8589e17"
   },
   "outputs": [
    {
     "name": "stdout",
     "output_type": "stream",
     "text": [
      "Collecting transformers==4.11.2\n",
      "  Downloading transformers-4.11.2-py3-none-any.whl (2.9 MB)\n",
      "\u001b[K     |████████████████████████████████| 2.9 MB 1.3 MB/s eta 0:00:01\n",
      "\u001b[?25hRequirement already satisfied: pyyaml>=5.1 in /opt/conda/lib/python3.9/site-packages (from transformers==4.11.2) (6.0)\n",
      "Requirement already satisfied: regex!=2019.12.17 in /opt/conda/lib/python3.9/site-packages (from transformers==4.11.2) (2022.4.24)\n",
      "Requirement already satisfied: tqdm>=4.27 in /opt/conda/lib/python3.9/site-packages (from transformers==4.11.2) (4.61.2)\n",
      "Requirement already satisfied: requests in /opt/conda/lib/python3.9/site-packages (from transformers==4.11.2) (2.25.1)\n",
      "Requirement already satisfied: huggingface-hub>=0.0.17 in /opt/conda/lib/python3.9/site-packages (from transformers==4.11.2) (0.6.0)\n",
      "Requirement already satisfied: sacremoses in /opt/conda/lib/python3.9/site-packages (from transformers==4.11.2) (0.0.53)\n",
      "Requirement already satisfied: tokenizers<0.11,>=0.10.1 in /opt/conda/lib/python3.9/site-packages (from transformers==4.11.2) (0.10.3)\n",
      "Requirement already satisfied: numpy>=1.17 in /opt/conda/lib/python3.9/site-packages (from transformers==4.11.2) (1.21.1)\n",
      "Requirement already satisfied: filelock in /opt/conda/lib/python3.9/site-packages (from transformers==4.11.2) (3.7.0)\n",
      "Requirement already satisfied: packaging>=20.0 in /opt/conda/lib/python3.9/site-packages (from transformers==4.11.2) (21.3)\n",
      "Requirement already satisfied: typing-extensions>=3.7.4.3 in /opt/conda/lib/python3.9/site-packages (from huggingface-hub>=0.0.17->transformers==4.11.2) (4.2.0)\n",
      "Requirement already satisfied: pyparsing!=3.0.5,>=2.0.2 in /opt/conda/lib/python3.9/site-packages (from packaging>=20.0->transformers==4.11.2) (2.4.7)\n",
      "Requirement already satisfied: certifi>=2017.4.17 in /opt/conda/lib/python3.9/site-packages (from requests->transformers==4.11.2) (2022.5.18.1)\n",
      "Requirement already satisfied: idna<3,>=2.5 in /opt/conda/lib/python3.9/site-packages (from requests->transformers==4.11.2) (2.10)\n",
      "Requirement already satisfied: urllib3<1.27,>=1.21.1 in /opt/conda/lib/python3.9/site-packages (from requests->transformers==4.11.2) (1.26.6)\n",
      "Requirement already satisfied: chardet<5,>=3.0.2 in /opt/conda/lib/python3.9/site-packages (from requests->transformers==4.11.2) (4.0.0)\n",
      "Requirement already satisfied: click in /opt/conda/lib/python3.9/site-packages (from sacremoses->transformers==4.11.2) (8.1.3)\n",
      "Requirement already satisfied: joblib in /opt/conda/lib/python3.9/site-packages (from sacremoses->transformers==4.11.2) (1.1.0)\n",
      "Requirement already satisfied: six in /opt/conda/lib/python3.9/site-packages (from sacremoses->transformers==4.11.2) (1.16.0)\n",
      "Installing collected packages: transformers\n",
      "  Attempting uninstall: transformers\n",
      "    Found existing installation: transformers 4.12.5\n",
      "    Uninstalling transformers-4.12.5:\n",
      "      Successfully uninstalled transformers-4.12.5\n",
      "Successfully installed transformers-4.11.2\n"
     ]
    }
   ],
   "source": [
    "!pip install transformers==4.11.2"
   ]
  },
  {
   "cell_type": "code",
   "execution_count": 2,
   "metadata": {
    "colab": {
     "base_uri": "https://localhost:8080/"
    },
    "executionInfo": {
     "elapsed": 3821,
     "status": "ok",
     "timestamp": 1656106316994,
     "user": {
      "displayName": "Elena Shulga",
      "userId": "03246642174840672951"
     },
     "user_tz": -180
    },
    "id": "QTyoYaFktUu1",
    "outputId": "7f8d985f-9c88-4127-b795-3de47b5b51cd"
   },
   "outputs": [
    {
     "name": "stdout",
     "output_type": "stream",
     "text": [
      "Collecting bert\n",
      "  Downloading bert-2.2.0.tar.gz (3.5 kB)\n",
      "Collecting erlastic\n",
      "  Downloading erlastic-2.0.0.tar.gz (6.8 kB)\n",
      "Building wheels for collected packages: bert, erlastic\n",
      "  Building wheel for bert (setup.py) ... \u001b[?25ldone\n",
      "\u001b[?25h  Created wheel for bert: filename=bert-2.2.0-py3-none-any.whl size=3753 sha256=39f7692eb78b172474656e52d76369279caac82784d1e0431998c33949064376\n",
      "  Stored in directory: /home/jovyan/.cache/pip/wheels/81/e5/34/d540d6d58f74eece5ed6a0305c718c18d48f8fa8da359365fb\n",
      "  Building wheel for erlastic (setup.py) ... \u001b[?25ldone\n",
      "\u001b[?25h  Created wheel for erlastic: filename=erlastic-2.0.0-py3-none-any.whl size=6788 sha256=3bdebe0445ca95ab136645449bf1c0253134781bce5bd02b974198d69833b5c5\n",
      "  Stored in directory: /home/jovyan/.cache/pip/wheels/23/bf/21/6de152eceb51594c538fe8b87584b9dd260cdca118398d2f6c\n",
      "Successfully built bert erlastic\n",
      "Installing collected packages: erlastic, bert\n",
      "Successfully installed bert-2.2.0 erlastic-2.0.0\n"
     ]
    }
   ],
   "source": [
    "!pip install  --upgrade bert"
   ]
  },
  {
   "cell_type": "code",
   "execution_count": 3,
   "metadata": {
    "executionInfo": {
     "elapsed": 11,
     "status": "ok",
     "timestamp": 1656107345035,
     "user": {
      "displayName": "Elena Shulga",
      "userId": "03246642174840672951"
     },
     "user_tz": -180
    },
    "id": "2LXu1Lh4Zob7"
   },
   "outputs": [
    {
     "ename": "ModuleNotFoundError",
     "evalue": "No module named 'google.colab'",
     "output_type": "error",
     "traceback": [
      "\u001b[0;31m---------------------------------------------------------------------------\u001b[0m",
      "\u001b[0;31mModuleNotFoundError\u001b[0m                       Traceback (most recent call last)",
      "\u001b[0;32m/tmp/ipykernel_48/1573640503.py\u001b[0m in \u001b[0;36m<module>\u001b[0;34m\u001b[0m\n\u001b[1;32m      9\u001b[0m \u001b[0;32mimport\u001b[0m \u001b[0mtorch\u001b[0m\u001b[0;34m\u001b[0m\u001b[0;34m\u001b[0m\u001b[0m\n\u001b[1;32m     10\u001b[0m \u001b[0;32mimport\u001b[0m \u001b[0mtransformers\u001b[0m\u001b[0;34m\u001b[0m\u001b[0;34m\u001b[0m\u001b[0m\n\u001b[0;32m---> 11\u001b[0;31m \u001b[0;32mfrom\u001b[0m \u001b[0mgoogle\u001b[0m\u001b[0;34m.\u001b[0m\u001b[0mcolab\u001b[0m \u001b[0;32mimport\u001b[0m \u001b[0mdrive\u001b[0m\u001b[0;34m\u001b[0m\u001b[0;34m\u001b[0m\u001b[0m\n\u001b[0m\u001b[1;32m     12\u001b[0m \u001b[0;32mfrom\u001b[0m \u001b[0mnltk\u001b[0m\u001b[0;34m.\u001b[0m\u001b[0mcorpus\u001b[0m \u001b[0;32mimport\u001b[0m \u001b[0mstopwords\u001b[0m\u001b[0;34m,\u001b[0m \u001b[0mwordnet\u001b[0m\u001b[0;34m\u001b[0m\u001b[0;34m\u001b[0m\u001b[0m\n\u001b[1;32m     13\u001b[0m \u001b[0;32mfrom\u001b[0m \u001b[0mnltk\u001b[0m\u001b[0;34m.\u001b[0m\u001b[0mstem\u001b[0m \u001b[0;32mimport\u001b[0m \u001b[0mWordNetLemmatizer\u001b[0m\u001b[0;34m\u001b[0m\u001b[0;34m\u001b[0m\u001b[0m\n",
      "\u001b[0;31mModuleNotFoundError\u001b[0m: No module named 'google.colab'"
     ]
    }
   ],
   "source": [
    "import lightgbm as ltb\n",
    "import matplotlib.pyplot as plt\n",
    "import nltk\n",
    "import numpy as np\n",
    "import pandas as pd\n",
    "import re\n",
    "# import tensorflow_hub as hub\n",
    "import time\n",
    "import torch\n",
    "import transformers\n",
    "from google.colab import drive\n",
    "from nltk.corpus import stopwords, wordnet\n",
    "from nltk.stem import WordNetLemmatizer\n",
    "from itertools import product\n",
    "from sklearn.feature_extraction.text import TfidfVectorizer\n",
    "from sklearn.linear_model import LogisticRegression\n",
    "from sklearn.metrics import f1_score\n",
    "from sklearn.model_selection import train_test_split, GridSearchCV\n",
    "from sklearn.pipeline import make_pipeline\n",
    "# from sklearn.tree import DecisionTreeClassifier\n",
    "from sklearn.utils import class_weight\n",
    "from textblob import TextBlob, Word\n",
    "from time import time\n",
    "from tqdm import notebook\n",
    "from transformers import BertTokenizer, TFBertModel"
   ]
  },
  {
   "cell_type": "code",
   "execution_count": null,
   "metadata": {
    "colab": {
     "base_uri": "https://localhost:8080/"
    },
    "executionInfo": {
     "elapsed": 2455,
     "status": "ok",
     "timestamp": 1656107347481,
     "user": {
      "displayName": "Elena Shulga",
      "userId": "03246642174840672951"
     },
     "user_tz": -180
    },
    "id": "gUAIGMXyOAK7",
    "outputId": "fd0ad4fc-ccf0-46fc-912f-fe6bec3319bc"
   },
   "outputs": [],
   "source": [
    "RND_STATE = 125\n",
    "drive.mount('/content/drive')\n",
    "nltk.download('stopwords')\n",
    "nltk.download('punkt')\n",
    "nltk.download('wordnet')\n",
    "nltk.download('omw-1.4')\n",
    "nltk.download('averaged_perceptron_tagger')"
   ]
  },
  {
   "cell_type": "code",
   "execution_count": null,
   "metadata": {
    "colab": {
     "base_uri": "https://localhost:8080/"
    },
    "executionInfo": {
     "elapsed": 19745,
     "status": "ok",
     "timestamp": 1656106843681,
     "user": {
      "displayName": "Elena Shulga",
      "userId": "03246642174840672951"
     },
     "user_tz": -180
    },
    "id": "2QWR9mtqWyo8",
    "outputId": "9326af6e-abd4-48a5-8f32-bdc2aca7af6a"
   },
   "outputs": [],
   "source": [
    "!rm -r /opt/conda/lib/python3.6/site-packages/lightgbm\n",
    "!git clone --recursive https://github.com/Microsoft/LightGBM"
   ]
  },
  {
   "cell_type": "code",
   "execution_count": null,
   "metadata": {
    "colab": {
     "base_uri": "https://localhost:8080/"
    },
    "executionInfo": {
     "elapsed": 3733,
     "status": "ok",
     "timestamp": 1656106900554,
     "user": {
      "displayName": "Elena Shulga",
      "userId": "03246642174840672951"
     },
     "user_tz": -180
    },
    "id": "RdFagkQBqcAE",
    "outputId": "c36884c8-ddde-448e-86cf-3e723da0817c"
   },
   "outputs": [],
   "source": [
    "!apt-get install -y libboost-all-dev\n",
    "#Note: If you running this script directly from terminal make sure to remove \"!\""
   ]
  },
  {
   "cell_type": "code",
   "execution_count": null,
   "metadata": {
    "colab": {
     "base_uri": "https://localhost:8080/"
    },
    "executionInfo": {
     "elapsed": 5139,
     "status": "ok",
     "timestamp": 1656106980802,
     "user": {
      "displayName": "Elena Shulga",
      "userId": "03246642174840672951"
     },
     "user_tz": -180
    },
    "id": "rjyLraH6qmMr",
    "outputId": "0d6e650f-24d7-4c73-fdd2-9a5a3ef47342"
   },
   "outputs": [],
   "source": [
    "!apt-get update --fix-missing\n",
    "#Note: If you running this script directly from terminal make sure to remove \"!\""
   ]
  },
  {
   "cell_type": "code",
   "execution_count": null,
   "metadata": {
    "colab": {
     "base_uri": "https://localhost:8080/"
    },
    "executionInfo": {
     "elapsed": 319,
     "status": "ok",
     "timestamp": 1656107344237,
     "user": {
      "displayName": "Elena Shulga",
      "userId": "03246642174840672951"
     },
     "user_tz": -180
    },
    "id": "iyJRQccvrcIC",
    "outputId": "01d28637-27c2-43be-f34f-7318ebe21490"
   },
   "outputs": [],
   "source": [
    "%%bash\n",
    "cd LightGBM\n",
    "#rm -r build\n",
    "mkdir build\n",
    "cd build\n",
    "cmake -DUSE_GPU=1 -DOpenCL_LIBRARY=/usr/local/cuda/lib64/libOpenCL.so.1 -DOpenCL_INCLUDE_DIR=/usr/local/cuda/include/ ..\n",
    "make -j$(nproc)"
   ]
  },
  {
   "cell_type": "markdown",
   "metadata": {
    "id": "o1vbVQ3miieO"
   },
   "source": [
    "<div class=\"alert alert-success\">\n",
    "<h2> Комментарий ревьюера <a class=\"tocSkip\"> </h2>\n",
    "<hr>\n",
    "<b>Верно!👍:</b> Здорово, что все библиотеки подключены в отдельной ячейке в начале проекта, также и загрузка данных для инструментов, инициализация контстант, которые ты правильно обозначаешь в верхнем регистре, тоже собраны в начале, так код легче поддерживать.\n",
    "</div>\n"
   ]
  },
  {
   "cell_type": "code",
   "execution_count": null,
   "metadata": {
    "executionInfo": {
     "elapsed": 798,
     "status": "ok",
     "timestamp": 1656107348270,
     "user": {
      "displayName": "Elena Shulga",
      "userId": "03246642174840672951"
     },
     "user_tz": -180
    },
    "id": "7dBek2tJZob_"
   },
   "outputs": [],
   "source": [
    "data = pd.read_csv('https://code.s3.yandex.net/datasets/toxic_comments.csv')"
   ]
  },
  {
   "cell_type": "markdown",
   "metadata": {
    "id": "bnwCEwUViieQ"
   },
   "source": [
    "<div class=\"alert alert-warning\">\n",
    "    <h2> Комментарий ревьюера <a class=\"tocSkip\"> </h2>\n",
    "<hr>    \n",
    "<b>Совет💡:</b> Совершенно ясно, что для написания данного проекта тобой использовался Google Colab, хорошо. На платформе Практикума реализацию BERT проверить тяжело, поэтому отлаживать проект я буду локально.\n",
    "        \n",
    "Файла по данному пути у меня нет. Есть лайфхак такого плана: можешь грузить датасет по ссылке, взяв её из гиперссылки для скачивания в описании проекта на платформе. Это касается практически всех проектов. Нажимаешь на гиперссылку правой клавишей мыши и выбираешь «копировать адрес ссылки» в контекстном меню. Адрес этого датасета: <code>https://code.s3.yandex.net/datasets/toxic_comments.csv</code>. Тогда проект должен работать независимо от доступа к директории с файлом.\n",
    "</div></div>"
   ]
  },
  {
   "cell_type": "markdown",
   "metadata": {
    "id": "fou5K36biieQ"
   },
   "source": [
    "<div class=\"alert alert-info\">\n",
    "    <h2> Комментарий студента <a class=\"tocSkip\"> </a></h2>\n",
    "<hr>    \n",
    "        Я не нашла способа передать сюда файлы...<code>toxic_comments.csv</code> из условия будет виден. А как быть с файлами BERT?(\n",
    "Пока следую твоему совету.        \n",
    "</div></div>"
   ]
  },
  {
   "cell_type": "markdown",
   "metadata": {
    "id": "PkS88KIoVrr0"
   },
   "source": [
    "<div class=\"alert alert-warning\">\n",
    "    <h2> Комментарий ревьюера v2<a class=\"tocSkip\"> </h2>\n",
    "<hr>    \n",
    "<b>Совет💡:</b> Можно тоже попробовать выгрузить куда-то, чтобы можно было получить доступ к ним по ссылке в интернете. В принципе, это необязательно, так как на GitHub, например, по правилам практикума нельзя выкладывать сами датасеты (но проекты — можно), а в тетрадке всё и так будет запечатлено. Само BERT-решение корректно написанно тобой, не вижу смысла его отлаживать, поэтому не стал по этому поводу волноваться в первый раз.\n",
    "        \n",
    "Можешь прислать файлы мне в личку в Slack или ссылку на них, например, в Яндекс.Диске, как вариант.\n",
    "</div></div>"
   ]
  },
  {
   "cell_type": "markdown",
   "metadata": {
    "id": "-x1KJJH7XlyC"
   },
   "source": [
    "<div class=\"alert alert-info\">\n",
    "    <h2> Комментарий студента v2<a class=\"tocSkip\"> </a></h2>\n",
    "<hr>    \n",
    "Хорошо)\n",
    "</div></div>"
   ]
  },
  {
   "cell_type": "code",
   "execution_count": null,
   "metadata": {
    "executionInfo": {
     "elapsed": 22,
     "status": "ok",
     "timestamp": 1656107348273,
     "user": {
      "displayName": "Elena Shulga",
      "userId": "03246642174840672951"
     },
     "user_tz": -180
    },
    "id": "jRLu8f9oZocC"
   },
   "outputs": [],
   "source": [
    "# data.query('toxic == 1')"
   ]
  },
  {
   "cell_type": "markdown",
   "metadata": {
    "id": "yAlpXmBQiieR"
   },
   "source": [
    "Просто стало интересно посмотреть на невоспитанные комментарии"
   ]
  },
  {
   "cell_type": "markdown",
   "metadata": {
    "id": "FRSO8uCGVrr2"
   },
   "source": [
    "<div class=\"alert alert-success\">\n",
    "<h2> Комментарий ревьюера v2<a class=\"tocSkip\"> </h2>\n",
    "<hr>\n",
    "<b>Верно!👍:</b> Тоже дело :) Можно так и написать, мол, посмотрим, какие комментарии определены как негативные :) Комментируй свои наблюдения/действия, чтобы не возникало дальнейших вопросов, хотябы парой слов буквально. Из одного и того же наблюдения разные люди сделают разные выводы, даже если они специалисты:\n",
    "    \n",
    "![image.png](attachment:image.png)\n",
    "</div>\n"
   ]
  },
  {
   "cell_type": "markdown",
   "metadata": {
    "id": "eOeXg4NCX-IC"
   },
   "source": [
    "<div class=\"alert alert-info\">\n",
    "    <h2> Комментарий студента v2<a class=\"tocSkip\"> </a></h2>\n",
    "<hr>    \n",
    "Класс!🌝\n",
    "</div></div>"
   ]
  },
  {
   "cell_type": "markdown",
   "metadata": {
    "id": "Hi6h5KLXiieS"
   },
   "source": [
    "<div class=\"alert alert-warning\">\n",
    "    <h2> Комментарий ревьюера <a class=\"tocSkip\"> </h2>\n",
    "<hr>    \n",
    "<b>Совет💡:</b> Если что-то визуализируем, значит делаем какие-то выводы, хорошо бы добавить какие-то промежуточные комментарии. Если не вникать в код, то сейчас мы просто видим невоспитанную таблицу с оскорблениями :)\n",
    "</div></div>"
   ]
  },
  {
   "cell_type": "markdown",
   "metadata": {
    "id": "5z_2IBEpiieS"
   },
   "source": [
    "<div class=\"alert alert-warning\">\n",
    "    <h2> Комментарий ревьюера <a class=\"tocSkip\"> </h2>\n",
    "<hr>    \n",
    "<b>Совет💡:</b> Почему ты используешь <code>display</code> в этой ячейке, но не используешь его далее? Он всегда неявно применяется для последней строки в ячейке, так что вызывать его тут принудительно нет смысла :)\n",
    "</div></div>"
   ]
  },
  {
   "cell_type": "markdown",
   "metadata": {
    "id": "tJkIONdfiieT"
   },
   "source": [
    "<div class=\"alert alert-info\">\n",
    "    <h2> Комментарий студента <a class=\"tocSkip\"> </a></h2>\n",
    "<hr>    \n",
    "        Спасибо!Учла     \n",
    "</div></div>"
   ]
  },
  {
   "cell_type": "markdown",
   "metadata": {
    "id": "NHrHyabIVrr3"
   },
   "source": [
    "<div class=\"alert alert-success\">\n",
    "<h2> Комментарий ревьюера v2<a class=\"tocSkip\"> </h2>\n",
    "<hr>\n",
    "<b>Верно!👍:</b> Молодец! :)\n",
    "</div>\n"
   ]
  },
  {
   "cell_type": "code",
   "execution_count": null,
   "metadata": {
    "colab": {
     "base_uri": "https://localhost:8080/",
     "height": 394
    },
    "executionInfo": {
     "elapsed": 26,
     "status": "ok",
     "timestamp": 1656107348752,
     "user": {
      "displayName": "Elena Shulga",
      "userId": "03246642174840672951"
     },
     "user_tz": -180
    },
    "id": "iabOb14zz30y",
    "outputId": "a87434a2-792c-40f2-ff0c-300546c7d2ec"
   },
   "outputs": [],
   "source": [
    "data.describe(include='all')"
   ]
  },
  {
   "cell_type": "markdown",
   "metadata": {
    "id": "OAOELwv2iieU"
   },
   "source": [
    "Видно, что комментарии не повторяются. Нет пропусков"
   ]
  },
  {
   "cell_type": "markdown",
   "metadata": {
    "id": "PkL5n0Y5iieU"
   },
   "source": [
    "<div class=\"alert alert-warning\">\n",
    "    <h2> Комментарий ревьюера <a class=\"tocSkip\"> </h2>\n",
    "<hr>    \n",
    "<b>Совет💡:</b> Для методы <code>describe</code> можно передать аргумент <code>include='all'</code>, так мы сможем увидеть не только описательные статистики для численных признаков, но и много другой информации по остальным признакам.\n",
    "        \n",
    "В таком случае, можно будет сделать ещё и важный вывод о самих текстах комментариев, попробуй.\n",
    "</div></div>"
   ]
  },
  {
   "cell_type": "markdown",
   "metadata": {
    "id": "Di6_lSXFiieU"
   },
   "source": [
    "<div class=\"alert alert-info\">\n",
    "    <h2> Комментарий студента <a class=\"tocSkip\"> </a></h2>\n",
    "<hr>    \n",
    "        Спасибо!Учла     \n",
    "</div></div>"
   ]
  },
  {
   "cell_type": "markdown",
   "metadata": {
    "id": "NlhJGxS-Vrr5"
   },
   "source": [
    "<div class=\"alert alert-success\">\n",
    "<h2> Комментарий ревьюера v2<a class=\"tocSkip\"> </h2>\n",
    "<hr>\n",
    "<b>Верно!👍:</b> Хорошо :)\n",
    "</div>\n"
   ]
  },
  {
   "cell_type": "markdown",
   "metadata": {
    "id": "8kDoe-kLZWgN"
   },
   "source": [
    "Сократим на треть нашу выборку, облегчив расчеты"
   ]
  },
  {
   "cell_type": "code",
   "execution_count": null,
   "metadata": {
    "executionInfo": {
     "elapsed": 24,
     "status": "ok",
     "timestamp": 1656107348754,
     "user": {
      "displayName": "Elena Shulga",
      "userId": "03246642174840672951"
     },
     "user_tz": -180
    },
    "id": "UycgMIyRoFhU"
   },
   "outputs": [],
   "source": [
    "#data = data.sample(n=5000)"
   ]
  },
  {
   "cell_type": "markdown",
   "metadata": {
    "id": "rsqgXcTUiieX"
   },
   "source": [
    "<div class=\"alert alert-warning\">\n",
    "    <h2> Комментарий ревьюера <a class=\"tocSkip\"> </h2>\n",
    "<hr>    \n",
    "<b>Совет💡:</b>\n",
    "        \n",
    "```python\n",
    "        # сократим на треть нащу выборку, облегчив расчеты\n",
    "        data = data[0:10000]\n",
    "```\n",
    "\n",
    "В такой ситуации лучше брать случайные примеры из выборки в нужном количестве, с помощью метода <a href='https://pandas.pydata.org/docs/reference/api/pandas.DataFrame.sample.html'><code>sample</code></a>. Так как в данные в DataFrame могут быть упорядоченны в какой-то зависимости, тогда наша выборка рискует быть специфичной.\n",
    "</div></div>"
   ]
  },
  {
   "cell_type": "markdown",
   "metadata": {
    "id": "2tgila64c63Y"
   },
   "source": [
    "Найдем соотношение классов, при дисбалансе нужно это учитывать"
   ]
  },
  {
   "cell_type": "code",
   "execution_count": null,
   "metadata": {
    "colab": {
     "base_uri": "https://localhost:8080/"
    },
    "executionInfo": {
     "elapsed": 35,
     "status": "ok",
     "timestamp": 1656107348766,
     "user": {
      "displayName": "Elena Shulga",
      "userId": "03246642174840672951"
     },
     "user_tz": -180
    },
    "id": "DZQ5n72Fh1_D",
    "outputId": "ab9d95ab-6832-41a6-9e93-40f530c1f5c0"
   },
   "outputs": [],
   "source": [
    "class_weights = class_weight.compute_class_weight(\n",
    "                                        class_weight = \"balanced\",\n",
    "                                        classes = np.unique(data['toxic']),\n",
    "                                        y = data['toxic']                                                    \n",
    "                                    )\n",
    "class_weights = dict(zip(np.unique(data['toxic']), class_weights))\n",
    "class_weights"
   ]
  },
  {
   "cell_type": "markdown",
   "metadata": {
    "id": "naK7aGnJiieV"
   },
   "source": [
    "<div class=\"alert alert-warning\">\n",
    "    <h2> Комментарий ревьюера <a class=\"tocSkip\"> </h2>\n",
    "<hr>    \n",
    "<b>Совет💡:</b> Комментарии такого рода, лучше писать в текстовых ячейках в тексте самого проекта, комментарии в ячейках с кодом лучше писать касательно логики работы кода, каких-то технических моментов, связанных с ним.\n",
    "</div></div>"
   ]
  },
  {
   "cell_type": "markdown",
   "metadata": {
    "id": "dzTv8fX_iieW"
   },
   "source": [
    "<div class=\"alert alert-info\">\n",
    "    <h2> Комментарий студента <a class=\"tocSkip\"> </a></h2>\n",
    "<hr>    \n",
    "        Не поняла, к каким комментариям совет( \n",
    "</div></div>"
   ]
  },
  {
   "cell_type": "markdown",
   "metadata": {
    "id": "QKauLWmaVrr8"
   },
   "source": [
    "<div class=\"alert alert-warning\">\n",
    "    <h2> Комментарий ревьюера v2<a class=\"tocSkip\"> </h2>\n",
    "<hr>    \n",
    "<b>Совет💡:</b>\n",
    "        \n",
    "```python\n",
    "        # Найдем соотношение классов\n",
    "        # сократим на треть нащу выборку, облегчив расчеты\n",
    "```\n",
    "        \n",
    "Комментарии, поясняющие действия в логике всего проекта, размещенные внутри ячеек с кодом. В код коллеги/руководитель/специалисты заказчика не всегда будут смотреть, мало кто любит разбираться в чужом коде (я, естественно, внимательно это делаю, как и коллеги/руководитель в рамках код-ревью, чтобы дать качественную обратную связь, и знакомлюсь в т.ч. с этими комментариями в любом случае), обычно все ожидают, что твой код корректный, обращаясь к нему уже в случае каких-то проблем. Поэтому внутри лучше писать комментарии, которые помогут разобраться в самом коде, если к нему требуются пояснения, так взаимодействие будет быстрее и эффективнее.\n",
    "</div></div>"
   ]
  },
  {
   "cell_type": "markdown",
   "metadata": {
    "id": "_02tHqaPZEk5"
   },
   "source": [
    "<div class=\"alert alert-info\">\n",
    "    <h2> Комментарий студента v2<a class=\"tocSkip\"> </a></h2>\n",
    "<hr>    \n",
    "Теперь поняла!Исправляюсь)Хотя,казалось бы,так удобнее\n",
    "</div></div>"
   ]
  },
  {
   "cell_type": "markdown",
   "metadata": {
    "id": "eSnx44Ma1KFG"
   },
   "source": [
    "Виден сильный дисбаланс классов, будем добавлять параметр class_weight"
   ]
  },
  {
   "cell_type": "markdown",
   "metadata": {
    "id": "mMYJQZfoiieW"
   },
   "source": [
    "<div class=\"alert alert-success\">\n",
    "<h2> Комментарий ревьюера <a class=\"tocSkip\"> </h2>\n",
    "<hr>\n",
    "<b>Верно!👍:</b> Это важное наблюдение, молодец, что обращашь на этот момент внимание. Всегда стоит помнить о балансе классов в задачах классификации, частным случаем которой является и этот проект.\n",
    "</div>\n"
   ]
  },
  {
   "cell_type": "markdown",
   "metadata": {
    "id": "_SSHkK3iiieY"
   },
   "source": [
    "<div class=\"alert alert-info\">\n",
    "    <h2> Комментарий студента <a class=\"tocSkip\"> </a></h2>\n",
    "<hr>    \n",
    "        Да, метод <code>sample</code> я и использую для BERTa...исправила и здесь\n",
    "</div></div>"
   ]
  },
  {
   "cell_type": "markdown",
   "metadata": {
    "id": "9zrFwlkTVrr-"
   },
   "source": [
    "<div class=\"alert alert-success\">\n",
    "<h2> Комментарий ревьюера v2<a class=\"tocSkip\"> </h2>\n",
    "<hr>\n",
    "<b>Верно!👍:</b> Да, так будет лучше :)\n",
    "</div>\n"
   ]
  },
  {
   "cell_type": "code",
   "execution_count": null,
   "metadata": {
    "executionInfo": {
     "elapsed": 30,
     "status": "ok",
     "timestamp": 1656107348767,
     "user": {
      "displayName": "Elena Shulga",
      "userId": "03246642174840672951"
     },
     "user_tz": -180
    },
    "id": "-Y9qDy8TLrDe"
   },
   "outputs": [],
   "source": [
    "# избавимся от стоп-слов\n",
    "stop_words = set(stopwords.words('english')) "
   ]
  },
  {
   "cell_type": "markdown",
   "metadata": {
    "id": "H1vWeboYiieZ"
   },
   "source": [
    "<div class=\"alert alert-warning\">\n",
    "    <h2> Комментарий ревьюера <a class=\"tocSkip\"> </h2>\n",
    "<hr>    \n",
    "<b>Совет💡:</b> Отлично, стоп-слова будут удалены при векторизации. Вообще в данном случае, если мы используем <code>TF-IDF</code>-векторизатор, из-за их частой встречаемости во всех текстах (IDF, Inverse document frequency), будет мала, поэтому «важность» таких слов будет низкой для модели. Однако, если мы их сразу исключим, то данные будут меньшего объёма, а вычисления станут проще.\n",
    "</div></div>"
   ]
  },
  {
   "cell_type": "markdown",
   "metadata": {
    "id": "JDEbkI6CiieZ"
   },
   "source": [
    "<div class=\"alert alert-info\">\n",
    "    <h2> Комментарий студента <a class=\"tocSkip\"> </a></h2>\n",
    "<hr>    \n",
    "        Спасибо!Буду знать\n",
    "</div></div>"
   ]
  },
  {
   "cell_type": "code",
   "execution_count": null,
   "metadata": {
    "executionInfo": {
     "elapsed": 30,
     "status": "ok",
     "timestamp": 1656107348768,
     "user": {
      "displayName": "Elena Shulga",
      "userId": "03246642174840672951"
     },
     "user_tz": -180
    },
    "id": "9w94bnXzl04C"
   },
   "outputs": [],
   "source": [
    "# Передадим POS-теги для различных частей речи\n",
    "def get_wordnet_pos(word):\n",
    "    tag = nltk.pos_tag([word])[0][1][0].upper()\n",
    "    tag_dict = {\"J\": wordnet.ADJ,\n",
    "                \"N\": wordnet.NOUN,\n",
    "                \"V\": wordnet.VERB,\n",
    "                \"R\": wordnet.ADV\n",
    "                }\n",
    "    return tag_dict.get(tag, wordnet.NOUN)\n",
    "\n",
    "lemmatizer = WordNetLemmatizer()    "
   ]
  },
  {
   "cell_type": "code",
   "execution_count": null,
   "metadata": {
    "executionInfo": {
     "elapsed": 30,
     "status": "ok",
     "timestamp": 1656107348769,
     "user": {
      "displayName": "Elena Shulga",
      "userId": "03246642174840672951"
     },
     "user_tz": -180
    },
    "id": "m8i6IzQnoQpA"
   },
   "outputs": [],
   "source": [
    "# лемматизируем\n",
    "def text_blob(text):\n",
    "    text = TextBlob(text)\n",
    "    return \" \".join([lemmatizer.lemmatize(w, get_wordnet_pos(w)) for w in text.words])  \n",
    "\n",
    "# оставим только слова, приведя их в нижний регистр\n",
    "def clear_text(text):\n",
    "    return \" \".join(re.sub(r'[^a-z\\' ]', ' ', text).split())  "
   ]
  },
  {
   "cell_type": "markdown",
   "metadata": {
    "id": "zranbnn6iiea"
   },
   "source": [
    "<div class=\"alert alert-block alert-danger\">\n",
    "<s><h2> Комментарий ревьюера <a class=\"tocSkip\"></h2>\n",
    "<hr>  \n",
    "<b>Обрати внимание🤔:</b>  Нарушены стилистические правила оформления кода. Сейчас в отступе всего два пробела, вместо четырёх необходимых (Colab так любит делать), из-за чего первое слово в строке с неправильным отступом выделено красным шрифтом сейчас.\n",
    "</s></div></div>"
   ]
  },
  {
   "cell_type": "markdown",
   "metadata": {
    "id": "TTgpPvSaiiea"
   },
   "source": [
    "<div class=\"alert alert-info\">\n",
    "    <h2> Комментарий студента <a class=\"tocSkip\"> </a></h2>\n",
    "<hr>    \n",
    "       Поправила\n",
    "</div></div>"
   ]
  },
  {
   "cell_type": "markdown",
   "metadata": {
    "id": "kBJfddgDiieb"
   },
   "source": [
    "<div class=\"alert alert-block alert-danger\">\n",
    "<s><h2> Комментарий ревьюера <a class=\"tocSkip\"></h2>\n",
    "<hr>  \n",
    "<b>Обрати внимание🤔:</b>  Кажется, лемматизация не очень корректно отработала с глаголами в 159554 ниже <code>going</code> так и остался <code>going</code>. <a href='https://textblob.readthedocs.io/en/dev/quickstart.html#part-of-speech-tagging'>Похоже</a>, что глаголам надо в такой конструкции передавать POS-тег.</s>\n",
    "</div></div>"
   ]
  },
  {
   "cell_type": "markdown",
   "metadata": {
    "id": "yAydNjfwBJMX"
   },
   "source": [
    "<div class=\"alert alert-info\">\n",
    "    <h2> Комментарий студента <a class=\"tocSkip\"> </a></h2>\n",
    "<hr>    \n",
    "        Добавила. Пришлось уменьшить выборку, т.к. с полной отрабатывало долго, около 25 минут.\n",
    "</div></div>"
   ]
  },
  {
   "cell_type": "markdown",
   "metadata": {
    "id": "iEMgQPL3VrsC"
   },
   "source": [
    "<div class=\"alert alert-warning\">\n",
    "    <h2> Комментарий ревьюера v2<a class=\"tocSkip\"> </h2>\n",
    "<hr>    \n",
    "<b>Совет💡:</b> Сейчас всё хорошо. Хочу обратить твоё внимание, что TF-IDF векторизация чувствительна к объёму текста, который мы предоставим векторизатору для обучения. Чем больше будет корпус, тем, как правило, качественнее мы получим представление, используя его. Уменьшая объём выборки, мы теряем потенциальное качество. Для BERT-моделей это выражено в меньшей степени.\n",
    "        \n",
    "25 минут это ещё очень немного. В работе с текстами, аудио, графикой, довольно часто приходится долго ждать, даже с большими мощностями.\n",
    "</div></div>"
   ]
  },
  {
   "cell_type": "markdown",
   "metadata": {
    "id": "-wBEU9qKaBP0"
   },
   "source": [
    "<div class=\"alert alert-info\">\n",
    "    <h2> Комментарий студента v2<a class=\"tocSkip\"> </a></h2>\n",
    "<hr>    \n",
    "Попробую вернуть полную выборку\n",
    "</div></div>"
   ]
  },
  {
   "cell_type": "code",
   "execution_count": null,
   "metadata": {
    "colab": {
     "base_uri": "https://localhost:8080/"
    },
    "executionInfo": {
     "elapsed": 1233944,
     "status": "ok",
     "timestamp": 1656108582683,
     "user": {
      "displayName": "Elena Shulga",
      "userId": "03246642174840672951"
     },
     "user_tz": -180
    },
    "id": "YzXal4rfpIdq",
    "outputId": "7c42d158-4e60-4737-8a87-4f095b07da58"
   },
   "outputs": [],
   "source": [
    "%%time\n",
    "data['text'] = data['text'].apply(lambda x: text_blob(clear_text(x.lower())))"
   ]
  },
  {
   "cell_type": "code",
   "execution_count": null,
   "metadata": {
    "colab": {
     "base_uri": "https://localhost:8080/"
    },
    "executionInfo": {
     "elapsed": 61,
     "status": "ok",
     "timestamp": 1656108582684,
     "user": {
      "displayName": "Elena Shulga",
      "userId": "03246642174840672951"
     },
     "user_tz": -180
    },
    "id": "w6TzcGzbk-4c",
    "outputId": "21ec6cb2-4cb0-4690-95af-87405a6c1304"
   },
   "outputs": [],
   "source": [
    "print(data.query('toxic == 1'))\n"
   ]
  },
  {
   "cell_type": "code",
   "execution_count": null,
   "metadata": {
    "executionInfo": {
     "elapsed": 47,
     "status": "ok",
     "timestamp": 1656108582685,
     "user": {
      "displayName": "Elena Shulga",
      "userId": "03246642174840672951"
     },
     "user_tz": -180
    },
    "id": "xxCkhjPWN2NY"
   },
   "outputs": [],
   "source": [
    "# Разобьем выборку на обучающую и тестовую\n",
    "train, test = train_test_split(data, test_size=0.5, random_state=RND_STATE, shuffle=True)"
   ]
  },
  {
   "cell_type": "code",
   "execution_count": null,
   "metadata": {
    "executionInfo": {
     "elapsed": 50,
     "status": "ok",
     "timestamp": 1656108582689,
     "user": {
      "displayName": "Elena Shulga",
      "userId": "03246642174840672951"
     },
     "user_tz": -180
    },
    "id": "MOjC_avXORB3"
   },
   "outputs": [],
   "source": [
    "# разделим на признаки и цели\n",
    "target_train = train['toxic']\n",
    "features_train = train['text']\n",
    "\n",
    "target_test = test['toxic']\n",
    "features_test = test['text']"
   ]
  },
  {
   "cell_type": "markdown",
   "metadata": {
    "id": "BkxTyaH-iiee"
   },
   "source": [
    "<div class=\"alert alert-warning\">\n",
    "    <h2> Комментарий ревьюера <a class=\"tocSkip\"> </h2>\n",
    "<hr>    \n",
    "<b>Совет💡:</b> Верно, что векторизатор ты обучаешь именно на обучающих данных, а потому уже им трансформируешь все данные. Так не произойдёт утечки из тестовой выборки в обучающую.\n",
    "        \n",
    "Если же будет использоваться кросс-валидация (например внутри <code>GridSearchCV</code>), мы должны учесть некоторые особенности. Если мы обучили векторизатор или scaler <b>на всей</b> обучающей выборке, мы использовали всю информацию из неё. Внутри кросс-валидации же эта выборка будет делиться на части, и одна из частей будет использоваться для валидации (это будет происходить несколько раз, а для валидации каждый раз будет использоваться разный фрагмент, как на схеме ниже). Таким образом, преобразованная часть данных, используемая для обучения внутри кросс-валидации, содержит в себе информацию о той части, которая будет использоваться для валидации. \n",
    "        \n",
    "![image.png](attachment:image.png)\n",
    "        \n",
    "Это такая же история, как то, о чём мы говорим выше, только уже внутри кросс-валидации: информация о контрольных данных есть в данных для обучения, т.е. возникает <b>утечка</b>. Как быть? Правильной идеей будет проводить векторизацию (масштабирование и т.д.) внутри каждого шага кросс-валидации (извлекли первый кусочек для валидации — корректно трансформировали данные, обучили и валидировали модель на них, при этом не изменяя исходные данные, извлекли второй — снова корректно трансформируем данные, обучаем и валидируем модель на них и т.д.). Как это реализовать? Тут на помощь и приходит <a href='https://www.helenkapatsa.ru/paiplain/'>пайплайн</a>. Вот <a href='https://scikit-learn.org/stable/auto_examples/model_selection/grid_search_text_feature_extraction.html'>пример</a>. С помощью этого инструмента мы выстраиваем некоторую цепочку/конвеер/дословно трубопровод, выстраивая некоторую пошаговую последовательность работы с данными. Если обычно мы просто вызывали модель внутри, скажем, <code>GridSearchCV</code>, чтобы получить оценку модели с текущими параметрами на каком-то текущем разбиении кросс-валидации, то тут будет вызываться уже последовательность действий, причём всё, что происходит внутри пайплайна, останется в пайплайне: исходные данные не преобразуются, но в пайплайне модель получит уже преобразованные данные с предыдущих шагов.\n",
    "        \n",
    "Основная ошибка сейчас исправлена, момент с утечкой внутри кросс-валидации может быть сложным для понимания студентов, поэтому исправлять этот момент, вводя пайплайны, обычно жёстко не требуется. Но, если тебе удастся уловить этот момент и исправить, то это будет большим плюсом, работа будет выглядеть существенно лучше, так как, строго говоря, это всё-таки ошибка.\n",
    "        \n",
    "Разумеется, роль пайплайна не только в том, чтобы использовать его внутри инструментов, работающих с кросс-валидацией. Это в целом удобно. Например, разные модели предполагают разные способы преобразования данных, хочется сравнить разные способы преобразований на предмет эффективности в конкретной задаче, так это удобно делать, не надо создавать множестов вариантов исходного датасета, в которых будет легко запутаться, код будет компактнее.\n",
    "</div></div>"
   ]
  },
  {
   "cell_type": "markdown",
   "metadata": {
    "id": "rWRTFkACVrsG"
   },
   "source": [
    "<div class=\"alert alert-info\">\n",
    "    <h2> Комментарий студента <a class=\"tocSkip\"> </a></h2>\n",
    "<hr>    \n",
    "        Хорошо. Ниже я закомментировала старый подход и пробую модели с pipeline. Не смогла добиться необходимых результатов по скорингу. Подскажи, пожалуйста, как их улучшить?\n",
    "</div></div>"
   ]
  },
  {
   "cell_type": "markdown",
   "metadata": {
    "id": "6wT2MoD-VrsG"
   },
   "source": [
    "<div class=\"alert alert-success\">\n",
    "<h2> Комментарий ревьюера v2<a class=\"tocSkip\"> </h2>\n",
    "<hr>\n",
    "<b>Верно!👍:</b> Елена, ниже постарался подробно пояснить по ситуации.\n",
    "</div>\n"
   ]
  },
  {
   "cell_type": "code",
   "execution_count": null,
   "metadata": {
    "executionInfo": {
     "elapsed": 26,
     "status": "ok",
     "timestamp": 1656108588595,
     "user": {
      "displayName": "Elena Shulga",
      "userId": "03246642174840672951"
     },
     "user_tz": -180
    },
    "id": "i73EOv_OLFW8"
   },
   "outputs": [],
   "source": [
    "# # Сохраним данные по времени выполнения обучения и предсказания по всем моделям\n",
    "# model_name = []\n",
    "# fit_time = []\n",
    "# predict_time = []\n",
    "# f1 = []\n",
    "# models = []"
   ]
  },
  {
   "cell_type": "code",
   "execution_count": null,
   "metadata": {
    "executionInfo": {
     "elapsed": 21,
     "status": "ok",
     "timestamp": 1656108588596,
     "user": {
      "displayName": "Elena Shulga",
      "userId": "03246642174840672951"
     },
     "user_tz": -180
    },
    "id": "EzalCmhaLo-v"
   },
   "outputs": [],
   "source": [
    "# # функция обучения и расчета времени на обучение\n",
    "# def fix_fit_time(model, features_train, target_train, m_name):\n",
    "#     model_name.append(m_name)\n",
    "#     start_time = time.time()\n",
    "#     model.fit(features_train, target_train)\n",
    "#     fit_time.append(round((time.time() - start_time), 4))\n",
    "#     models.append(model)\n",
    "\n",
    "    \n",
    "# # функция предсказания, расчета времени на него и вывода f1\n",
    "# def fix_predict_time(model, features_x, target_x, m_name):\n",
    "#     start_time = time.time()\n",
    "#     predicted_x = model.predict(features_x)\n",
    "#     predict_time.append(round((time.time() - start_time), 4))    \n",
    "\n",
    "#     f1_ = f1_score(target_x, predicted_x).round(4)\n",
    "#     print(m_name)  \n",
    "#     print(\"f1:\", f1_)\n",
    "#     f1.append(f1_)    \n",
    "\n",
    "# # подбор лучшей модели\n",
    "# def grid_search_sv(model, parameters, features_train, target_train):\n",
    "#     grid_search=GridSearchCV(\n",
    "#                            estimator = model,  \n",
    "#                            param_grid = parameters,\n",
    "#                            scoring = 'f1',\n",
    "#                            cv = 5,\n",
    "#                            n_jobs=-1)\n",
    "#     grid_search.fit(features_train, target_train)\n",
    "#     return grid_search.best_estimator_          "
   ]
  },
  {
   "cell_type": "markdown",
   "metadata": {
    "id": "o77D9y0Ziief"
   },
   "source": [
    "<div class=\"alert alert-warning\">\n",
    "    <h2> Комментарий ревьюера <a class=\"tocSkip\"> </h2>\n",
    "<hr>    \n",
    "<b>Совет💡:</b> Очень здорово, что ты пишешь свои пользовательские функции, это отличная практика в работе, помогает избежать повторяемости кода. \n",
    "\n",
    "Я советую внимательно изучить документацию <code><a href='https://scikit-learn.org/stable/modules/generated/sklearn.model_selection.GridSearchCV.html'>GridSearchCV</a></code>, в особенности аттрибут <code>cv_results_</code>, он позволяет вернуть словарь, откуда можно по ключам получить всю эту информацию.\n",
    "        \n",
    "![image.png](attachment:image.png)\n",
    "        \n",
    "<hr>\n",
    "А <a href='https://stackoverflow.com/questions/52763325/how-to-obtain-only-the-name-of-a-models-object-in-scikitlearn'>так</a> из объекта-модели можно ловко «подтянуть» её имя :)\n",
    "</div></div>"
   ]
  },
  {
   "cell_type": "markdown",
   "metadata": {
    "id": "dAQpl0D5VrsI"
   },
   "source": [
    "<div class=\"alert alert-info\">\n",
    "    <h2> Комментарий студента <a class=\"tocSkip\"> </a></h2>\n",
    "<hr>    \n",
    "        Спасибо за подсказки, очень интересно\n",
    "</div></div>"
   ]
  },
  {
   "cell_type": "markdown",
   "metadata": {
    "id": "TgBELXLgZocA"
   },
   "source": [
    "## Обучение"
   ]
  },
  {
   "cell_type": "code",
   "execution_count": null,
   "metadata": {
    "executionInfo": {
     "elapsed": 20,
     "status": "ok",
     "timestamp": 1656108588597,
     "user": {
      "displayName": "Elena Shulga",
      "userId": "03246642174840672951"
     },
     "user_tz": -180
    },
    "id": "Uz-zAKcH4-2F"
   },
   "outputs": [],
   "source": [
    "# LogisticRegression\n",
    "# model = LogisticRegression(class_weight=class_weights, max_iter=1000)\n",
    "# fix_fit_time(model, tf_idf_train, target_train, 'LogisticRegression')"
   ]
  },
  {
   "cell_type": "code",
   "execution_count": null,
   "metadata": {
    "executionInfo": {
     "elapsed": 17,
     "status": "ok",
     "timestamp": 1656108588597,
     "user": {
      "displayName": "Elena Shulga",
      "userId": "03246642174840672951"
     },
     "user_tz": -180
    },
    "id": "3jvZnQQ1XQN8"
   },
   "outputs": [],
   "source": [
    "# fix_predict_time(model, tf_idf_train, target_train, 'LogisticRegression')"
   ]
  },
  {
   "cell_type": "code",
   "execution_count": null,
   "metadata": {
    "executionInfo": {
     "elapsed": 17,
     "status": "ok",
     "timestamp": 1656108588598,
     "user": {
      "displayName": "Elena Shulga",
      "userId": "03246642174840672951"
     },
     "user_tz": -180
    },
    "id": "T3ms2dSX2Q4g"
   },
   "outputs": [],
   "source": [
    "# # LogisticRegressionCV\n",
    "# parameters = [{'C':[0.001, 0.01, 0.1, 1, 10, 100]}]\n",
    "# model_grid_search = LogisticRegression(class_weight=class_weights, solver='lbfgs', max_iter=1000)\n",
    "\n",
    "# model = grid_search_sv(model_grid_search, parameters, tf_idf_train, target_train)\n",
    "# fix_fit_time(model, tf_idf_train, target_train, 'LogisticRegressionCV')"
   ]
  },
  {
   "cell_type": "code",
   "execution_count": null,
   "metadata": {
    "executionInfo": {
     "elapsed": 16,
     "status": "ok",
     "timestamp": 1656108588598,
     "user": {
      "displayName": "Elena Shulga",
      "userId": "03246642174840672951"
     },
     "user_tz": -180
    },
    "id": "62C7wxLN33nT"
   },
   "outputs": [],
   "source": [
    "# fix_predict_time(model, tf_idf_train, target_train, 'LogisticRegressionCV')"
   ]
  },
  {
   "cell_type": "code",
   "execution_count": null,
   "metadata": {
    "executionInfo": {
     "elapsed": 16,
     "status": "ok",
     "timestamp": 1656108588599,
     "user": {
      "displayName": "Elena Shulga",
      "userId": "03246642174840672951"
     },
     "user_tz": -180
    },
    "id": "MCNvZY1Vzcq7"
   },
   "outputs": [],
   "source": [
    "# # DecisionTreeClassifier\n",
    "# model = DecisionTreeClassifier(random_state=RND_STATE, class_weight=class_weights)\n",
    "# fix_fit_time(model, tf_idf_train, target_train, 'DecisionTreeClassifier')"
   ]
  },
  {
   "cell_type": "code",
   "execution_count": null,
   "metadata": {
    "executionInfo": {
     "elapsed": 16,
     "status": "ok",
     "timestamp": 1656108588599,
     "user": {
      "displayName": "Elena Shulga",
      "userId": "03246642174840672951"
     },
     "user_tz": -180
    },
    "id": "Xc-Q4VchzlG0"
   },
   "outputs": [],
   "source": [
    "# fix_predict_time(model, tf_idf_train, target_train, 'DecisionTreeClassifier')"
   ]
  },
  {
   "cell_type": "code",
   "execution_count": null,
   "metadata": {
    "executionInfo": {
     "elapsed": 16,
     "status": "ok",
     "timestamp": 1656108588600,
     "user": {
      "displayName": "Elena Shulga",
      "userId": "03246642174840672951"
     },
     "user_tz": -180
    },
    "id": "1Et6dyeqGEMD"
   },
   "outputs": [],
   "source": [
    "# # DecisionTreeClassifierCV\n",
    "# parameters = {'max_features': ['auto', 'sqrt', 'log2'],\n",
    "#               'ccp_alpha': [0.1, .01, .001],\n",
    "#               'max_depth' : [5, 6, 7, 8, 9],\n",
    "#               'criterion' :['gini', 'entropy']\n",
    "#              }\n",
    "# model_grid_search = DecisionTreeClassifier(random_state=RND_STATE, class_weight=class_weights)\n",
    "\n",
    "# model = grid_search_sv(model_grid_search, parameters, tf_idf_train, target_train)\n",
    "# fix_fit_time(model, tf_idf_train, target_train, 'DecisionTreeClassifierCV')"
   ]
  },
  {
   "cell_type": "code",
   "execution_count": null,
   "metadata": {
    "executionInfo": {
     "elapsed": 17,
     "status": "ok",
     "timestamp": 1656108588601,
     "user": {
      "displayName": "Elena Shulga",
      "userId": "03246642174840672951"
     },
     "user_tz": -180
    },
    "id": "RqFYULMs2FV3"
   },
   "outputs": [],
   "source": [
    "# fix_predict_time(model, tf_idf_train, target_train, 'DecisionTreeClassifierCV')"
   ]
  },
  {
   "cell_type": "code",
   "execution_count": null,
   "metadata": {
    "executionInfo": {
     "elapsed": 16,
     "status": "ok",
     "timestamp": 1656108588601,
     "user": {
      "displayName": "Elena Shulga",
      "userId": "03246642174840672951"
     },
     "user_tz": -180
    },
    "id": "9rHDAai73pPN"
   },
   "outputs": [],
   "source": [
    "# # LGBMClassifier\n",
    "# model = ltb.LGBMClassifier(random_state=RND_STATE, class_weight=class_weights)\n",
    "# fix_fit_time(model, tf_idf_train, target_train, 'LGBMClassifier')"
   ]
  },
  {
   "cell_type": "code",
   "execution_count": null,
   "metadata": {
    "executionInfo": {
     "elapsed": 16,
     "status": "ok",
     "timestamp": 1656108588602,
     "user": {
      "displayName": "Elena Shulga",
      "userId": "03246642174840672951"
     },
     "user_tz": -180
    },
    "id": "4pWbb8Ib-ddM"
   },
   "outputs": [],
   "source": [
    "# fix_predict_time(model, tf_idf_train, target_train, 'LGBMClassifier')"
   ]
  },
  {
   "cell_type": "code",
   "execution_count": null,
   "metadata": {
    "executionInfo": {
     "elapsed": 460,
     "status": "ok",
     "timestamp": 1656108589047,
     "user": {
      "displayName": "Elena Shulga",
      "userId": "03246642174840672951"
     },
     "user_tz": -180
    },
    "id": "SrOlA_7Kue07"
   },
   "outputs": [],
   "source": [
    "# print(model_name, fit_time, predict_time, f1)"
   ]
  },
  {
   "cell_type": "code",
   "execution_count": null,
   "metadata": {
    "executionInfo": {
     "elapsed": 47,
     "status": "ok",
     "timestamp": 1656108589048,
     "user": {
      "displayName": "Elena Shulga",
      "userId": "03246642174840672951"
     },
     "user_tz": -180
    },
    "id": "yZnvvg7uxx6P"
   },
   "outputs": [],
   "source": [
    "# Создаем списки этапов пайплайна и соответствующих моделей\n",
    "vectorizers = ['tfidfvectorizer']\n",
    "classifiers = ['logisticregression', #'decisiontreeclassifier', \n",
    "               'lgbmclassifier']"
   ]
  },
  {
   "cell_type": "code",
   "execution_count": null,
   "metadata": {
    "executionInfo": {
     "elapsed": 307,
     "status": "ok",
     "timestamp": 1656108882205,
     "user": {
      "displayName": "Elena Shulga",
      "userId": "03246642174840672951"
     },
     "user_tz": -180
    },
    "id": "g3G0EPy9kzib"
   },
   "outputs": [],
   "source": [
    "# Создаём словарь с набором всех используемых компонентов пайплайнов\n",
    "all_models = {\n",
    "              'tfidfvectorizer': TfidfVectorizer(),            \n",
    "              'logisticregression': LogisticRegression(class_weight=class_weights, solver='lbfgs', max_iter=1000),\n",
    "              # 'decisiontreeclassifier': DecisionTreeClassifier(class_weight=class_weights, random_state=RND_STATE), \n",
    "              'lgbmclassifier': ltb.LGBMClassifier(class_weight=class_weights, random_state=RND_STATE, device=\"gpu\")\n",
    "             }\n",
    "\n",
    "# Создаём словарь с наборами гиперпараметров всех компонентов\n",
    "all_params = {\n",
    "              'tfidfvectorizer':        {'tfidfvectorizer__ngram_range': [(1,1), (1,2)],\n",
    "                                         'tfidfvectorizer__use_idf': (True, False),\n",
    "                                         'tfidfvectorizer__norm': ('l1', 'l2'),\n",
    "                                         'tfidfvectorizer__stop_words': [None, stop_words]},             \n",
    "              'logisticregression':     {'logisticregression__C': [0.1, 1, 10],\n",
    "                                         'logisticregression__penalty': (\"l2\", \"none\")},\n",
    "              # 'decisiontreeclassifier': {'decisiontreeclassifier__max_depth': [5, 10, 15],\n",
    "              #                            'decisiontreeclassifier__min_samples_leaf': [1, 2]\n",
    "              #                           },              \n",
    "              'lgbmclassifier':         {'lgbmclassifier__n_estimators': [30, 300],\n",
    "                                         'lgbmclassifier__min_samples_leaf': [1, 2]\n",
    "                                        }\n",
    "             }             "
   ]
  },
  {
   "cell_type": "markdown",
   "metadata": {},
   "source": [
    "Здесь несколько пояснений:\n",
    "- Я закомментировала Дерево решений, т.к. оно не дало удовлетворительных результатов\n",
    "- В LGBMClassifier я подключила использование GPU (и в начале всего проекта добавила настройки), но сейчас я не могу проверить работоспособность этого кода, т.к. лимит использования GPU  в Colab у меня закончился уже на 2-х аккаунтах("
   ]
  },
  {
   "cell_type": "code",
   "execution_count": null,
   "metadata": {
    "colab": {
     "base_uri": "https://localhost:8080/"
    },
    "id": "7Q5kjzG-xksq",
    "outputId": "f328bf39-5b8d-48c1-8b29-f31a794a76c6",
    "scrolled": false
   },
   "outputs": [],
   "source": [
    "%%time\n",
    "# product - метод, позволяющий в одноуровневом цикле создать все возможные сочетания нескольких параметров\n",
    "# Создаем пустой датафрейм для сохранения результатов всех экспериментов и запускаем основной цикл, \n",
    "# на каждой итерации которого генерируем очередное сочетание всех этапов пайплайна, создаем словарь гиперпараметров для пайплайна, \n",
    "# создаем сам пайплайн, выполняем обучение и оценку качества с помощью кросс-валидации, записываем результаты обучения в лог.\n",
    "df_all_results = pd.DataFrame()\n",
    "\n",
    "for i, stages in enumerate(product(vectorizers, classifiers), 1):\n",
    "\n",
    "    vectorizer, classifier = stages\n",
    "\n",
    "    pipe = make_pipeline(all_models[vectorizer], all_models[classifier])\n",
    "    \n",
    "    current_params = {}\n",
    "    current_params.update(all_params[vectorizer])\n",
    "    current_params.update(all_params[classifier])\n",
    "    print(current_params)\n",
    "    \n",
    "    model = GridSearchCV(estimator=pipe, param_grid=current_params,\n",
    "                         scoring='f1', cv=3) #, n_jobs=-1)\n",
    "    model.fit(features_train, target_train)\n",
    "        \n",
    "    df_current_results = pd.DataFrame(data={'pipeline': i,\n",
    "                                            'vectorizer': vectorizer,  \n",
    "                                            'classifier': classifier,\n",
    "                                            'params': model.cv_results_['params'],\n",
    "                                            'score': model.cv_results_['mean_test_score'],\n",
    "                                            'fit_time': model.cv_results_['mean_fit_time'],\n",
    "                                            'best_estimator_': model.best_estimator_ })\n",
    " \n",
    "    df_all_results = df_all_results.append(df_current_results)"
   ]
  },
  {
   "cell_type": "code",
   "execution_count": null,
   "metadata": {
    "executionInfo": {
     "elapsed": 46,
     "status": "aborted",
     "timestamp": 1656108819265,
     "user": {
      "displayName": "Elena Shulga",
      "userId": "03246642174840672951"
     },
     "user_tz": -180
    },
    "id": "jSuZEAIZBrJ8"
   },
   "outputs": [],
   "source": [
    "df_all_results.sort_values(by='score', ascending=False, inplace=True)\n",
    "df_all_results.head(40)"
   ]
  },
  {
   "cell_type": "markdown",
   "metadata": {},
   "source": [
    "Здесь у меня после очень долгих расчетов выскочили удовлетворительные результаты около 0,77 для LogisticRegression, и варианты больше 0,75 для LGBMClassifier.\n",
    "\n",
    "Повторить этот подвиг выполнения кода я не решаюсь,т.к.помимо отсутствия GPU, мне в бесплатной версии Colab необходимо постоянно напоминать нажатием мыши работающей среде,что я здесь...это очень утомительно((\n",
    "\n",
    "Поэтому ниже я обращусь к лучшей сохраненной модели для теста."
   ]
  },
  {
   "cell_type": "markdown",
   "metadata": {
    "id": "-zVvOoQsiiel"
   },
   "source": [
    "<div class=\"alert alert-warning\">\n",
    "    <h2> Комментарий ревьюера <a class=\"tocSkip\"> </h2>\n",
    "<hr>    \n",
    "<b>Совет💡:</b> Очень не хватает твоих промежуточных комментариев в тексте работы.\n",
    "</div></div>"
   ]
  },
  {
   "cell_type": "markdown",
   "metadata": {
    "id": "jgq5O0sSVrsQ"
   },
   "source": [
    "<div class=\"alert alert-info\">\n",
    "    <h2> Комментарий студента <a class=\"tocSkip\"> </a></h2>\n",
    "<hr>    \n",
    "    Исправляюсь)<br>\n",
    "    В этой таблице мы видим, что лучшая модель LogisticRegression с параметрами 'C'=10, 'penalty'='l2' <br>   \n",
    "    Написание кода с помощью pipeline выглядит лаконично, прозрачно, помогает \"увидеть\" работу. Но у меня почему-то результаты ухудшились. Я надеюсь, Сергей, ты поможешь разобраться.\n",
    "</div></div>"
   ]
  },
  {
   "cell_type": "markdown",
   "metadata": {
    "id": "HhLcgVdmVrsQ"
   },
   "source": [
    "<div class=\"alert alert-warning\">\n",
    "    <h2> Комментарий ревьюера v2<a class=\"tocSkip\"> </h2>\n",
    "<hr>    \n",
    "<b>Совет💡:</b> Елена, на кросс-валидации результат действительно может немного ухудшиться и это нормально, зато он более «честный», так как нет утечек, полученная модель должна быть более жизнеспособна.\n",
    "        \n",
    "Плюс, что касается <code>TF-IDF</code>, качество его работы сильно зависит от объема корпуса, т.е. кол-ва текстов. С ним чем больше корпус, тем более качественное представление текстов в нём, в общем случае, мы получим в принципе.\n",
    "        \n",
    "Также заметь, что настраивали мы весь пайплайн, и векторизатор, и модель, что здорово. А потом используем параметры для модели, но обучаем её на выборках, векторизированных с параметрами векторизатора по умолчанию. Лучше сохранить прямо целиком лучший пайплайн, обучать его на обучающих данных, без их предварительного трансформирования, а потом получать предсказания на нетрансформированном тесте. Пайплайн сам преобразует данные и получит предсказания как это нужно, при этом для векторизации и предсказания будут использованы лучшие параметры.\n",
    "        \n",
    "Кстати, внутри пайплайна при векторизации, кажется, стоп-слова мы не убрали. С ними можно тоже поэксперементировать, перебрав параметры <code>[None, stop_words]</code>.\n",
    "</div></div>"
   ]
  },
  {
   "cell_type": "markdown",
   "metadata": {},
   "source": [
    "<div class=\"alert alert-info\">\n",
    "    <h2> Комментарий студента v2<a class=\"tocSkip\"> </a></h2>\n",
    "<hr>    \n",
    "    Хорошо    \n",
    "</div></div>"
   ]
  },
  {
   "cell_type": "markdown",
   "metadata": {
    "id": "25cHM2RTZocD"
   },
   "source": [
    "## Выводы"
   ]
  },
  {
   "cell_type": "code",
   "execution_count": null,
   "metadata": {
    "executionInfo": {
     "elapsed": 48,
     "status": "aborted",
     "timestamp": 1656108819268,
     "user": {
      "displayName": "Elena Shulga",
      "userId": "03246642174840672951"
     },
     "user_tz": -180
    },
    "id": "oCnHCLGbB7rs"
   },
   "outputs": [],
   "source": [
    "# # соберем полученные списки в датафрейм\n",
    "# model_name_df = pd.Series(model_name).to_frame(name='model_name')\n",
    "# fit_time_df = pd.Series(fit_time).to_frame(name='fit_time')\n",
    "# predict_time_df = pd.Series(predict_time).to_frame(name='predict_time')\n",
    "# f1_df = pd.Series(f1).to_frame(name='f1')\n",
    "# models_df = pd.Series(models).to_frame(name='models')\n",
    "\n",
    "# models_info = pd.concat([model_name_df, fit_time_df, predict_time_df, f1_df, models_df], axis=1)\n",
    "# models_info.set_index('model_name', inplace=True)"
   ]
  },
  {
   "cell_type": "code",
   "execution_count": null,
   "metadata": {
    "executionInfo": {
     "elapsed": 50,
     "status": "aborted",
     "timestamp": 1656108819270,
     "user": {
      "displayName": "Elena Shulga",
      "userId": "03246642174840672951"
     },
     "user_tz": -180
    },
    "id": "yWmImQ60CcCT",
    "scrolled": true
   },
   "outputs": [],
   "source": [
    "# # Сравним показатели всех отработанных моделей\n",
    "# display(models_info.sort_values(by=['f1']))"
   ]
  },
  {
   "cell_type": "code",
   "execution_count": null,
   "metadata": {
    "executionInfo": {
     "elapsed": 50,
     "status": "aborted",
     "timestamp": 1656108819271,
     "user": {
      "displayName": "Elena Shulga",
      "userId": "03246642174840672951"
     },
     "user_tz": -180
    },
    "id": "PfqPZA7zZ2cc",
    "scrolled": true
   },
   "outputs": [],
   "source": [
    "# # сравним модели на графике\n",
    "# models_info[['f1', 'fit_time']].sort_values(by='f1').plot.barh()\n",
    "# plt.title('Сравнение моделей')\n",
    "# plt.ylabel('Модель')\n",
    "# plt.xlabel('f1 обучающих выборок')\n",
    "# plt.show()"
   ]
  },
  {
   "cell_type": "markdown",
   "metadata": {
    "id": "LmjvpuSuiien"
   },
   "source": [
    "<div class=\"alert alert-block alert-danger\">\n",
    "<s><h2> Комментарий ревьюера <a class=\"tocSkip\"></h2>\n",
    "<hr>  \n",
    "<b>Обрати внимание🤔:</b>  Отличная идея с графиком, здорово, что он аннотирован, но сейчас очень тяжело по нему сравнить f1, потому что оно и время обучения имеют разный масштаб, очень разный. Лучше тут построить рядом два отдельных графика или сделать график с двумя осями, установив для осей соответствующий диапазон значений. <a href='https://cmdlinetips.com/2019/10/how-to-make-a-plot-with-two-different-y-axis-in-python-with-matplotlib/'>Тут есть пример по двум осям</a>.</s>\n",
    "</div></div>"
   ]
  },
  {
   "cell_type": "markdown",
   "metadata": {
    "id": "bqEJcJhRVrsU"
   },
   "source": [
    "<div class=\"alert alert-info\">\n",
    "    <h2> Комментарий студента <a class=\"tocSkip\"> </a></h2>\n",
    "<hr>    \n",
    "    Т.к.я в итоге нарисовала информативную таблицу, где использовала твой совет по GridSearchCV и его аттрибут cv_results_,\n",
    "    не вижу необходимости в графике. <br>Но спасибо за пример!\n",
    "</div></div>"
   ]
  },
  {
   "cell_type": "markdown",
   "metadata": {
    "id": "4moh7FSUVrsU"
   },
   "source": [
    "<div class=\"alert alert-success\">\n",
    "<h2> Комментарий ревьюера v2<a class=\"tocSkip\"> </h2>\n",
    "<hr>\n",
    "<b>Верно!👍:</b> Да, тогда можно и убрать, в принципе. Но с графиком тоже бы хорошо смотрелось. Заморачиваться сильно не будем на этом, уверен, что если захочешь, то ты разберёшься, акцентируем внимание на тематических моментах :)\n",
    "</div>\n"
   ]
  },
  {
   "cell_type": "markdown",
   "metadata": {
    "id": "4Xymrkk_FEKV"
   },
   "source": [
    "Получилось, что из всех моделей лучший результат у Логистической регрессии с подобранными гиперпараметрами. Предсказание чуть хуже, чем у дерева решений, но на обучение ушло заметно меньше времени. Плюс, дерево решений после подбора гиперпараметров стало давать недопустимые результаты."
   ]
  },
  {
   "cell_type": "markdown",
   "metadata": {
    "id": "BunUhmNIiieo"
   },
   "source": [
    "<div class=\"alert alert-block alert-danger\">\n",
    "<s><h2> Комментарий ревьюера <a class=\"tocSkip\"></h2>\n",
    "<hr>  \n",
    "<b>Обрати внимание🤔:</b>  Стоит уточнить о каких результатах мы сейчас говорим. Имеет ли смысл их сравнивать?</s>\n",
    "</div></div>"
   ]
  },
  {
   "cell_type": "code",
   "execution_count": null,
   "metadata": {
    "executionInfo": {
     "elapsed": 50,
     "status": "aborted",
     "timestamp": 1656108819271,
     "user": {
      "displayName": "Elena Shulga",
      "userId": "03246642174840672951"
     },
     "user_tz": -180
    },
    "id": "U2-tKd_DLKnf"
   },
   "outputs": [],
   "source": [
    "# Проверим лучшую модель на тестовой выборке\n",
    "model = df_all_results['best_estimator_'].iloc[df_all_results['score'].idxmax()]\n",
    "predicted = model.predict(features_test)\n",
    "f1 = f1_score(target_test, predicted).round(4)\n",
    "print(f1)"
   ]
  },
  {
   "attachments": {
    "image.png": {
     "image/png": "[encoded data removed]"
    }
   },
   "cell_type": "markdown",
   "metadata": {},
   "source": [
    "<div class=\"alert alert-success\">\n",
    "<h2> Комментарий ревьюера v3<a class=\"tocSkip\"> </h2>\n",
    "<hr>\n",
    "<b>Верно!👍:</b> Вообще тут код падает с ошибкой. Если мы извлекли pipeline, то ему надо давать исходные, нетрансформированные признаки, он сам их трасформирует с оптимальными параметрами векторизатора внутри него:\n",
    "    \n",
    "![image.png](attachment:image.png)\n",
    "    \n",
    "Смтори, какой результат получился :) Это довольно неплохой показатель. Молодец. Заметь, что качество чуть улучшилось, так как у модели было чуть больше данных: в процессе кросс-валидации она всегда недополучала кусочек, который использовался для валидации. Это также говорит о том, что мы получили ранее качественную и устойчивую модель. Супер :)\n",
    "</div>\n"
   ]
  },
  {
   "cell_type": "markdown",
   "metadata": {
    "id": "oG1Loy0riiep"
   },
   "source": [
    "<div class=\"alert alert-success\">\n",
    "<h2> Комментарий ревьюера <a class=\"tocSkip\"> </h2>\n",
    "<hr>\n",
    "<b>Верно!👍:</b> Хороший результат, соответствует требованиям задания.\n",
    "</div>\n"
   ]
  },
  {
   "cell_type": "markdown",
   "metadata": {
    "id": "4It5tq8wNeNr"
   },
   "source": [
    "Результат достаточно хорошо, но попробуем построить модель с эмбеддингом BERT"
   ]
  },
  {
   "cell_type": "markdown",
   "metadata": {
    "id": "CzEBxHbGiieq"
   },
   "source": [
    "<div class=\"alert alert-success\">\n",
    "<h2> Комментарий ревьюера <a class=\"tocSkip\"> </h2>\n",
    "<hr>\n",
    "<b>Верно!👍:</b> Хорошо, посмотрим, что у нас получится.\n",
    "</div>\n"
   ]
  },
  {
   "cell_type": "code",
   "execution_count": null,
   "metadata": {
    "executionInfo": {
     "elapsed": 51,
     "status": "aborted",
     "timestamp": 1656108819272,
     "user": {
      "displayName": "Elena Shulga",
      "userId": "03246642174840672951"
     },
     "user_tz": -180
    },
    "id": "v0yqqHGZVrsX"
   },
   "outputs": [],
   "source": [
    "# Куратор по проекту Злата Смольянинова посоветовала прописать таким образом путь для автоматического скачивания модели BERT\n",
    "# если я правильно понимаю, теперь не нужно указывать относительные пути\n",
    "!wget http://files.deeppavlov.ai/deeppavlov_data/bert/conversational_cased_L-12_H-768_A-12_pt.tar.gz\n",
    "!tar -xvzf conversational_cased_L-12_H-768_A-12_pt.tar.gz"
   ]
  },
  {
   "cell_type": "code",
   "execution_count": null,
   "metadata": {
    "executionInfo": {
     "elapsed": 51,
     "status": "aborted",
     "timestamp": 1656108819273,
     "user": {
      "displayName": "Elena Shulga",
      "userId": "03246642174840672951"
     },
     "user_tz": -180
    },
    "id": "ykNyTEvYN4Ue"
   },
   "outputs": [],
   "source": [
    "# инициализируем токенизатор\n",
    "tokenizer = transformers.BertTokenizer(\n",
    "    vocab_file='vocab.txt')\n",
    "\n",
    "print(tokenizer)"
   ]
  },
  {
   "cell_type": "code",
   "execution_count": null,
   "metadata": {
    "executionInfo": {
     "elapsed": 52,
     "status": "aborted",
     "timestamp": 1656108819274,
     "user": {
      "displayName": "Elena Shulga",
      "userId": "03246642174840672951"
     },
     "user_tz": -180
    },
    "id": "goALjtnBKhhF"
   },
   "outputs": [],
   "source": [
    "# инициализируем конфигурацию BertConfig \n",
    "config = transformers.BertConfig.from_json_file('bert_config.json')"
   ]
  },
  {
   "cell_type": "code",
   "execution_count": null,
   "metadata": {
    "executionInfo": {
     "elapsed": 52,
     "status": "aborted",
     "timestamp": 1656108819274,
     "user": {
      "displayName": "Elena Shulga",
      "userId": "03246642174840672951"
     },
     "user_tz": -180
    },
    "id": "jkskD02UwmVx"
   },
   "outputs": [],
   "source": [
    "# инициализируем саму модель класса BertModel. Передадим ей файл с предобученной моделью и конфигурацией\n",
    "model = transformers.BertModel.from_pretrained('pytorch_model.bin', config=config)"
   ]
  },
  {
   "cell_type": "code",
   "execution_count": null,
   "metadata": {
    "executionInfo": {
     "elapsed": 53,
     "status": "aborted",
     "timestamp": 1656108819275,
     "user": {
      "displayName": "Elena Shulga",
      "userId": "03246642174840672951"
     },
     "user_tz": -180
    },
    "id": "thH2zkfD3EFy"
   },
   "outputs": [],
   "source": [
    "# сократим на треть нашу выборку, облегчив расчеты\n",
    "# data = pd.read_csv('/content/drive/My Drive/Colab Notebooks/Проект Викишоп/toxic_comments.csv')\n",
    "data = data.sample(n=1000)\n",
    "\n",
    "# Разобьем выборку на обучающую и тестовую\n",
    "train, test = train_test_split(data, test_size=0.5, random_state=RND_STATE, shuffle=True)\n",
    "\n",
    "# разделим на признаки и цели\n",
    "target_train2 = train['toxic']\n",
    "features_train2 = train['text']\n",
    "\n",
    "target_test2 = test['toxic']\n",
    "features_test2 = test['text']"
   ]
  },
  {
   "cell_type": "code",
   "execution_count": null,
   "metadata": {
    "executionInfo": {
     "elapsed": 52,
     "status": "aborted",
     "timestamp": 1656108819275,
     "user": {
      "displayName": "Elena Shulga",
      "userId": "03246642174840672951"
     },
     "user_tz": -180
    },
    "id": "ZL7zS6QvKNjT"
   },
   "outputs": [],
   "source": [
    "def get_embeddings(x_train):\n",
    "    # преобразуем тексты в эмбеддинги\n",
    "    tokenized = x_train.apply(\n",
    "        lambda x: tokenizer.encode(x, add_special_tokens=True, truncation=True, max_length=256))\n",
    "\n",
    "    max_len = 0\n",
    "    for i in tokenized.values:\n",
    "        if len(i) > max_len:\n",
    "            max_len = len(i)\n",
    "\n",
    "    padded = np.array([i + [0]*(max_len - len(i)) for i in tokenized.values])\n",
    "\n",
    "    attention_mask = np.where(padded != 0, 1, 0)\n",
    "\n",
    "    # сделаем цикл по батчам. Отображать прогресс будет функция notebook()\n",
    "    batch_size = 100\n",
    "    # сделаем пустой список для хранения эмбеддингов твитов\n",
    "    embeddings = []\n",
    "    for i in notebook.tqdm(range(padded.shape[0] // batch_size)):\n",
    "            # преобразуем данные\n",
    "            batch = torch.LongTensor(padded[batch_size*i:batch_size*(i+1)]) \n",
    "            # преобразуем маску\n",
    "            attention_mask_batch = torch.LongTensor(attention_mask[batch_size*i:batch_size*(i+1)])\n",
    "            \n",
    "            # для ускорения вычисления функцией no_grad()\n",
    "            with torch.no_grad():\n",
    "                # получим эмбеддинги для батча\n",
    "                batch_embeddings = model(batch, attention_mask=attention_mask_batch)\n",
    "            \n",
    "            # из полученного тензора извлечём нужные элементы и добавим в список всех эмбеддингов\n",
    "            embeddings.append(batch_embeddings[0][:,0,:].numpy())\n",
    "    return embeddings        "
   ]
  },
  {
   "cell_type": "markdown",
   "metadata": {
    "id": "c7XA_Hm1iies"
   },
   "source": [
    "<div class=\"alert alert-success\">\n",
    "<h2> Комментарий ревьюера <a class=\"tocSkip\"> </h2>\n",
    "<hr>\n",
    "<b>Верно!👍:</b> Всё корректно, есть маска и паддинг проведён.\n",
    "</div>\n"
   ]
  },
  {
   "cell_type": "code",
   "execution_count": null,
   "metadata": {
    "executionInfo": {
     "elapsed": 55,
     "status": "aborted",
     "timestamp": 1656108819278,
     "user": {
      "displayName": "Elena Shulga",
      "userId": "03246642174840672951"
     },
     "user_tz": -180
    },
    "id": "9Fm3fhGj0bpj"
   },
   "outputs": [],
   "source": [
    "features = np.concatenate(get_embeddings(features_train2)) "
   ]
  },
  {
   "cell_type": "code",
   "execution_count": null,
   "metadata": {
    "executionInfo": {
     "elapsed": 56,
     "status": "aborted",
     "timestamp": 1656108819279,
     "user": {
      "displayName": "Elena Shulga",
      "userId": "03246642174840672951"
     },
     "user_tz": -180
    },
    "id": "soutFQyE8ID2"
   },
   "outputs": [],
   "source": [
    "print(features.shape, target_train2.shape)"
   ]
  },
  {
   "cell_type": "code",
   "execution_count": null,
   "metadata": {
    "executionInfo": {
     "elapsed": 56,
     "status": "aborted",
     "timestamp": 1656108819280,
     "user": {
      "displayName": "Elena Shulga",
      "userId": "03246642174840672951"
     },
     "user_tz": -180
    },
    "id": "d4353soy0dpN"
   },
   "outputs": [],
   "source": [
    "# LogisticRegression\n",
    "model_ = LogisticRegression(solver='lbfgs', max_iter=1000)\n",
    "model_.fit(features, target_train2)"
   ]
  },
  {
   "cell_type": "markdown",
   "metadata": {
    "id": "Hp-G299Giiet"
   },
   "source": [
    "<div class=\"alert alert-warning\">\n",
    "    <h2> Комментарий ревьюера <a class=\"tocSkip\"> </h2>\n",
    "<hr>    \n",
    "<b>Совет💡:</b> Стоит ли здесь что-то добавить важное, о чём мы говорили ранее?\n",
    "</div></div>"
   ]
  },
  {
   "cell_type": "markdown",
   "metadata": {
    "id": "AtuQH9efVrsc"
   },
   "source": [
    "<div class=\"alert alert-info\">\n",
    "    <h2> Комментарий студента <a class=\"tocSkip\"> </a></h2>\n",
    "<hr>    \n",
    "    Ты имеешь в виду добавление POS-тегов?\n",
    "</div></div>"
   ]
  },
  {
   "cell_type": "markdown",
   "metadata": {
    "id": "RCwZhmwsVrsc"
   },
   "source": [
    "<div class=\"alert alert-warning\">\n",
    "    <h2> Комментарий ревьюера v2<a class=\"tocSkip\"> </h2>\n",
    "<hr>    \n",
    "<b>Совет💡:</b> Я про работу с дисбалансом.\n",
    "<hr>\n",
    "Можно ещё тестовую выборку немного уменьшить, учитывая, что данных мало, она очень большая получилась. При этом стоит проверить баланс классов в частях или использовать <code>stratify</code> для <code>train_test_split</code>.\n",
    "</div></div>"
   ]
  },
  {
   "cell_type": "markdown",
   "metadata": {},
   "source": [
    "<div class=\"alert alert-warning\">\n",
    "    <h2> Комментарий ревьюера v3<a class=\"tocSkip\"> </h2>\n",
    "<hr>    \n",
    "<b>Совет💡:</b> Тут также можно учесть дисбаланс классов, а для модели подобрать гиперпараметры. Это позволит ещё улучшить качество.\n",
    "</div></div>"
   ]
  },
  {
   "cell_type": "code",
   "execution_count": null,
   "metadata": {
    "executionInfo": {
     "elapsed": 57,
     "status": "aborted",
     "timestamp": 1656108819281,
     "user": {
      "displayName": "Elena Shulga",
      "userId": "03246642174840672951"
     },
     "user_tz": -180
    },
    "id": "lEX_Msmr-zKl"
   },
   "outputs": [],
   "source": [
    "test = np.concatenate(get_embeddings(features_test2)) "
   ]
  },
  {
   "cell_type": "code",
   "execution_count": null,
   "metadata": {
    "executionInfo": {
     "elapsed": 58,
     "status": "aborted",
     "timestamp": 1656108819282,
     "user": {
      "displayName": "Elena Shulga",
      "userId": "03246642174840672951"
     },
     "user_tz": -180
    },
    "id": "rXA46MVV8SBR"
   },
   "outputs": [],
   "source": [
    "predicted = model_.predict(test)\n",
    "f1_ = f1_score(target_test2, predicted).round(4)\n",
    "print(f1_)"
   ]
  },
  {
   "cell_type": "markdown",
   "metadata": {
    "id": "a9pqqp2uiiev"
   },
   "source": [
    "<div class=\"alert alert-success\">\n",
    "<h2> Комментарий ревьюера <a class=\"tocSkip\"> </h2>\n",
    "<hr>\n",
    "<b>Верно!👍:</b> Тут всё верно.\n",
    "</div>\n"
   ]
  },
  {
   "cell_type": "markdown",
   "metadata": {
    "id": "ke90Wu-vc3kV"
   },
   "source": [
    "Выводы:\n",
    "\n",
    "В первой части проекта используется метод подготовки текста для привычных алгоритмов классификации,а именно:\n",
    "- избавление от мусорных слов,\n",
    "- приведение к нижнему регистру,\n",
    "- лемматизация.\n",
    "Лучшие результаты показала модель Логистической регресии.\n",
    "\n",
    "Во второй части запустили логистическую регрессию, но данные обработаны предобученной моделью BERT. Учитывая, что во второй случае исследовалась только часть всего текста, а именно 1000 комментариев, разделенных пополам на обучающую и тестовую выборки, результат получился неплохой - 0,7174"
   ]
  },
  {
   "cell_type": "markdown",
   "metadata": {
    "id": "3jWyAco6iiev"
   },
   "source": [
    "<div class=\"alert alert-warning\">\n",
    "    <h2> Комментарий ревьюера <a class=\"tocSkip\"> </h2>\n",
    "<hr>    \n",
    "<b>Совет💡:</b> Здесь всё хорошо, но результаты первой части не совсем корректны, результаты второй части можно легко ещё немного улучшить.\n",
    "</div></div>"
   ]
  },
  {
   "cell_type": "markdown",
   "metadata": {
    "id": "5Xy9AoKdVrse"
   },
   "source": [
    "<div class=\"alert alert-info\">\n",
    "    <h2> Комментарий студента <a class=\"tocSkip\"> </a></h2>\n",
    "<hr>    \n",
    "    Со способом написания кода есть улучшения, но с результатами стало только хуже(\n",
    "</div></div>"
   ]
  },
  {
   "cell_type": "markdown",
   "metadata": {
    "id": "YKn68iJHVrsf"
   },
   "source": [
    "<div class=\"alert alert-warning\">\n",
    "    <h2> Комментарий ревьюера v2<a class=\"tocSkip\"> </h2>\n",
    "<hr>    \n",
    "<b>Совет💡:</b> Работа стала намного сильнее, а по результатам я добавил пояснения.\n",
    "</div></div>"
   ]
  },
  {
   "cell_type": "markdown",
   "metadata": {
    "id": "WLcA3p0OZocF"
   },
   "source": [
    "## Чек-лист проверки"
   ]
  },
  {
   "cell_type": "markdown",
   "metadata": {
    "id": "WzAkiwP0ZocG"
   },
   "source": [
    "- [x]  Jupyter Notebook открыт\n",
    "- [x]  Весь код выполняется без ошибок\n",
    "- [x]  Ячейки с кодом расположены в порядке исполнения\n",
    "- [x]  Данные загружены и подготовлены\n",
    "- [x]  Модели обучены\n",
    "- [x]  Значение метрики *F1* не меньше 0.75\n",
    "- [x]  Выводы написаны"
   ]
  },
  {
   "cell_type": "markdown",
   "metadata": {
    "id": "v0QHaITpiidw"
   },
   "source": [
    "<div class=\"p-3 mb-2 bg-primary text-white\">\n",
    "Привет, Елена!\n",
    "    \n",
    "<br/>    \n",
    "Меня зовут Сергей Комаров, я буду проверять твой проект по теме «Обработка естественного языка», постараемся вместе сделать его ещё лучше. Предлагаю обращаться к друг другу на «ты», если для тебя это будет комфортно. Иначе дай знать, и мы сразу перейдём на «вы».\n",
    "    \n",
    "<details>\n",
    "\t<summary><u>Инструкция по организационным мометнам (кликабельно)</u></summary>\n",
    "Чтобы тебе было легче найти мои комментарии в тексте, они выделены <code><font color='green'>зеленым</font></code>, <font color='gold'>жёлтым</font> и <code><font color='red'>красным</font></code> цветами, в зависимости от ситуации:\n",
    "\n",
    "<br/>\n",
    "\n",
    "<div class=\"alert alert-success\">\n",
    "<h2> Комментарий ревьюера <a class=\"tocSkip\"> </h2>\n",
    "<hr>\n",
    "<b>Верно!👍:</b> Так обозначены комментарии к полностью корректным решениям.\n",
    "</div>\n",
    "\n",
    "<br/>\n",
    "\n",
    "<div class=\"alert alert-warning\">\n",
    "    <h2> Комментарий ревьюера <a class=\"tocSkip\"> </h2>\n",
    "<hr>    \n",
    "<b>Совет💡:</b> Так будут обозначены рекомендации, следуя которым можно улучшить решение.\n",
    "</div>\n",
    "\n",
    "\n",
    "<br/>\n",
    "\n",
    "<div class=\"alert alert-block alert-danger\">\n",
    "<h2> Комментарий ревьюера <a class=\"tocSkip\"></h2>\n",
    "<hr>  \n",
    "<b>Обрати внимание🤔:</b> Так будут обозначены важные замечания, требующие доработки проекта. Без их устранения проект не может быть принят. \n",
    "</div>\n",
    "\n",
    "<br/>\n",
    "    \n",
    "Попрошу тебя придерживаться некоторых несложных правил, **всё это поможет нам работать над проектом оперативнее и с большей пользой для тебя**:\n",
    "\n",
    "Если ты вносишь какие-то правки в проект по результатам ревью, отвечаешь на мой комментарий или задаёшь вопрос, обозначай это в тексте любым способом, который тебе понравится, главное, чтобы твои комментарии визуально выделялись и при этом были хорошо отличимы от моих. Например, можешь делать это так:\n",
    "    \n",
    "<br/>\n",
    "    \n",
    "<div class=\"alert alert-info\">\n",
    "<h2> Комментарий студента<a class=\"tocSkip\"></h2>\n",
    "<hr>  \n",
    "    Здесь мог<s>ла быть Ваша реклама</s> быть твой комментарий :)\n",
    "</div>\n",
    "    \n",
    "```HTML\n",
    "<div class=\"alert alert-info\">\n",
    "<h2> Комментарий студента<a class=\"tocSkip\"></h2>\n",
    "<hr>  \n",
    "    Здесь мог<s>ла быть Ваша реклама</s> быть твой комментарий :)\n",
    "</div>\n",
    "```\n",
    "        \n",
    "<br/>\n",
    "    \n",
    "Пожалуйста, не удаляй и не перемещай ячейки с моими комментариями, а также не меняй их содержание;\n",
    "\n",
    "<br/>\n",
    "\n",
    "Помни, что у нас общая цель - подготовить тебя к успешной работе специалистом в науке о данных :)\n",
    "    \n",
    "<br/>\n",
    "    \n",
    "</details>    \n",
    "    </br>\n",
    "\n",
    "<h2> Резюме по работе <a class=\"tocSkip\"> </h2>\n",
    "    \n",
    "* Елена, видно, что тобой приложено много стараний в этой работе, рассмотрено целых два разных варианта решения! Очень радует, что ты активно используешь пользовательские функции, это хорошая рабочая практика, повторяемость кода — не очень хорошо. Молодец!\n",
    "* Сейчас в проекте есть некоторые важные моменты, которые нужно исправить, чтобы я мог зачесть работу. Все красные комментарии «Обрати внимание» требуют доработок.\n",
    "* Жду проект на повторное ревью!\n",
    "</div>"
   ]
  },
  {
   "cell_type": "markdown",
   "metadata": {},
   "source": [
    "<div class=\"alert alert-info\">\n",
    "    <h2> Комментарий студента v2<a class=\"tocSkip\"> </a></h2>\n",
    "<hr>    \n",
    "    Сергей, спасибо за море ценных советов! Я теперь вижу проект для портфолио)<br>\n",
    "    После второй проверки исправила следующее:<br>\n",
    "    - Не стала сокращать выборку для Pipeline, что привело к невероятно затяжным расчетам, но и к достаточным по условию результатам<br>\n",
    "    - Попыталась подключить правильно GPU для LGBMClassifier<br>\n",
    "    - Закомментировала Дерево решений из поиска, т.к. результаты у него совсем не радуют<br>\n",
    "    - Добавила в GridSearchCV в Pipeline гиперпараметр 'tfidfvectorizer__stop_words': [None, stop_words]<br>\n",
    "    - Сохранила модели в результирующую таблицу Pipeline и на ней проверила сырую тестовую выборку (теоретически,т.к.на практике так и не дошла до этого куска(( )<br>\n",
    "    - Случайно затерла твою картинку со стаканами(( Точнее, это сделал Colab <br>\n",
    "    \n",
    "</div></div>"
   ]
  },
  {
   "cell_type": "markdown",
   "metadata": {},
   "source": [
    "<div class=\"alert alert-success\">\n",
    "<h2> Комментарий ревьюера v3<a class=\"tocSkip\"> </h2>\n",
    "<hr>\n",
    "Супер! Ну, картинка со стаканами — это не страшно, ты её посмотрела, больше она нам не нужна. А переписку с ревьюерами обычно потом удаляют. Очень интересно работать со студентами, которые нацелены на результат и заинтересованы в качестве: многому удалось научиться и проект получился крутой :)\n",
    "    \n",
    "Дерево и лес, да, не очень хорошо подходит для задач данного класса. \n",
    "    \n",
    "Качество на тесте получилось высоким, при этом результат справедливый. Я проверил этот кусок, только поправь выборку ;) Модель, обученную на BERT-эмбеддингах можно также поднастраивать.\n",
    "    \n",
    "\n",
    "</div>\n"
   ]
  },
  {
   "cell_type": "markdown",
   "metadata": {},
   "source": [
    "<div class=\"alert alert-info\">\n",
    "    <h2> Комментарий студента v3<a class=\"tocSkip\"> </a></h2>\n",
    "<hr>    \n",
    "    Спасибо большое! Очень интересную работу провели!<br>\n",
    "    Ошибку исправила<br>\n",
    "    Еще раз спасибо за важные рекомендации!\n",
    "</div></div>"
   ]
  },
  {
   "cell_type": "code",
   "execution_count": null,
   "metadata": {},
   "outputs": [],
   "source": []
  }
 ],
 "metadata": {
  "ExecuteTimeLog": [
   {
    "duration": 44,
    "start_time": "2022-06-19T18:20:48.405Z"
   },
   {
    "duration": 7588,
    "start_time": "2022-06-19T18:20:58.660Z"
   },
   {
    "duration": 4149,
    "start_time": "2022-06-19T18:21:06.251Z"
   },
   {
    "duration": 2044,
    "start_time": "2022-06-19T18:21:10.403Z"
   },
   {
    "duration": 0,
    "start_time": "2022-06-19T18:21:12.449Z"
   },
   {
    "duration": 0,
    "start_time": "2022-06-19T18:21:12.451Z"
   },
   {
    "duration": 2108,
    "start_time": "2022-06-19T18:21:26.700Z"
   },
   {
    "duration": 18,
    "start_time": "2022-06-19T18:21:35.130Z"
   },
   {
    "duration": 232,
    "start_time": "2022-06-19T18:21:57.468Z"
   },
   {
    "duration": 14,
    "start_time": "2022-06-19T18:22:09.225Z"
   },
   {
    "duration": 179,
    "start_time": "2022-06-19T18:22:16.619Z"
   },
   {
    "duration": 193,
    "start_time": "2022-06-19T18:24:35.287Z"
   },
   {
    "duration": 192,
    "start_time": "2022-06-19T18:24:45.833Z"
   },
   {
    "duration": 212,
    "start_time": "2022-06-19T18:25:22.993Z"
   },
   {
    "duration": 224,
    "start_time": "2022-06-19T18:25:47.392Z"
   },
   {
    "duration": 196,
    "start_time": "2022-06-19T18:26:01.105Z"
   },
   {
    "duration": 2100,
    "start_time": "2022-06-19T19:33:17.440Z"
   },
   {
    "duration": 2298,
    "start_time": "2022-06-19T19:33:19.542Z"
   },
   {
    "duration": 39,
    "start_time": "2022-06-19T19:33:21.843Z"
   },
   {
    "duration": 0,
    "start_time": "2022-06-19T19:33:21.889Z"
   },
   {
    "duration": 0,
    "start_time": "2022-06-19T19:33:21.891Z"
   },
   {
    "duration": 0,
    "start_time": "2022-06-19T19:33:21.892Z"
   },
   {
    "duration": 0,
    "start_time": "2022-06-19T19:33:21.894Z"
   },
   {
    "duration": 0,
    "start_time": "2022-06-19T19:33:21.895Z"
   },
   {
    "duration": 1,
    "start_time": "2022-06-19T19:33:21.896Z"
   },
   {
    "duration": 0,
    "start_time": "2022-06-19T19:33:21.898Z"
   },
   {
    "duration": 0,
    "start_time": "2022-06-19T19:33:21.900Z"
   },
   {
    "duration": 1647,
    "start_time": "2022-06-20T14:28:52.522Z"
   },
   {
    "duration": 4,
    "start_time": "2022-06-22T20:42:15.753Z"
   },
   {
    "duration": 7020,
    "start_time": "2022-06-23T14:35:00.520Z"
   },
   {
    "duration": 3859,
    "start_time": "2022-06-23T14:35:07.542Z"
   },
   {
    "duration": 1939,
    "start_time": "2022-06-23T14:35:11.547Z"
   },
   {
    "duration": 89380,
    "start_time": "2022-06-23T14:35:39.302Z"
   },
   {
    "duration": 0,
    "start_time": "2022-06-23T14:37:08.684Z"
   },
   {
    "duration": 70,
    "start_time": "2022-06-23T14:37:49.318Z"
   },
   {
    "duration": 2647,
    "start_time": "2022-06-23T14:38:23.190Z"
   },
   {
    "duration": 264,
    "start_time": "2022-06-23T14:38:28.104Z"
   },
   {
    "duration": 1576,
    "start_time": "2022-06-23T14:38:35.801Z"
   },
   {
    "duration": 2843,
    "start_time": "2022-06-23T14:38:42.192Z"
   },
   {
    "duration": 18,
    "start_time": "2022-06-23T14:38:47.147Z"
   },
   {
    "duration": 238,
    "start_time": "2022-06-23T14:38:56.290Z"
   },
   {
    "duration": 18,
    "start_time": "2022-06-23T14:38:59.291Z"
   },
   {
    "duration": 7,
    "start_time": "2022-06-23T14:39:00.403Z"
   },
   {
    "duration": 4,
    "start_time": "2022-06-23T14:39:04.994Z"
   },
   {
    "duration": 3,
    "start_time": "2022-06-23T14:39:06.736Z"
   },
   {
    "duration": 4,
    "start_time": "2022-06-23T14:39:08.424Z"
   },
   {
    "duration": 35615,
    "start_time": "2022-06-23T14:39:11.796Z"
   },
   {
    "duration": 8,
    "start_time": "2022-06-23T14:40:11.655Z"
   },
   {
    "duration": 5,
    "start_time": "2022-06-23T14:40:12.693Z"
   },
   {
    "duration": 4,
    "start_time": "2022-06-23T14:40:16.690Z"
   },
   {
    "duration": 223,
    "start_time": "2022-06-23T14:40:17.518Z"
   },
   {
    "duration": 2,
    "start_time": "2022-06-23T14:40:24.610Z"
   },
   {
    "duration": 4,
    "start_time": "2022-06-23T14:40:25.347Z"
   },
   {
    "duration": 3,
    "start_time": "2022-06-23T14:40:28.126Z"
   },
   {
    "duration": 2,
    "start_time": "2022-06-23T14:40:28.394Z"
   },
   {
    "duration": 3,
    "start_time": "2022-06-23T14:40:28.653Z"
   },
   {
    "duration": 3,
    "start_time": "2022-06-23T14:40:28.897Z"
   },
   {
    "duration": 3,
    "start_time": "2022-06-23T14:40:29.248Z"
   },
   {
    "duration": 2,
    "start_time": "2022-06-23T14:40:29.639Z"
   },
   {
    "duration": 2,
    "start_time": "2022-06-23T14:40:29.955Z"
   },
   {
    "duration": 3,
    "start_time": "2022-06-23T14:40:30.235Z"
   },
   {
    "duration": 3,
    "start_time": "2022-06-23T14:40:30.516Z"
   },
   {
    "duration": 3,
    "start_time": "2022-06-23T14:40:30.836Z"
   },
   {
    "duration": 2,
    "start_time": "2022-06-23T14:40:31.193Z"
   },
   {
    "duration": 3,
    "start_time": "2022-06-23T14:40:32.065Z"
   },
   {
    "duration": 6,
    "start_time": "2022-06-23T14:40:33.155Z"
   },
   {
    "duration": 4091154,
    "start_time": "2022-06-23T14:40:35.166Z"
   },
   {
    "duration": 12,
    "start_time": "2022-06-23T15:48:46.321Z"
   },
   {
    "duration": 11,
    "start_time": "2022-06-23T16:09:27.763Z"
   },
   {
    "duration": 13,
    "start_time": "2022-06-23T16:09:51.690Z"
   },
   {
    "duration": 2878,
    "start_time": "2022-06-23T16:11:06.373Z"
   },
   {
    "duration": 7262,
    "start_time": "2022-06-24T23:07:21.103Z"
   },
   {
    "duration": 4131,
    "start_time": "2022-06-24T23:07:28.368Z"
   },
   {
    "duration": 54030,
    "start_time": "2022-06-24T23:07:32.501Z"
   },
   {
    "duration": 0,
    "start_time": "2022-06-24T23:08:26.534Z"
   },
   {
    "duration": 0,
    "start_time": "2022-06-24T23:08:26.535Z"
   },
   {
    "duration": 0,
    "start_time": "2022-06-24T23:08:26.536Z"
   },
   {
    "duration": 0,
    "start_time": "2022-06-24T23:08:26.537Z"
   },
   {
    "duration": 0,
    "start_time": "2022-06-24T23:08:26.538Z"
   },
   {
    "duration": 0,
    "start_time": "2022-06-24T23:08:26.539Z"
   },
   {
    "duration": 0,
    "start_time": "2022-06-24T23:08:26.540Z"
   },
   {
    "duration": 0,
    "start_time": "2022-06-24T23:08:26.541Z"
   },
   {
    "duration": 0,
    "start_time": "2022-06-24T23:08:26.542Z"
   },
   {
    "duration": 0,
    "start_time": "2022-06-24T23:08:26.543Z"
   },
   {
    "duration": 0,
    "start_time": "2022-06-24T23:08:26.545Z"
   },
   {
    "duration": 0,
    "start_time": "2022-06-24T23:08:26.546Z"
   },
   {
    "duration": 0,
    "start_time": "2022-06-24T23:08:26.546Z"
   },
   {
    "duration": 0,
    "start_time": "2022-06-24T23:08:26.547Z"
   },
   {
    "duration": 1,
    "start_time": "2022-06-24T23:08:26.548Z"
   },
   {
    "duration": 0,
    "start_time": "2022-06-24T23:08:26.550Z"
   },
   {
    "duration": 0,
    "start_time": "2022-06-24T23:08:26.550Z"
   },
   {
    "duration": 0,
    "start_time": "2022-06-24T23:08:26.552Z"
   },
   {
    "duration": 0,
    "start_time": "2022-06-24T23:08:26.553Z"
   },
   {
    "duration": 0,
    "start_time": "2022-06-24T23:08:26.554Z"
   },
   {
    "duration": 0,
    "start_time": "2022-06-24T23:08:26.555Z"
   },
   {
    "duration": 0,
    "start_time": "2022-06-24T23:08:26.556Z"
   },
   {
    "duration": 0,
    "start_time": "2022-06-24T23:08:26.557Z"
   },
   {
    "duration": 0,
    "start_time": "2022-06-24T23:08:26.558Z"
   },
   {
    "duration": 0,
    "start_time": "2022-06-24T23:08:26.559Z"
   },
   {
    "duration": 0,
    "start_time": "2022-06-24T23:08:26.560Z"
   },
   {
    "duration": 0,
    "start_time": "2022-06-24T23:08:26.561Z"
   },
   {
    "duration": 0,
    "start_time": "2022-06-24T23:08:26.562Z"
   },
   {
    "duration": 0,
    "start_time": "2022-06-24T23:08:26.563Z"
   },
   {
    "duration": 0,
    "start_time": "2022-06-24T23:08:26.564Z"
   },
   {
    "duration": 0,
    "start_time": "2022-06-24T23:08:26.566Z"
   },
   {
    "duration": 0,
    "start_time": "2022-06-24T23:08:26.566Z"
   },
   {
    "duration": 0,
    "start_time": "2022-06-24T23:08:26.568Z"
   },
   {
    "duration": 0,
    "start_time": "2022-06-24T23:08:26.568Z"
   },
   {
    "duration": 0,
    "start_time": "2022-06-24T23:08:26.626Z"
   },
   {
    "duration": 0,
    "start_time": "2022-06-24T23:08:26.627Z"
   },
   {
    "duration": 0,
    "start_time": "2022-06-24T23:08:26.628Z"
   },
   {
    "duration": 0,
    "start_time": "2022-06-24T23:08:26.629Z"
   },
   {
    "duration": 0,
    "start_time": "2022-06-24T23:08:26.630Z"
   },
   {
    "duration": 0,
    "start_time": "2022-06-24T23:08:26.631Z"
   },
   {
    "duration": 0,
    "start_time": "2022-06-24T23:08:26.633Z"
   },
   {
    "duration": 0,
    "start_time": "2022-06-24T23:08:26.634Z"
   },
   {
    "duration": 0,
    "start_time": "2022-06-24T23:08:26.635Z"
   },
   {
    "duration": 0,
    "start_time": "2022-06-24T23:08:26.637Z"
   },
   {
    "duration": 0,
    "start_time": "2022-06-24T23:08:26.638Z"
   },
   {
    "duration": 0,
    "start_time": "2022-06-24T23:08:26.639Z"
   },
   {
    "duration": 0,
    "start_time": "2022-06-24T23:08:26.641Z"
   },
   {
    "duration": 0,
    "start_time": "2022-06-24T23:08:26.642Z"
   },
   {
    "duration": 0,
    "start_time": "2022-06-24T23:08:26.643Z"
   }
  ],
  "accelerator": "GPU",
  "colab": {
   "collapsed_sections": [],
   "name": "project.ipynb",
   "provenance": []
  },
  "gpuClass": "standard",
  "kernelspec": {
   "display_name": "Python 3 (ipykernel)",
   "language": "python",
   "name": "python3"
  },
  "language_info": {
   "codemirror_mode": {
    "name": "ipython",
    "version": 3
   },
   "file_extension": ".py",
   "mimetype": "text/x-python",
   "name": "python",
   "nbconvert_exporter": "python",
   "pygments_lexer": "ipython3",
   "version": "3.9.5"
  },
  "toc": {
   "base_numbering": 1,
   "nav_menu": {},
   "number_sections": true,
   "sideBar": true,
   "skip_h1_title": true,
   "title_cell": "Содержание",
   "title_sidebar": "Contents",
   "toc_cell": true,
   "toc_position": {
    "height": "calc(100% - 180px)",
    "left": "10px",
    "top": "150px",
    "width": "302.391px"
   },
   "toc_section_display": true,
   "toc_window_display": false
  }
 },
 "nbformat": 4,
 "nbformat_minor": 1
}
